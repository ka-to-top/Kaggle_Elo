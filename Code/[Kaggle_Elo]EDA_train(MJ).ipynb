{
 "cells": [
  {
   "cell_type": "markdown",
   "metadata": {},
   "source": [
    "# EDA\n",
    "1) train <br>\n",
    "2) merchant <br>\n",
    "3) trans <br>\n",
    "4) new_mct_trans"
   ]
  },
  {
   "cell_type": "code",
   "execution_count": 1,
   "metadata": {
    "_cell_guid": "79c7e3d0-c299-4dcb-8224-4455121ee9b0",
    "_uuid": "d629ff2d2480ee46fbb7e2d37f6b5fab8052498a"
   },
   "outputs": [
    {
     "data": {
      "text/html": [
       "        <script type=\"text/javascript\">\n",
       "        window.PlotlyConfig = {MathJaxConfig: 'local'};\n",
       "        if (window.MathJax) {MathJax.Hub.Config({SVG: {font: \"STIX-Web\"}});}\n",
       "        if (typeof require !== 'undefined') {\n",
       "        require.undef(\"plotly\");\n",
       "        requirejs.config({\n",
       "            paths: {\n",
       "                'plotly': ['https://cdn.plot.ly/plotly-latest.min']\n",
       "            }\n",
       "        });\n",
       "        require(['plotly'], function(Plotly) {\n",
       "            window._Plotly = Plotly;\n",
       "        });\n",
       "        }\n",
       "        </script>\n",
       "        "
      ]
     },
     "metadata": {},
     "output_type": "display_data"
    }
   ],
   "source": [
    "import pandas as pd\n",
    "import numpy as np\n",
    "import re\n",
    "import seaborn as sns\n",
    "import matplotlib.pyplot as plt\n",
    "plt.style.use('seaborn') # seaborn style\n",
    "sns.set(font_scale=1)\n",
    "\n",
    "import warnings\n",
    "warnings.filterwarnings('ignore')\n",
    "\n",
    "%matplotlib inline\n",
    "\n",
    "from IPython.core.interactiveshell import InteractiveShell\n",
    "InteractiveShell.ast_node_interactivity = \"all\" # 명령문 결과 다 보여주기\n",
    "\n",
    "#------------------------\n",
    "import plotly.offline as py\n",
    "py.init_notebook_mode(connected=True)\n",
    "import plotly.graph_objs as go\n",
    "import plotly.tools as tls"
   ]
  },
  {
   "cell_type": "code",
   "execution_count": 2,
   "metadata": {
    "scrolled": true
   },
   "outputs": [
    {
     "name": "stdout",
     "output_type": "stream",
     "text": [
      "['Data_Dictionary.xlsx', 'historical_transactions.csv', 'merchants.csv', 'new_merchant_transactions.csv', 'test.csv', 'train.csv']\n"
     ]
    }
   ],
   "source": [
    "import os\n",
    "print(os.listdir(\"./input\"))"
   ]
  },
  {
   "cell_type": "code",
   "execution_count": 3,
   "metadata": {},
   "outputs": [
    {
     "name": "stdout",
     "output_type": "stream",
     "text": [
      "Wall time: 393 ms\n"
     ]
    }
   ],
   "source": [
    "%%time\n",
    "train = pd.read_csv('./input/train.csv', parse_dates=[\"first_active_month\"])"
   ]
  },
  {
   "cell_type": "markdown",
   "metadata": {},
   "source": [
    "## 1. train\n",
    "0) card_id <br>\n",
    "1) first_active_month <br>\n",
    "2) target (+ y)<br>\n",
    "3) feature_1 <br>\n",
    "4) feature_2 <br>\n",
    "5) feature_3 <br>"
   ]
  },
  {
   "cell_type": "code",
   "execution_count": 4,
   "metadata": {},
   "outputs": [
    {
     "name": "stdout",
     "output_type": "stream",
     "text": [
      "<class 'pandas.core.frame.DataFrame'>\n",
      "RangeIndex: 201917 entries, 0 to 201916\n",
      "Data columns (total 6 columns):\n",
      "first_active_month    201917 non-null datetime64[ns]\n",
      "card_id               201917 non-null object\n",
      "feature_1             201917 non-null int64\n",
      "feature_2             201917 non-null int64\n",
      "feature_3             201917 non-null int64\n",
      "target                201917 non-null float64\n",
      "dtypes: datetime64[ns](1), float64(1), int64(3), object(1)\n",
      "memory usage: 9.2+ MB\n"
     ]
    }
   ],
   "source": [
    "train.info()"
   ]
  },
  {
   "cell_type": "markdown",
   "metadata": {},
   "source": [
    "결측치 없음"
   ]
  },
  {
   "cell_type": "code",
   "execution_count": 5,
   "metadata": {},
   "outputs": [
    {
     "data": {
      "text/html": [
       "<div>\n",
       "<style scoped>\n",
       "    .dataframe tbody tr th:only-of-type {\n",
       "        vertical-align: middle;\n",
       "    }\n",
       "\n",
       "    .dataframe tbody tr th {\n",
       "        vertical-align: top;\n",
       "    }\n",
       "\n",
       "    .dataframe thead th {\n",
       "        text-align: right;\n",
       "    }\n",
       "</style>\n",
       "<table border=\"1\" class=\"dataframe\">\n",
       "  <thead>\n",
       "    <tr style=\"text-align: right;\">\n",
       "      <th></th>\n",
       "      <th>first_active_month</th>\n",
       "      <th>card_id</th>\n",
       "      <th>feature_1</th>\n",
       "      <th>feature_2</th>\n",
       "      <th>feature_3</th>\n",
       "      <th>target</th>\n",
       "    </tr>\n",
       "  </thead>\n",
       "  <tbody>\n",
       "    <tr>\n",
       "      <th>0</th>\n",
       "      <td>2017-06-01</td>\n",
       "      <td>C_ID_92a2005557</td>\n",
       "      <td>5</td>\n",
       "      <td>2</td>\n",
       "      <td>1</td>\n",
       "      <td>-0.820283</td>\n",
       "    </tr>\n",
       "    <tr>\n",
       "      <th>1</th>\n",
       "      <td>2017-01-01</td>\n",
       "      <td>C_ID_3d0044924f</td>\n",
       "      <td>4</td>\n",
       "      <td>1</td>\n",
       "      <td>0</td>\n",
       "      <td>0.392913</td>\n",
       "    </tr>\n",
       "    <tr>\n",
       "      <th>2</th>\n",
       "      <td>2016-08-01</td>\n",
       "      <td>C_ID_d639edf6cd</td>\n",
       "      <td>2</td>\n",
       "      <td>2</td>\n",
       "      <td>0</td>\n",
       "      <td>0.688056</td>\n",
       "    </tr>\n",
       "    <tr>\n",
       "      <th>3</th>\n",
       "      <td>2017-09-01</td>\n",
       "      <td>C_ID_186d6a6901</td>\n",
       "      <td>4</td>\n",
       "      <td>3</td>\n",
       "      <td>0</td>\n",
       "      <td>0.142495</td>\n",
       "    </tr>\n",
       "    <tr>\n",
       "      <th>4</th>\n",
       "      <td>2017-11-01</td>\n",
       "      <td>C_ID_cdbd2c0db2</td>\n",
       "      <td>1</td>\n",
       "      <td>3</td>\n",
       "      <td>0</td>\n",
       "      <td>-0.159749</td>\n",
       "    </tr>\n",
       "  </tbody>\n",
       "</table>\n",
       "</div>"
      ],
      "text/plain": [
       "  first_active_month          card_id  feature_1  feature_2  feature_3  \\\n",
       "0         2017-06-01  C_ID_92a2005557          5          2          1   \n",
       "1         2017-01-01  C_ID_3d0044924f          4          1          0   \n",
       "2         2016-08-01  C_ID_d639edf6cd          2          2          0   \n",
       "3         2017-09-01  C_ID_186d6a6901          4          3          0   \n",
       "4         2017-11-01  C_ID_cdbd2c0db2          1          3          0   \n",
       "\n",
       "     target  \n",
       "0 -0.820283  \n",
       "1  0.392913  \n",
       "2  0.688056  \n",
       "3  0.142495  \n",
       "4 -0.159749  "
      ]
     },
     "execution_count": 5,
     "metadata": {},
     "output_type": "execute_result"
    }
   ],
   "source": [
    "train.head()"
   ]
  },
  {
   "cell_type": "markdown",
   "metadata": {},
   "source": [
    "### 0) card_id"
   ]
  },
  {
   "cell_type": "code",
   "execution_count": 6,
   "metadata": {},
   "outputs": [
    {
     "data": {
      "text/plain": [
       "201917"
      ]
     },
     "execution_count": 6,
     "metadata": {},
     "output_type": "execute_result"
    }
   ],
   "source": [
    "train['card_id'].nunique()"
   ]
  },
  {
   "cell_type": "markdown",
   "metadata": {},
   "source": [
    "### 1) first_active_month"
   ]
  },
  {
   "cell_type": "code",
   "execution_count": 8,
   "metadata": {},
   "outputs": [
    {
     "data": {
      "text/plain": [
       "<Figure size 1008x432 with 0 Axes>"
      ]
     },
     "execution_count": 8,
     "metadata": {},
     "output_type": "execute_result"
    },
    {
     "data": {
      "text/plain": [
       "<matplotlib.axes._subplots.AxesSubplot at 0x256459a9a20>"
      ]
     },
     "execution_count": 8,
     "metadata": {},
     "output_type": "execute_result"
    },
    {
     "data": {
      "text/plain": [
       "(array([ 0,  1,  2,  3,  4,  5,  6,  7,  8,  9, 10, 11, 12, 13, 14, 15, 16,\n",
       "        17, 18, 19, 20, 21, 22, 23, 24, 25, 26, 27, 28, 29, 30, 31, 32, 33,\n",
       "        34, 35, 36, 37, 38, 39, 40, 41, 42, 43, 44, 45, 46, 47, 48, 49, 50,\n",
       "        51, 52, 53, 54, 55, 56, 57, 58, 59, 60, 61, 62, 63, 64, 65, 66, 67,\n",
       "        68, 69, 70, 71, 72, 73, 74]), <a list of 75 Text xticklabel objects>)"
      ]
     },
     "execution_count": 8,
     "metadata": {},
     "output_type": "execute_result"
    },
    {
     "data": {
      "text/plain": [
       "Text(0.5,1,'First active month count in train set')"
      ]
     },
     "execution_count": 8,
     "metadata": {},
     "output_type": "execute_result"
    },
    {
     "data": {
      "text/plain": [
       "Text(0.5,0,'First active month')"
      ]
     },
     "execution_count": 8,
     "metadata": {},
     "output_type": "execute_result"
    },
    {
     "data": {
      "text/plain": [
       "Text(0,0.5,'Number of CARDs')"
      ]
     },
     "execution_count": 8,
     "metadata": {},
     "output_type": "execute_result"
    },
    {
     "data": {
      "image/png": "[encoded data removed]",
      "text/plain": [
       "<Figure size 1008x432 with 1 Axes>"
      ]
     },
     "metadata": {
      "needs_background": "light"
     },
     "output_type": "display_data"
    }
   ],
   "source": [
    "cnt_fam = train['first_active_month'].dt.date.value_counts()\n",
    "cnt_fam = cnt_fam.sort_index()\n",
    "\n",
    "plt.figure(figsize = (14,6))\n",
    "sns.barplot(cnt_fam.index, cnt_fam.values, alpha = 0.8, color = 'blue')\n",
    "plt.xticks(rotation = 90)\n",
    "plt.title('First active month count in train set')\n",
    "plt.xlabel('First active month')\n",
    "plt.ylabel('Number of CARDs')"
   ]
  },
  {
   "cell_type": "code",
   "execution_count": 7,
   "metadata": {},
   "outputs": [
    {
     "data": {
      "application/vnd.plotly.v1+json": {
       "config": {
        "linkText": "Export to plot.ly",
        "plotlyServerURL": "https://plot.ly",
        "responsive": true,
        "showLink": false
       },
       "data": [
        {
         "name": "train",
         "type": "scatter",
         "uid": "f456bd54-639e-40e7-8411-07d5a3e73211",
         "x": [
          "2011-11-01",
          "2011-12-01",
          "2012-02-01",
          "2012-03-01",
          "2012-04-01",
          "2012-05-01",
          "2012-06-01",
          "2012-07-01",
          "2012-08-01",
          "2012-09-01",
          "2012-10-01",
          "2012-11-01",
          "2012-12-01",
          "2013-01-01",
          "2013-02-01",
          "2013-03-01",
          "2013-04-01",
          "2013-05-01",
          "2013-06-01",
          "2013-07-01",
          "2013-08-01",
          "2013-09-01",
          "2013-10-01",
          "2013-11-01",
          "2013-12-01",
          "2014-01-01",
          "2014-02-01",
          "2014-03-01",
          "2014-04-01",
          "2014-05-01",
          "2014-06-01",
          "2014-07-01",
          "2014-08-01",
          "2014-09-01",
          "2014-10-01",
          "2014-11-01",
          "2014-12-01",
          "2015-01-01",
          "2015-02-01",
          "2015-03-01",
          "2015-04-01",
          "2015-05-01",
          "2015-06-01",
          "2015-07-01",
          "2015-08-01",
          "2015-09-01",
          "2015-10-01",
          "2015-11-01",
          "2015-12-01",
          "2016-01-01",
          "2016-02-01",
          "2016-03-01",
          "2016-04-01",
          "2016-05-01",
          "2016-06-01",
          "2016-07-01",
          "2016-08-01",
          "2016-09-01",
          "2016-10-01",
          "2016-11-01",
          "2016-12-01",
          "2017-01-01",
          "2017-02-01",
          "2017-03-01",
          "2017-04-01",
          "2017-05-01",
          "2017-06-01",
          "2017-07-01",
          "2017-08-01",
          "2017-09-01",
          "2017-10-01",
          "2017-11-01",
          "2017-12-01",
          "2018-01-01",
          "2018-02-01"
         ],
         "y": [
          8,
          2,
          7,
          10,
          18,
          28,
          19,
          29,
          36,
          38,
          31,
          48,
          18,
          23,
          37,
          58,
          58,
          94,
          79,
          110,
          126,
          121,
          126,
          132,
          165,
          144,
          198,
          242,
          352,
          431,
          345,
          407,
          399,
          431,
          476,
          481,
          617,
          533,
          526,
          608,
          733,
          918,
          1104,
          1393,
          1376,
          1494,
          1532,
          1582,
          2343,
          1711,
          1636,
          2005,
          2938,
          3314,
          4102,
          4188,
          4977,
          4410,
          5371,
          7222,
          9403,
          9605,
          8110,
          8271,
          8761,
          9168,
          9930,
          12363,
          13638,
          13878,
          13695,
          12930,
          10170,
          34,
          1
         ]
        }
       ],
       "layout": {
        "title": {
         "text": "Counts of first active"
        },
        "xaxis": {
         "title": {
          "text": "Month"
         }
        },
        "yaxis": {
         "title": {
          "text": "Count"
         }
        }
       }
      },
      "text/html": [
       "<div>\n",
       "        \n",
       "        \n",
       "            <div id=\"6d9e0b49-f8e5-407a-8cfe-d713ecce54c1\" class=\"plotly-graph-div\" style=\"height:525px; width:100%;\"></div>\n",
       "            <script type=\"text/javascript\">\n",
       "                require([\"plotly\"], function(Plotly) {\n",
       "                    window.PLOTLYENV=window.PLOTLYENV || {};\n",
       "                    window.PLOTLYENV.BASE_URL='https://plot.ly';\n",
       "                    \n",
       "                if (document.getElementById(\"6d9e0b49-f8e5-407a-8cfe-d713ecce54c1\")) {\n",
       "                    Plotly.newPlot(\n",
       "                        '6d9e0b49-f8e5-407a-8cfe-d713ecce54c1',\n",
       "                        [{\"name\": \"train\", \"type\": \"scatter\", \"uid\": \"6c23b7b5-5eac-4560-a635-b11f8ea09c3b\", \"x\": [\"2011-11-01\", \"2011-12-01\", \"2012-02-01\", \"2012-03-01\", \"2012-04-01\", \"2012-05-01\", \"2012-06-01\", \"2012-07-01\", \"2012-08-01\", \"2012-09-01\", \"2012-10-01\", \"2012-11-01\", \"2012-12-01\", \"2013-01-01\", \"2013-02-01\", \"2013-03-01\", \"2013-04-01\", \"2013-05-01\", \"2013-06-01\", \"2013-07-01\", \"2013-08-01\", \"2013-09-01\", \"2013-10-01\", \"2013-11-01\", \"2013-12-01\", \"2014-01-01\", \"2014-02-01\", \"2014-03-01\", \"2014-04-01\", \"2014-05-01\", \"2014-06-01\", \"2014-07-01\", \"2014-08-01\", \"2014-09-01\", \"2014-10-01\", \"2014-11-01\", \"2014-12-01\", \"2015-01-01\", \"2015-02-01\", \"2015-03-01\", \"2015-04-01\", \"2015-05-01\", \"2015-06-01\", \"2015-07-01\", \"2015-08-01\", \"2015-09-01\", \"2015-10-01\", \"2015-11-01\", \"2015-12-01\", \"2016-01-01\", \"2016-02-01\", \"2016-03-01\", \"2016-04-01\", \"2016-05-01\", \"2016-06-01\", \"2016-07-01\", \"2016-08-01\", \"2016-09-01\", \"2016-10-01\", \"2016-11-01\", \"2016-12-01\", \"2017-01-01\", \"2017-02-01\", \"2017-03-01\", \"2017-04-01\", \"2017-05-01\", \"2017-06-01\", \"2017-07-01\", \"2017-08-01\", \"2017-09-01\", \"2017-10-01\", \"2017-11-01\", \"2017-12-01\", \"2018-01-01\", \"2018-02-01\"], \"y\": [8, 2, 7, 10, 18, 28, 19, 29, 36, 38, 31, 48, 18, 23, 37, 58, 58, 94, 79, 110, 126, 121, 126, 132, 165, 144, 198, 242, 352, 431, 345, 407, 399, 431, 476, 481, 617, 533, 526, 608, 733, 918, 1104, 1393, 1376, 1494, 1532, 1582, 2343, 1711, 1636, 2005, 2938, 3314, 4102, 4188, 4977, 4410, 5371, 7222, 9403, 9605, 8110, 8271, 8761, 9168, 9930, 12363, 13638, 13878, 13695, 12930, 10170, 34, 1]}],\n",
       "                        {\"title\": {\"text\": \"Counts of first active\"}, \"xaxis\": {\"title\": {\"text\": \"Month\"}}, \"yaxis\": {\"title\": {\"text\": \"Count\"}}},\n",
       "                        {\"showLink\": false, \"linkText\": \"Export to plot.ly\", \"plotlyServerURL\": \"https://plot.ly\", \"responsive\": true}\n",
       "                    ).then(function(){\n",
       "                            \n",
       "var gd = document.getElementById('6d9e0b49-f8e5-407a-8cfe-d713ecce54c1');\n",
       "var x = new MutationObserver(function (mutations, observer) {{\n",
       "        var display = window.getComputedStyle(gd).display;\n",
       "        if (!display || display === 'none') {{\n",
       "            console.log([gd, 'removed!']);\n",
       "            Plotly.purge(gd);\n",
       "            observer.disconnect();\n",
       "        }}\n",
       "}});\n",
       "\n",
       "// Listen for the removal of the full notebook cells\n",
       "var notebookContainer = gd.closest('#notebook-container');\n",
       "if (notebookContainer) {{\n",
       "    x.observe(notebookContainer, {childList: true});\n",
       "}}\n",
       "\n",
       "// Listen for the clearing of the current output cell\n",
       "var outputEl = gd.closest('.output');\n",
       "if (outputEl) {{\n",
       "    x.observe(outputEl, {childList: true});\n",
       "}}\n",
       "\n",
       "                        })\n",
       "                };\n",
       "                });\n",
       "            </script>\n",
       "        </div>"
      ]
     },
     "metadata": {},
     "output_type": "display_data"
    }
   ],
   "source": [
    "# plotly 이용\n",
    "d1 = train['first_active_month'].value_counts().sort_index() # 필요한 데이터 \n",
    "data = [go.Scatter(x=d1.index, y=d1.values, name='train')]   # plotly가 사용할 수 있는 data 형태\n",
    "layout = go.Layout(dict(title = \"Counts of first active\",    # customizing\n",
    "                  xaxis = dict(title = 'Month'),\n",
    "                  yaxis = dict(title = 'Count')))\n",
    "py.iplot(dict(data=data, layout=layout))"
   ]
  },
  {
   "cell_type": "markdown",
   "metadata": {},
   "source": [
    "(plotly 그래프가 보기 좋음) <br>\n",
    "first_active_month는 2011-11부터 2018-02까지 걸쳐 분포한다. "
   ]
  },
  {
   "cell_type": "code",
   "execution_count": 10,
   "metadata": {},
   "outputs": [
    {
     "data": {
      "application/vnd.plotly.v1+json": {
       "config": {
        "linkText": "Export to plot.ly",
        "plotlyServerURL": "https://plot.ly",
        "responsive": true,
        "showLink": false
       },
       "data": [
        {
         "name": "train",
         "type": "scatter",
         "uid": "35b9c311-d8c7-4d94-9224-d50ec66fde46",
         "x": [
          "2011-11-01",
          "2011-12-01",
          "2012-02-01",
          "2012-03-01",
          "2012-04-01",
          "2012-05-01",
          "2012-06-01",
          "2012-07-01",
          "2012-08-01",
          "2012-09-01",
          "2012-10-01",
          "2012-11-01",
          "2012-12-01",
          "2013-01-01",
          "2013-02-01",
          "2013-03-01",
          "2013-04-01",
          "2013-05-01",
          "2013-06-01",
          "2013-07-01",
          "2013-08-01",
          "2013-09-01",
          "2013-10-01",
          "2013-11-01",
          "2013-12-01",
          "2014-01-01",
          "2014-02-01",
          "2014-03-01",
          "2014-04-01",
          "2014-05-01",
          "2014-06-01",
          "2014-07-01",
          "2014-08-01",
          "2014-09-01",
          "2014-10-01",
          "2014-11-01",
          "2014-12-01",
          "2015-01-01",
          "2015-02-01",
          "2015-03-01",
          "2015-04-01",
          "2015-05-01",
          "2015-06-01",
          "2015-07-01",
          "2015-08-01",
          "2015-09-01",
          "2015-10-01",
          "2015-11-01",
          "2015-12-01",
          "2016-01-01",
          "2016-02-01",
          "2016-03-01",
          "2016-04-01",
          "2016-05-01",
          "2016-06-01",
          "2016-07-01",
          "2016-08-01",
          "2016-09-01",
          "2016-10-01",
          "2016-11-01",
          "2016-12-01",
          "2017-01-01",
          "2017-02-01",
          "2017-03-01",
          "2017-04-01",
          "2017-05-01",
          "2017-06-01",
          "2017-07-01",
          "2017-08-01",
          "2017-09-01",
          "2017-10-01",
          "2017-11-01",
          "2017-12-01",
          "2018-01-01",
          "2018-02-01"
         ],
         "y": [
          8,
          10,
          17,
          27,
          45,
          73,
          92,
          121,
          157,
          195,
          226,
          274,
          292,
          315,
          352,
          410,
          468,
          562,
          641,
          751,
          877,
          998,
          1124,
          1256,
          1421,
          1565,
          1763,
          2005,
          2357,
          2788,
          3133,
          3540,
          3939,
          4370,
          4846,
          5327,
          5944,
          6477,
          7003,
          7611,
          8344,
          9262,
          10366,
          11759,
          13135,
          14629,
          16161,
          17743,
          20086,
          21797,
          23433,
          25438,
          28376,
          31690,
          35792,
          39980,
          44957,
          49367,
          54738,
          61960,
          71363,
          80968,
          89078,
          97349,
          106110,
          115278,
          125208,
          137571,
          151209,
          165087,
          178782,
          191712,
          201882,
          201916,
          201917
         ]
        }
       ],
       "layout": {
        "title": {
         "text": "Cumulative Counts of first active"
        },
        "xaxis": {
         "title": {
          "text": "Month"
         }
        },
        "yaxis": {
         "title": {
          "text": "Cumulative Count"
         }
        }
       }
      },
      "text/html": [
       "<div>\n",
       "        \n",
       "        \n",
       "            <div id=\"13fe0555-0cf9-4820-816b-b21deb60d023\" class=\"plotly-graph-div\" style=\"height:525px; width:100%;\"></div>\n",
       "            <script type=\"text/javascript\">\n",
       "                require([\"plotly\"], function(Plotly) {\n",
       "                    window.PLOTLYENV=window.PLOTLYENV || {};\n",
       "                    window.PLOTLYENV.BASE_URL='https://plot.ly';\n",
       "                    \n",
       "                if (document.getElementById(\"13fe0555-0cf9-4820-816b-b21deb60d023\")) {\n",
       "                    Plotly.newPlot(\n",
       "                        '13fe0555-0cf9-4820-816b-b21deb60d023',\n",
       "                        [{\"name\": \"train\", \"type\": \"scatter\", \"uid\": \"d9ca8fc0-191c-4e23-809c-ed0d9e4e9a50\", \"x\": [\"2011-11-01\", \"2011-12-01\", \"2012-02-01\", \"2012-03-01\", \"2012-04-01\", \"2012-05-01\", \"2012-06-01\", \"2012-07-01\", \"2012-08-01\", \"2012-09-01\", \"2012-10-01\", \"2012-11-01\", \"2012-12-01\", \"2013-01-01\", \"2013-02-01\", \"2013-03-01\", \"2013-04-01\", \"2013-05-01\", \"2013-06-01\", \"2013-07-01\", \"2013-08-01\", \"2013-09-01\", \"2013-10-01\", \"2013-11-01\", \"2013-12-01\", \"2014-01-01\", \"2014-02-01\", \"2014-03-01\", \"2014-04-01\", \"2014-05-01\", \"2014-06-01\", \"2014-07-01\", \"2014-08-01\", \"2014-09-01\", \"2014-10-01\", \"2014-11-01\", \"2014-12-01\", \"2015-01-01\", \"2015-02-01\", \"2015-03-01\", \"2015-04-01\", \"2015-05-01\", \"2015-06-01\", \"2015-07-01\", \"2015-08-01\", \"2015-09-01\", \"2015-10-01\", \"2015-11-01\", \"2015-12-01\", \"2016-01-01\", \"2016-02-01\", \"2016-03-01\", \"2016-04-01\", \"2016-05-01\", \"2016-06-01\", \"2016-07-01\", \"2016-08-01\", \"2016-09-01\", \"2016-10-01\", \"2016-11-01\", \"2016-12-01\", \"2017-01-01\", \"2017-02-01\", \"2017-03-01\", \"2017-04-01\", \"2017-05-01\", \"2017-06-01\", \"2017-07-01\", \"2017-08-01\", \"2017-09-01\", \"2017-10-01\", \"2017-11-01\", \"2017-12-01\", \"2018-01-01\", \"2018-02-01\"], \"y\": [8, 10, 17, 27, 45, 73, 92, 121, 157, 195, 226, 274, 292, 315, 352, 410, 468, 562, 641, 751, 877, 998, 1124, 1256, 1421, 1565, 1763, 2005, 2357, 2788, 3133, 3540, 3939, 4370, 4846, 5327, 5944, 6477, 7003, 7611, 8344, 9262, 10366, 11759, 13135, 14629, 16161, 17743, 20086, 21797, 23433, 25438, 28376, 31690, 35792, 39980, 44957, 49367, 54738, 61960, 71363, 80968, 89078, 97349, 106110, 115278, 125208, 137571, 151209, 165087, 178782, 191712, 201882, 201916, 201917]}],\n",
       "                        {\"title\": {\"text\": \"Cumulative Counts of first active\"}, \"xaxis\": {\"title\": {\"text\": \"Month\"}}, \"yaxis\": {\"title\": {\"text\": \"Cumulative Count\"}}},\n",
       "                        {\"showLink\": false, \"linkText\": \"Export to plot.ly\", \"plotlyServerURL\": \"https://plot.ly\", \"responsive\": true}\n",
       "                    ).then(function(){\n",
       "                            \n",
       "var gd = document.getElementById('13fe0555-0cf9-4820-816b-b21deb60d023');\n",
       "var x = new MutationObserver(function (mutations, observer) {{\n",
       "        var display = window.getComputedStyle(gd).display;\n",
       "        if (!display || display === 'none') {{\n",
       "            console.log([gd, 'removed!']);\n",
       "            Plotly.purge(gd);\n",
       "            observer.disconnect();\n",
       "        }}\n",
       "}});\n",
       "\n",
       "// Listen for the removal of the full notebook cells\n",
       "var notebookContainer = gd.closest('#notebook-container');\n",
       "if (notebookContainer) {{\n",
       "    x.observe(notebookContainer, {childList: true});\n",
       "}}\n",
       "\n",
       "// Listen for the clearing of the current output cell\n",
       "var outputEl = gd.closest('.output');\n",
       "if (outputEl) {{\n",
       "    x.observe(outputEl, {childList: true});\n",
       "}}\n",
       "\n",
       "                        })\n",
       "                };\n",
       "                });\n",
       "            </script>\n",
       "        </div>"
      ]
     },
     "metadata": {},
     "output_type": "display_data"
    }
   ],
   "source": [
    "# 누적 분포 그래프\n",
    "d2 = train['first_active_month'].value_counts().sort_index().cumsum() # 필요한 데이터 \n",
    "data = [go.Scatter(x=d1.index, y=d2.values, name='train')]   # plotly가 사용할 수 있는 data 형태\n",
    "layout = go.Layout(dict(title = \"Cumulative Counts of first active\",    # customizing\n",
    "                  xaxis = dict(title = 'Month'),\n",
    "                  yaxis = dict(title = 'Cumulative Count')))\n",
    "py.iplot(dict(data=data, layout=layout))"
   ]
  },
  {
   "cell_type": "markdown",
   "metadata": {},
   "source": [
    "2016 ~ 2017년에 first_active인 카드가 많다. <br>\n",
    "그래프의 기울기를 보면 각 시점에서 first active인 카드가 어느 정도로 증가하고 있는지 알 수 있다."
   ]
  },
  {
   "cell_type": "markdown",
   "metadata": {},
   "source": [
    "### 2) target(y-value)"
   ]
  },
  {
   "cell_type": "code",
   "execution_count": 9,
   "metadata": {},
   "outputs": [
    {
     "data": {
      "text/plain": [
       "count    201917.000000\n",
       "mean         -0.393636\n",
       "std           3.850500\n",
       "min         -33.219281\n",
       "25%          -0.883110\n",
       "50%          -0.023437\n",
       "75%           0.765453\n",
       "max          17.965068\n",
       "Name: target, dtype: float64"
      ]
     },
     "execution_count": 9,
     "metadata": {},
     "output_type": "execute_result"
    }
   ],
   "source": [
    "train.target.describe()"
   ]
  },
  {
   "cell_type": "code",
   "execution_count": 11,
   "metadata": {},
   "outputs": [
    {
     "data": {
      "text/plain": [
       "<matplotlib.axes._subplots.AxesSubplot at 0x25645c2d160>"
      ]
     },
     "execution_count": 11,
     "metadata": {},
     "output_type": "execute_result"
    },
    {
     "data": {
      "image/png": "[encoded data removed]",
      "text/plain": [
       "<Figure size 432x288 with 1 Axes>"
      ]
     },
     "metadata": {
      "needs_background": "light"
     },
     "output_type": "display_data"
    }
   ],
   "source": [
    "sns.boxplot(data=train, y='target')"
   ]
  },
  {
   "cell_type": "markdown",
   "metadata": {},
   "source": [
    "거의 대부분이 0 근처에 몰려있다.~~이를 통해 두 가지 가설을 세울 수 있다. <br>\n",
    "첫째, target(충성도)이 매우 섬세한 변수라서 0.XX의 작은 값도 생각보다 큰 값을 의미하거나, <br>\n",
    "둘째, 대부분의 고객이 그닥 충성도가 높지 않은 상황이거나. <br>\n",
    "어느 정도가 되야 충성도가 높은 것이고 어느 정도가 낮은 것인지 모르겠어서 좀 더 살펴봐야 할 것 같다. <br>~~\n",
    "<br>\n",
    "한 가지 눈에 띄는 것은 -30보다 작은 충성도가 outlier처럼 존재한다는 것이다. -30보다 작은 값을 살펴보자."
   ]
  },
  {
   "cell_type": "code",
   "execution_count": 12,
   "metadata": {},
   "outputs": [
    {
     "data": {
      "text/plain": [
       "-33.219281    2207\n",
       "Name: target, dtype: int64"
      ]
     },
     "execution_count": 12,
     "metadata": {},
     "output_type": "execute_result"
    }
   ],
   "source": [
    "train[train['target'] < -30].target.value_counts()"
   ]
  },
  {
   "cell_type": "markdown",
   "metadata": {},
   "source": [
    "~~target이 -30보다 작은 경우는 2207개로 전체데이터 201917의 약 1%에 해당한다. <br> \n",
    "그리고 그 값은 모두 -33.219281로 같다. <br>\n",
    "2207개의 값이 소수점까지 일치하는 사실은 정말정말 이상한데, 필립은 target을 예측하기 힘들만큼 독립변수가 주어지지 않은 경우에 '충성도 알 수 없음'을 대체한 값이라고 주장한다.\n",
    "그에 대한 자세한 내용은 https://github.com/ka-to-top/Kaggle_Elo/blob/master/Code/%5BKaggle_Elo%5DEDA%20for%20Train(Philip).ipynb 에 있다.<br>\n",
    "<br>\n",
    "그렇다면 -33.219281을 제외한 나머지 target(99%)의 분포를 살펴보자.~~"
   ]
  },
  {
   "cell_type": "markdown",
   "metadata": {},
   "source": [
    "-33.219281이라는 숫자가 똑같이 일치하는 것이 이상하다. 이를 통해 target이라는 변수는 실제 loyalty가 아니고, loyalty에 어떤 처리를 한 값이라고 생각할 수 있다. <br>\n",
    "만약 $target=loyalty+(-33.219281)$로 만들어졌다면 loyalty=0일 때 -33.219281이 결과로 나타날 수 있다. <br>\n",
    "<br>\n",
    "다른 커널을 참고해서 target이 loyalty에 어떤 변환을 해준 것인지 알아낼 수 있었다. <br>\n",
    "https://www.kaggle.com/raddar/towards-de-annymizing-the-data-some-insights <br>\n",
    "$target=log_2(loyalty+0.0000000001)$ 이고 loyalty=0이면 $target=log_2(0.0000000001)=-33.2192809...$이 된다. <br>\n",
    "따라서, 우리는 $y=2**target$인 y를 새로 정의해서 y를 종속변수로 바꿔서 예측할 수도 있다. <br>\n",
    "`target`과 `y`중 종속변수로 더 적합한 것은 무엇일까? <br> \n",
    "`y`의 분포부터 살펴보자."
   ]
  },
  {
   "cell_type": "code",
   "execution_count": 13,
   "metadata": {},
   "outputs": [],
   "source": [
    "# <target 전체 분포 vs. -30보다 작은 target 제거한 경우의 분포> 비교\n",
    "# * 참고) kurtosis는 뾰족한 정도가 아니라 outlier가 있는지 없는지 판단하는 기준으로 사용한다.\n",
    "\n",
    "#train_df = train[train['target'] > -30]\n",
    "\n",
    "#fig, axes = plt.subplots(2, 1, figsize=(14,10))\n",
    "#sns.kdeplot(data=train['target'], shade=True, ax=axes[0]).set_title('All targets')\n",
    "#sns.kdeplot(data=train_df['target'], shade=True, ax=axes[1]).set_title('Removed less than -30')\n",
    "#plt.xlabel('targets')\n",
    "#print('The kurtosis of first graph(All targets) is {}'.format(train['target'].kurtosis()))\n",
    "#print('The kuttosis of second train(Removed less than -30) is {}'.format(train_df['target'].kurtosis()))"
   ]
  },
  {
   "cell_type": "code",
   "execution_count": 14,
   "metadata": {},
   "outputs": [],
   "source": [
    "train['y'] = 2**train['target']"
   ]
  },
  {
   "cell_type": "code",
   "execution_count": 15,
   "metadata": {},
   "outputs": [
    {
     "data": {
      "text/plain": [
       "count    2.019170e+05\n",
       "mean     6.820184e+00\n",
       "std      7.775483e+02\n",
       "min      1.000000e-10\n",
       "25%      5.421973e-01\n",
       "50%      9.838860e-01\n",
       "75%      1.699904e+00\n",
       "max      2.558730e+05\n",
       "Name: y, dtype: float64"
      ]
     },
     "execution_count": 15,
     "metadata": {},
     "output_type": "execute_result"
    }
   ],
   "source": [
    "train['y'].describe()"
   ]
  },
  {
   "cell_type": "code",
   "execution_count": 21,
   "metadata": {},
   "outputs": [
    {
     "data": {
      "text/plain": [
       "-17.60814651"
      ]
     },
     "execution_count": 21,
     "metadata": {},
     "output_type": "execute_result"
    },
    {
     "data": {
      "text/plain": [
       "-33.219280948873624"
      ]
     },
     "execution_count": 21,
     "metadata": {},
     "output_type": "execute_result"
    }
   ],
   "source": [
    "x = train[train['y'] != train['y'].min()]['y'].min() # 0.000005\n",
    "np.log2(x)\n",
    "np.log2(0+0.0000000001)"
   ]
  },
  {
   "cell_type": "code",
   "execution_count": 19,
   "metadata": {},
   "outputs": [
    {
     "data": {
      "text/plain": [
       "Text(0.5,1,'Distribution of y(before processing)')"
      ]
     },
     "execution_count": 19,
     "metadata": {},
     "output_type": "execute_result"
    },
    {
     "data": {
      "text/plain": [
       "Text(0.5,1,'Boxplot of y(before processing)')"
      ]
     },
     "execution_count": 19,
     "metadata": {},
     "output_type": "execute_result"
    },
    {
     "data": {
      "text/plain": [
       "(0, 10)"
      ]
     },
     "execution_count": 19,
     "metadata": {},
     "output_type": "execute_result"
    },
    {
     "data": {
      "text/plain": [
       "(0, 5)"
      ]
     },
     "execution_count": 19,
     "metadata": {},
     "output_type": "execute_result"
    },
    {
     "data": {
      "image/png": "[encoded data removed]",
      "text/plain": [
       "<Figure size 1728x720 with 4 Axes>"
      ]
     },
     "metadata": {
      "needs_background": "light"
     },
     "output_type": "display_data"
    }
   ],
   "source": [
    "fig, axes = plt.subplots(4, 1, figsize=(24,10))\n",
    "sns.distplot(train['y'], ax=axes[0]).set_title('Distribution of y(before processing)')\n",
    "sns.boxplot(x=train['y'], ax=axes[1]).set_title('Boxplot of y(before processing)')\n",
    "sns.boxplot(x=train['y'], ax=axes[2]).set_xlim(0,10)\n",
    "sns.boxplot(x=train['y'], ax=axes[3]).set_xlim(0,5)"
   ]
  },
  {
   "cell_type": "markdown",
   "metadata": {},
   "source": [
    "`y`는 `target`에 비해 직관적으로 받아들여져서 해석하기 좋다. <br>\n",
    "그러나 `target`이 0주변에 몰렸던 것 처럼 `y`도 1주변에 값이 몰려있고, 분산이 너무 커진다는 단점이 있다. <br>\n",
    "`target`과 `y` 중에 더 적합한 종속변수는 무엇일지 더 생각해보자."
   ]
  },
  {
   "cell_type": "markdown",
   "metadata": {},
   "source": [
    "~~**train data 변경**~~"
   ]
  },
  {
   "cell_type": "markdown",
   "metadata": {},
   "source": [
    "~~이제 train은 train대신 outlier target이 제거된 train_df를 사용하겠다.~~"
   ]
  },
  {
   "cell_type": "markdown",
   "metadata": {},
   "source": [
    "### 3,4,5) feature1/2/3"
   ]
  },
  {
   "cell_type": "code",
   "execution_count": 16,
   "metadata": {},
   "outputs": [
    {
     "data": {
      "text/plain": [
       "3    73573\n",
       "2    55797\n",
       "5    40625\n",
       "4    19885\n",
       "1    12037\n",
       "Name: feature_1, dtype: int64"
      ]
     },
     "execution_count": 16,
     "metadata": {},
     "output_type": "execute_result"
    },
    {
     "data": {
      "text/plain": [
       "1    89242\n",
       "2    74839\n",
       "3    37836\n",
       "Name: feature_2, dtype: int64"
      ]
     },
     "execution_count": 16,
     "metadata": {},
     "output_type": "execute_result"
    },
    {
     "data": {
      "text/plain": [
       "1    114198\n",
       "0     87719\n",
       "Name: feature_3, dtype: int64"
      ]
     },
     "execution_count": 16,
     "metadata": {},
     "output_type": "execute_result"
    }
   ],
   "source": [
    "train.feature_1.value_counts()\n",
    "train.feature_2.value_counts()\n",
    "train.feature_3.value_counts()"
   ]
  },
  {
   "cell_type": "markdown",
   "metadata": {},
   "source": [
    "각 feature가 나타내는 값의 경우의 수는 5, 3, 2가지이다. 현재 data type은 `int64`이므로 범주형 변수로 바꾸자."
   ]
  },
  {
   "cell_type": "code",
   "execution_count": 20,
   "metadata": {},
   "outputs": [
    {
     "name": "stdout",
     "output_type": "stream",
     "text": [
      "<class 'pandas.core.frame.DataFrame'>\n",
      "RangeIndex: 201917 entries, 0 to 201916\n",
      "Data columns (total 7 columns):\n",
      "first_active_month    201917 non-null datetime64[ns]\n",
      "card_id               201917 non-null object\n",
      "feature_1             201917 non-null category\n",
      "feature_2             201917 non-null category\n",
      "feature_3             201917 non-null category\n",
      "target                201917 non-null float64\n",
      "y                     201917 non-null float64\n",
      "dtypes: category(3), datetime64[ns](1), float64(2), object(1)\n",
      "memory usage: 6.7+ MB\n"
     ]
    }
   ],
   "source": [
    "train['feature_1'] = train['feature_1'].astype('category')\n",
    "train['feature_2'] = train['feature_2'].astype('category')\n",
    "train['feature_3'] = train['feature_3'].astype('category')\n",
    "train.info()"
   ]
  },
  {
   "cell_type": "code",
   "execution_count": 22,
   "metadata": {},
   "outputs": [
    {
     "data": {
      "text/plain": [
       "<matplotlib.axes._subplots.AxesSubplot at 0x25646bc7ba8>"
      ]
     },
     "execution_count": 22,
     "metadata": {},
     "output_type": "execute_result"
    },
    {
     "data": {
      "text/plain": [
       "<matplotlib.axes._subplots.AxesSubplot at 0x25646f99c18>"
      ]
     },
     "execution_count": 22,
     "metadata": {},
     "output_type": "execute_result"
    },
    {
     "data": {
      "text/plain": [
       "<matplotlib.axes._subplots.AxesSubplot at 0x25646fc4cf8>"
      ]
     },
     "execution_count": 22,
     "metadata": {},
     "output_type": "execute_result"
    },
    {
     "data": {
      "image/png": "[encoded data removed]",
      "text/plain": [
       "<Figure size 1152x432 with 3 Axes>"
      ]
     },
     "metadata": {
      "needs_background": "light"
     },
     "output_type": "display_data"
    }
   ],
   "source": [
    "fig, axes = plt.subplots(1, 3, figsize=(16,6), constrained_layout=True)\n",
    "sns.countplot(data=train, x='feature_1', ax=axes[0], color='teal')\n",
    "sns.countplot(data=train, x='feature_2', ax=axes[1], color='brown')\n",
    "sns.countplot(data=train, x='feature_3', ax=axes[2], color='gold')"
   ]
  },
  {
   "cell_type": "code",
   "execution_count": 23,
   "metadata": {},
   "outputs": [
    {
     "data": {
      "text/plain": [
       "Text(0.5,0.98,'Violineplots for features and target')"
      ]
     },
     "execution_count": 23,
     "metadata": {},
     "output_type": "execute_result"
    },
    {
     "data": {
      "text/plain": [
       "<matplotlib.axes._subplots.AxesSubplot at 0x256471f2198>"
      ]
     },
     "execution_count": 23,
     "metadata": {},
     "output_type": "execute_result"
    },
    {
     "data": {
      "text/plain": [
       "<matplotlib.axes._subplots.AxesSubplot at 0x25647c65128>"
      ]
     },
     "execution_count": 23,
     "metadata": {},
     "output_type": "execute_result"
    },
    {
     "data": {
      "text/plain": [
       "<matplotlib.axes._subplots.AxesSubplot at 0x25647a497f0>"
      ]
     },
     "execution_count": 23,
     "metadata": {},
     "output_type": "execute_result"
    },
    {
     "data": {
      "image/png": "[encoded data removed]",
      "text/plain": [
       "<Figure size 1152x432 with 3 Axes>"
      ]
     },
     "metadata": {
      "needs_background": "light"
     },
     "output_type": "display_data"
    }
   ],
   "source": [
    "fig, ax = plt.subplots(1, 3, figsize = (16, 6))\n",
    "plt.suptitle('Violineplots for features and target');\n",
    "sns.violinplot(x=\"feature_1\", y=\"target\", data=train, ax=ax[0], title='feature_1')\n",
    "sns.violinplot(x=\"feature_2\", y=\"target\", data=train, ax=ax[1], title='feature_2')\n",
    "sns.violinplot(x=\"feature_3\", y=\"target\", data=train, ax=ax[2], title='feature_3')"
   ]
  },
  {
   "cell_type": "markdown",
   "metadata": {},
   "source": [
    "그래프를 보면 feature_1/2/3은 target에 거의 영향을 주지 않는다고 볼 수 있다. "
   ]
  },
  {
   "cell_type": "code",
   "execution_count": 18,
   "metadata": {},
   "outputs": [
    {
     "data": {
      "text/html": [
       "<div>\n",
       "<style scoped>\n",
       "    .dataframe tbody tr th:only-of-type {\n",
       "        vertical-align: middle;\n",
       "    }\n",
       "\n",
       "    .dataframe tbody tr th {\n",
       "        vertical-align: top;\n",
       "    }\n",
       "\n",
       "    .dataframe thead th {\n",
       "        text-align: right;\n",
       "    }\n",
       "</style>\n",
       "<table border=\"1\" class=\"dataframe\">\n",
       "  <thead>\n",
       "    <tr style=\"text-align: right;\">\n",
       "      <th></th>\n",
       "      <th>count</th>\n",
       "      <th>mean</th>\n",
       "      <th>std</th>\n",
       "      <th>min</th>\n",
       "      <th>25%</th>\n",
       "      <th>50%</th>\n",
       "      <th>75%</th>\n",
       "      <th>max</th>\n",
       "    </tr>\n",
       "    <tr>\n",
       "      <th>feature_1</th>\n",
       "      <th></th>\n",
       "      <th></th>\n",
       "      <th></th>\n",
       "      <th></th>\n",
       "      <th></th>\n",
       "      <th></th>\n",
       "      <th></th>\n",
       "      <th></th>\n",
       "    </tr>\n",
       "  </thead>\n",
       "  <tbody>\n",
       "    <tr>\n",
       "      <th>1</th>\n",
       "      <td>12037.0</td>\n",
       "      <td>-0.315476</td>\n",
       "      <td>3.407106</td>\n",
       "      <td>-33.219281</td>\n",
       "      <td>-0.810411</td>\n",
       "      <td>-0.011003</td>\n",
       "      <td>0.666923</td>\n",
       "      <td>15.011358</td>\n",
       "    </tr>\n",
       "    <tr>\n",
       "      <th>2</th>\n",
       "      <td>55797.0</td>\n",
       "      <td>-0.350452</td>\n",
       "      <td>3.756032</td>\n",
       "      <td>-33.219281</td>\n",
       "      <td>-0.806444</td>\n",
       "      <td>0.000000</td>\n",
       "      <td>0.768908</td>\n",
       "      <td>13.592223</td>\n",
       "    </tr>\n",
       "    <tr>\n",
       "      <th>3</th>\n",
       "      <td>73573.0</td>\n",
       "      <td>-0.377533</td>\n",
       "      <td>3.834499</td>\n",
       "      <td>-33.219281</td>\n",
       "      <td>-0.956521</td>\n",
       "      <td>-0.036539</td>\n",
       "      <td>0.837927</td>\n",
       "      <td>15.606405</td>\n",
       "    </tr>\n",
       "    <tr>\n",
       "      <th>4</th>\n",
       "      <td>19885.0</td>\n",
       "      <td>-0.404652</td>\n",
       "      <td>3.817954</td>\n",
       "      <td>-33.219281</td>\n",
       "      <td>-0.856211</td>\n",
       "      <td>0.000000</td>\n",
       "      <td>0.728345</td>\n",
       "      <td>9.665204</td>\n",
       "    </tr>\n",
       "    <tr>\n",
       "      <th>5</th>\n",
       "      <td>40625.0</td>\n",
       "      <td>-0.499879</td>\n",
       "      <td>4.134833</td>\n",
       "      <td>-33.219281</td>\n",
       "      <td>-0.895946</td>\n",
       "      <td>-0.056208</td>\n",
       "      <td>0.692869</td>\n",
       "      <td>17.965068</td>\n",
       "    </tr>\n",
       "  </tbody>\n",
       "</table>\n",
       "</div>"
      ],
      "text/plain": [
       "             count      mean       std        min       25%       50%  \\\n",
       "feature_1                                                               \n",
       "1          12037.0 -0.315476  3.407106 -33.219281 -0.810411 -0.011003   \n",
       "2          55797.0 -0.350452  3.756032 -33.219281 -0.806444  0.000000   \n",
       "3          73573.0 -0.377533  3.834499 -33.219281 -0.956521 -0.036539   \n",
       "4          19885.0 -0.404652  3.817954 -33.219281 -0.856211  0.000000   \n",
       "5          40625.0 -0.499879  4.134833 -33.219281 -0.895946 -0.056208   \n",
       "\n",
       "                75%        max  \n",
       "feature_1                       \n",
       "1          0.666923  15.011358  \n",
       "2          0.768908  13.592223  \n",
       "3          0.837927  15.606405  \n",
       "4          0.728345   9.665204  \n",
       "5          0.692869  17.965068  "
      ]
     },
     "execution_count": 18,
     "metadata": {},
     "output_type": "execute_result"
    },
    {
     "data": {
      "text/html": [
       "<div>\n",
       "<style scoped>\n",
       "    .dataframe tbody tr th:only-of-type {\n",
       "        vertical-align: middle;\n",
       "    }\n",
       "\n",
       "    .dataframe tbody tr th {\n",
       "        vertical-align: top;\n",
       "    }\n",
       "\n",
       "    .dataframe thead th {\n",
       "        text-align: right;\n",
       "    }\n",
       "</style>\n",
       "<table border=\"1\" class=\"dataframe\">\n",
       "  <thead>\n",
       "    <tr style=\"text-align: right;\">\n",
       "      <th></th>\n",
       "      <th>count</th>\n",
       "      <th>mean</th>\n",
       "      <th>std</th>\n",
       "      <th>min</th>\n",
       "      <th>25%</th>\n",
       "      <th>50%</th>\n",
       "      <th>75%</th>\n",
       "      <th>max</th>\n",
       "    </tr>\n",
       "    <tr>\n",
       "      <th>feature_2</th>\n",
       "      <th></th>\n",
       "      <th></th>\n",
       "      <th></th>\n",
       "      <th></th>\n",
       "      <th></th>\n",
       "      <th></th>\n",
       "      <th></th>\n",
       "      <th></th>\n",
       "    </tr>\n",
       "  </thead>\n",
       "  <tbody>\n",
       "    <tr>\n",
       "      <th>1</th>\n",
       "      <td>89242.0</td>\n",
       "      <td>-0.398675</td>\n",
       "      <td>3.890548</td>\n",
       "      <td>-33.219281</td>\n",
       "      <td>-0.822850</td>\n",
       "      <td>-0.002394</td>\n",
       "      <td>0.738072</td>\n",
       "      <td>17.965068</td>\n",
       "    </tr>\n",
       "    <tr>\n",
       "      <th>2</th>\n",
       "      <td>74839.0</td>\n",
       "      <td>-0.332899</td>\n",
       "      <td>3.567683</td>\n",
       "      <td>-33.219281</td>\n",
       "      <td>-0.946076</td>\n",
       "      <td>-0.045086</td>\n",
       "      <td>0.799371</td>\n",
       "      <td>15.606405</td>\n",
       "    </tr>\n",
       "    <tr>\n",
       "      <th>3</th>\n",
       "      <td>37836.0</td>\n",
       "      <td>-0.501889</td>\n",
       "      <td>4.269270</td>\n",
       "      <td>-33.219281</td>\n",
       "      <td>-0.902546</td>\n",
       "      <td>-0.033784</td>\n",
       "      <td>0.766570</td>\n",
       "      <td>13.350895</td>\n",
       "    </tr>\n",
       "  </tbody>\n",
       "</table>\n",
       "</div>"
      ],
      "text/plain": [
       "             count      mean       std        min       25%       50%  \\\n",
       "feature_2                                                               \n",
       "1          89242.0 -0.398675  3.890548 -33.219281 -0.822850 -0.002394   \n",
       "2          74839.0 -0.332899  3.567683 -33.219281 -0.946076 -0.045086   \n",
       "3          37836.0 -0.501889  4.269270 -33.219281 -0.902546 -0.033784   \n",
       "\n",
       "                75%        max  \n",
       "feature_2                       \n",
       "1          0.738072  17.965068  \n",
       "2          0.799371  15.606405  \n",
       "3          0.766570  13.350895  "
      ]
     },
     "execution_count": 18,
     "metadata": {},
     "output_type": "execute_result"
    },
    {
     "data": {
      "text/html": [
       "<div>\n",
       "<style scoped>\n",
       "    .dataframe tbody tr th:only-of-type {\n",
       "        vertical-align: middle;\n",
       "    }\n",
       "\n",
       "    .dataframe tbody tr th {\n",
       "        vertical-align: top;\n",
       "    }\n",
       "\n",
       "    .dataframe thead th {\n",
       "        text-align: right;\n",
       "    }\n",
       "</style>\n",
       "<table border=\"1\" class=\"dataframe\">\n",
       "  <thead>\n",
       "    <tr style=\"text-align: right;\">\n",
       "      <th></th>\n",
       "      <th>count</th>\n",
       "      <th>mean</th>\n",
       "      <th>std</th>\n",
       "      <th>min</th>\n",
       "      <th>25%</th>\n",
       "      <th>50%</th>\n",
       "      <th>75%</th>\n",
       "      <th>max</th>\n",
       "    </tr>\n",
       "    <tr>\n",
       "      <th>feature_3</th>\n",
       "      <th></th>\n",
       "      <th></th>\n",
       "      <th></th>\n",
       "      <th></th>\n",
       "      <th></th>\n",
       "      <th></th>\n",
       "      <th></th>\n",
       "      <th></th>\n",
       "    </tr>\n",
       "  </thead>\n",
       "  <tbody>\n",
       "    <tr>\n",
       "      <th>0</th>\n",
       "      <td>87719.0</td>\n",
       "      <td>-0.357939</td>\n",
       "      <td>3.724459</td>\n",
       "      <td>-33.219281</td>\n",
       "      <td>-0.817775</td>\n",
       "      <td>0.000000</td>\n",
       "      <td>0.745114</td>\n",
       "      <td>15.011358</td>\n",
       "    </tr>\n",
       "    <tr>\n",
       "      <th>1</th>\n",
       "      <td>114198.0</td>\n",
       "      <td>-0.421057</td>\n",
       "      <td>3.944379</td>\n",
       "      <td>-33.219281</td>\n",
       "      <td>-0.934403</td>\n",
       "      <td>-0.044637</td>\n",
       "      <td>0.783653</td>\n",
       "      <td>17.965068</td>\n",
       "    </tr>\n",
       "  </tbody>\n",
       "</table>\n",
       "</div>"
      ],
      "text/plain": [
       "              count      mean       std        min       25%       50%  \\\n",
       "feature_3                                                                \n",
       "0           87719.0 -0.357939  3.724459 -33.219281 -0.817775  0.000000   \n",
       "1          114198.0 -0.421057  3.944379 -33.219281 -0.934403 -0.044637   \n",
       "\n",
       "                75%        max  \n",
       "feature_3                       \n",
       "0          0.745114  15.011358  \n",
       "1          0.783653  17.965068  "
      ]
     },
     "execution_count": 18,
     "metadata": {},
     "output_type": "execute_result"
    }
   ],
   "source": [
    "train.groupby('feature_1')['target'].describe()\n",
    "train.groupby('feature_2')['target'].describe()\n",
    "train.groupby('feature_3')['target'].describe()"
   ]
  },
  {
   "cell_type": "markdown",
   "metadata": {},
   "source": [
    "만약 `target`이 매우 민감한 변수라면 `feature_1/2/3`은 `target`에 영향을 준다고 볼 수 있다.<br>\n",
    "`feature_1/2/3`에 따른 `y`의 변화도 살펴보자."
   ]
  },
  {
   "cell_type": "code",
   "execution_count": 17,
   "metadata": {},
   "outputs": [
    {
     "data": {
      "text/plain": [
       "Text(0.5,0.98,'Violineplots for features and target')"
      ]
     },
     "execution_count": 17,
     "metadata": {},
     "output_type": "execute_result"
    },
    {
     "data": {
      "text/plain": [
       "<matplotlib.axes._subplots.AxesSubplot at 0x256455be9e8>"
      ]
     },
     "execution_count": 17,
     "metadata": {},
     "output_type": "execute_result"
    },
    {
     "data": {
      "text/plain": [
       "<matplotlib.axes._subplots.AxesSubplot at 0x25645591fd0>"
      ]
     },
     "execution_count": 17,
     "metadata": {},
     "output_type": "execute_result"
    },
    {
     "data": {
      "text/plain": [
       "<matplotlib.axes._subplots.AxesSubplot at 0x256456276d8>"
      ]
     },
     "execution_count": 17,
     "metadata": {},
     "output_type": "execute_result"
    },
    {
     "data": {
      "image/png": "[encoded data removed]",
      "text/plain": [
       "<Figure size 1152x432 with 3 Axes>"
      ]
     },
     "metadata": {
      "needs_background": "light"
     },
     "output_type": "display_data"
    }
   ],
   "source": [
    "fig, ax = plt.subplots(1, 3, figsize = (16, 6))\n",
    "plt.suptitle('Violineplots for features and target');\n",
    "sns.violinplot(x=\"feature_1\", y=\"y\", data=train, ax=ax[0], title='feature_1')\n",
    "sns.violinplot(x=\"feature_2\", y=\"y\", data=train, ax=ax[1], title='feature_2')\n",
    "sns.violinplot(x=\"feature_3\", y=\"y\", data=train, ax=ax[2], title='feature_3')"
   ]
  },
  {
   "cell_type": "markdown",
   "metadata": {},
   "source": [
    "작은 값에 몰려있고 간혹 큰 값들이 존재해서 그래프로 `y`의 차이를 알아보기는 어렵다."
   ]
  },
  {
   "cell_type": "code",
   "execution_count": 24,
   "metadata": {},
   "outputs": [
    {
     "data": {
      "text/html": [
       "<div>\n",
       "<style scoped>\n",
       "    .dataframe tbody tr th:only-of-type {\n",
       "        vertical-align: middle;\n",
       "    }\n",
       "\n",
       "    .dataframe tbody tr th {\n",
       "        vertical-align: top;\n",
       "    }\n",
       "\n",
       "    .dataframe thead th {\n",
       "        text-align: right;\n",
       "    }\n",
       "</style>\n",
       "<table border=\"1\" class=\"dataframe\">\n",
       "  <thead>\n",
       "    <tr style=\"text-align: right;\">\n",
       "      <th></th>\n",
       "      <th>count</th>\n",
       "      <th>mean</th>\n",
       "      <th>std</th>\n",
       "      <th>min</th>\n",
       "      <th>25%</th>\n",
       "      <th>50%</th>\n",
       "      <th>75%</th>\n",
       "      <th>max</th>\n",
       "    </tr>\n",
       "    <tr>\n",
       "      <th>feature_1</th>\n",
       "      <th></th>\n",
       "      <th></th>\n",
       "      <th></th>\n",
       "      <th></th>\n",
       "      <th></th>\n",
       "      <th></th>\n",
       "      <th></th>\n",
       "      <th></th>\n",
       "    </tr>\n",
       "  </thead>\n",
       "  <tbody>\n",
       "    <tr>\n",
       "      <th>1</th>\n",
       "      <td>12037.0</td>\n",
       "      <td>6.961818</td>\n",
       "      <td>324.138827</td>\n",
       "      <td>1.000000e-10</td>\n",
       "      <td>0.570219</td>\n",
       "      <td>0.992403</td>\n",
       "      <td>1.587683</td>\n",
       "      <td>33027.000040</td>\n",
       "    </tr>\n",
       "    <tr>\n",
       "      <th>2</th>\n",
       "      <td>55797.0</td>\n",
       "      <td>2.817052</td>\n",
       "      <td>73.602950</td>\n",
       "      <td>1.000000e-10</td>\n",
       "      <td>0.571790</td>\n",
       "      <td>1.000000</td>\n",
       "      <td>1.703980</td>\n",
       "      <td>12349.999988</td>\n",
       "    </tr>\n",
       "    <tr>\n",
       "      <th>3</th>\n",
       "      <td>73573.0</td>\n",
       "      <td>5.078793</td>\n",
       "      <td>262.740642</td>\n",
       "      <td>1.000000e-10</td>\n",
       "      <td>0.515298</td>\n",
       "      <td>0.974991</td>\n",
       "      <td>1.787479</td>\n",
       "      <td>49887.999907</td>\n",
       "    </tr>\n",
       "    <tr>\n",
       "      <th>4</th>\n",
       "      <td>19885.0</td>\n",
       "      <td>2.487709</td>\n",
       "      <td>13.683864</td>\n",
       "      <td>1.000000e-10</td>\n",
       "      <td>0.552401</td>\n",
       "      <td>1.000000</td>\n",
       "      <td>1.656738</td>\n",
       "      <td>811.925998</td>\n",
       "    </tr>\n",
       "    <tr>\n",
       "      <th>5</th>\n",
       "      <td>40625.0</td>\n",
       "      <td>17.550731</td>\n",
       "      <td>1685.572264</td>\n",
       "      <td>1.000000e-10</td>\n",
       "      <td>0.537395</td>\n",
       "      <td>0.961789</td>\n",
       "      <td>1.616495</td>\n",
       "      <td>255873.000873</td>\n",
       "    </tr>\n",
       "  </tbody>\n",
       "</table>\n",
       "</div>"
      ],
      "text/plain": [
       "             count       mean          std           min       25%       50%  \\\n",
       "feature_1                                                                      \n",
       "1          12037.0   6.961818   324.138827  1.000000e-10  0.570219  0.992403   \n",
       "2          55797.0   2.817052    73.602950  1.000000e-10  0.571790  1.000000   \n",
       "3          73573.0   5.078793   262.740642  1.000000e-10  0.515298  0.974991   \n",
       "4          19885.0   2.487709    13.683864  1.000000e-10  0.552401  1.000000   \n",
       "5          40625.0  17.550731  1685.572264  1.000000e-10  0.537395  0.961789   \n",
       "\n",
       "                75%            max  \n",
       "feature_1                           \n",
       "1          1.587683   33027.000040  \n",
       "2          1.703980   12349.999988  \n",
       "3          1.787479   49887.999907  \n",
       "4          1.656738     811.925998  \n",
       "5          1.616495  255873.000873  "
      ]
     },
     "execution_count": 24,
     "metadata": {},
     "output_type": "execute_result"
    },
    {
     "data": {
      "text/html": [
       "<div>\n",
       "<style scoped>\n",
       "    .dataframe tbody tr th:only-of-type {\n",
       "        vertical-align: middle;\n",
       "    }\n",
       "\n",
       "    .dataframe tbody tr th {\n",
       "        vertical-align: top;\n",
       "    }\n",
       "\n",
       "    .dataframe thead th {\n",
       "        text-align: right;\n",
       "    }\n",
       "</style>\n",
       "<table border=\"1\" class=\"dataframe\">\n",
       "  <thead>\n",
       "    <tr style=\"text-align: right;\">\n",
       "      <th></th>\n",
       "      <th>count</th>\n",
       "      <th>mean</th>\n",
       "      <th>std</th>\n",
       "      <th>min</th>\n",
       "      <th>25%</th>\n",
       "      <th>50%</th>\n",
       "      <th>75%</th>\n",
       "      <th>max</th>\n",
       "    </tr>\n",
       "    <tr>\n",
       "      <th>feature_2</th>\n",
       "      <th></th>\n",
       "      <th></th>\n",
       "      <th></th>\n",
       "      <th></th>\n",
       "      <th></th>\n",
       "      <th></th>\n",
       "      <th></th>\n",
       "      <th></th>\n",
       "    </tr>\n",
       "  </thead>\n",
       "  <tbody>\n",
       "    <tr>\n",
       "      <th>1</th>\n",
       "      <td>89242.0</td>\n",
       "      <td>9.437562</td>\n",
       "      <td>1135.896944</td>\n",
       "      <td>1.000000e-10</td>\n",
       "      <td>0.565324</td>\n",
       "      <td>0.998342</td>\n",
       "      <td>1.667945</td>\n",
       "      <td>255873.000873</td>\n",
       "    </tr>\n",
       "    <tr>\n",
       "      <th>2</th>\n",
       "      <td>74839.0</td>\n",
       "      <td>5.607792</td>\n",
       "      <td>301.080238</td>\n",
       "      <td>1.000000e-10</td>\n",
       "      <td>0.519042</td>\n",
       "      <td>0.969232</td>\n",
       "      <td>1.740343</td>\n",
       "      <td>49887.999907</td>\n",
       "    </tr>\n",
       "    <tr>\n",
       "      <th>3</th>\n",
       "      <td>37836.0</td>\n",
       "      <td>3.044788</td>\n",
       "      <td>61.929206</td>\n",
       "      <td>1.000000e-10</td>\n",
       "      <td>0.534942</td>\n",
       "      <td>0.976855</td>\n",
       "      <td>1.701220</td>\n",
       "      <td>10447.679970</td>\n",
       "    </tr>\n",
       "  </tbody>\n",
       "</table>\n",
       "</div>"
      ],
      "text/plain": [
       "             count      mean          std           min       25%       50%  \\\n",
       "feature_2                                                                     \n",
       "1          89242.0  9.437562  1135.896944  1.000000e-10  0.565324  0.998342   \n",
       "2          74839.0  5.607792   301.080238  1.000000e-10  0.519042  0.969232   \n",
       "3          37836.0  3.044788    61.929206  1.000000e-10  0.534942  0.976855   \n",
       "\n",
       "                75%            max  \n",
       "feature_2                           \n",
       "1          1.667945  255873.000873  \n",
       "2          1.740343   49887.999907  \n",
       "3          1.701220   10447.679970  "
      ]
     },
     "execution_count": 24,
     "metadata": {},
     "output_type": "execute_result"
    },
    {
     "data": {
      "text/html": [
       "<div>\n",
       "<style scoped>\n",
       "    .dataframe tbody tr th:only-of-type {\n",
       "        vertical-align: middle;\n",
       "    }\n",
       "\n",
       "    .dataframe tbody tr th {\n",
       "        vertical-align: top;\n",
       "    }\n",
       "\n",
       "    .dataframe thead th {\n",
       "        text-align: right;\n",
       "    }\n",
       "</style>\n",
       "<table border=\"1\" class=\"dataframe\">\n",
       "  <thead>\n",
       "    <tr style=\"text-align: right;\">\n",
       "      <th></th>\n",
       "      <th>count</th>\n",
       "      <th>mean</th>\n",
       "      <th>std</th>\n",
       "      <th>min</th>\n",
       "      <th>25%</th>\n",
       "      <th>50%</th>\n",
       "      <th>75%</th>\n",
       "      <th>max</th>\n",
       "    </tr>\n",
       "    <tr>\n",
       "      <th>feature_3</th>\n",
       "      <th></th>\n",
       "      <th></th>\n",
       "      <th></th>\n",
       "      <th></th>\n",
       "      <th></th>\n",
       "      <th></th>\n",
       "      <th></th>\n",
       "      <th></th>\n",
       "    </tr>\n",
       "  </thead>\n",
       "  <tbody>\n",
       "    <tr>\n",
       "      <th>0</th>\n",
       "      <td>87719.0</td>\n",
       "      <td>3.311147</td>\n",
       "      <td>133.816511</td>\n",
       "      <td>1.000000e-10</td>\n",
       "      <td>0.567316</td>\n",
       "      <td>1.000000</td>\n",
       "      <td>1.676107</td>\n",
       "      <td>33027.000040</td>\n",
       "    </tr>\n",
       "    <tr>\n",
       "      <th>1</th>\n",
       "      <td>114198.0</td>\n",
       "      <td>9.515583</td>\n",
       "      <td>1027.234828</td>\n",
       "      <td>1.000000e-10</td>\n",
       "      <td>0.523259</td>\n",
       "      <td>0.969534</td>\n",
       "      <td>1.721484</td>\n",
       "      <td>255873.000873</td>\n",
       "    </tr>\n",
       "  </tbody>\n",
       "</table>\n",
       "</div>"
      ],
      "text/plain": [
       "              count      mean          std           min       25%       50%  \\\n",
       "feature_3                                                                      \n",
       "0           87719.0  3.311147   133.816511  1.000000e-10  0.567316  1.000000   \n",
       "1          114198.0  9.515583  1027.234828  1.000000e-10  0.523259  0.969534   \n",
       "\n",
       "                75%            max  \n",
       "feature_3                           \n",
       "0          1.676107   33027.000040  \n",
       "1          1.721484  255873.000873  "
      ]
     },
     "execution_count": 24,
     "metadata": {},
     "output_type": "execute_result"
    }
   ],
   "source": [
    "train.groupby('feature_1')['y'].describe()\n",
    "train.groupby('feature_2')['y'].describe()\n",
    "train.groupby('feature_3')['y'].describe()"
   ]
  },
  {
   "cell_type": "markdown",
   "metadata": {},
   "source": [
    "만약 `y`가 매우 민감한 변수라면 `feature_1/2/3`가 `y`에 영향을 준다고 볼 수 있다."
   ]
  },
  {
   "cell_type": "markdown",
   "metadata": {},
   "source": [
    "#### ◀ 정리 ▶\n",
    "\n",
    "* 결측치 없음\n",
    "* `first_active_month` : 2011-11 ~ 2018-02\n",
    "* `target`, `y`는 얼마나 섬세하게 움직이는 변수일까? -> 민감한 변수라면 feature_1/2/3은 유의미함 <br>\n",
    "* ~~`target`에서 -33.219281인 데이터 제거 → **train_df** 사용~~\n",
    "* `target`을 쓸까? `y`를 쓸까?"
   ]
  }
 ],
 "metadata": {
  "kernelspec": {
   "display_name": "Python 3",
   "language": "python",
   "name": "python3"
  },
  "language_info": {
   "codemirror_mode": {
    "name": "ipython",
    "version": 3
   },
   "file_extension": ".py",
   "mimetype": "text/x-python",
   "name": "python",
   "nbconvert_exporter": "python",
   "pygments_lexer": "ipython3",
   "version": "3.6.6"
  }
 },
 "nbformat": 4,
 "nbformat_minor": 1
}
