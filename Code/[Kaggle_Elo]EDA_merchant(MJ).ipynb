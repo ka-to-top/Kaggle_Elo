{
 "cells": [
  {
   "cell_type": "code",
   "execution_count": 1,
   "metadata": {
    "_cell_guid": "79c7e3d0-c299-4dcb-8224-4455121ee9b0",
    "_uuid": "d629ff2d2480ee46fbb7e2d37f6b5fab8052498a"
   },
   "outputs": [
    {
     "data": {
      "text/html": [
       "        <script type=\"text/javascript\">\n",
       "        window.PlotlyConfig = {MathJaxConfig: 'local'};\n",
       "        if (window.MathJax) {MathJax.Hub.Config({SVG: {font: \"STIX-Web\"}});}\n",
       "        if (typeof require !== 'undefined') {\n",
       "        require.undef(\"plotly\");\n",
       "        requirejs.config({\n",
       "            paths: {\n",
       "                'plotly': ['https://cdn.plot.ly/plotly-latest.min']\n",
       "            }\n",
       "        });\n",
       "        require(['plotly'], function(Plotly) {\n",
       "            window._Plotly = Plotly;\n",
       "        });\n",
       "        }\n",
       "        </script>\n",
       "        "
      ]
     },
     "metadata": {},
     "output_type": "display_data"
    }
   ],
   "source": [
    "import pandas as pd\n",
    "import numpy as np\n",
    "import re\n",
    "import seaborn as sns\n",
    "import matplotlib.pyplot as plt\n",
    "plt.style.use('seaborn') # seaborn style\n",
    "sns.set(font_scale=1)\n",
    "\n",
    "import warnings\n",
    "warnings.filterwarnings('ignore')\n",
    "\n",
    "%matplotlib inline\n",
    "\n",
    "from IPython.core.interactiveshell import InteractiveShell\n",
    "InteractiveShell.ast_node_interactivity = \"all\" # 명령문 결과 다 보여주기\n",
    "\n",
    "#------------------------\n",
    "import plotly.offline as py\n",
    "py.init_notebook_mode(connected=True)\n",
    "import plotly.graph_objs as go\n",
    "import plotly.tools as tls"
   ]
  },
  {
   "cell_type": "code",
   "execution_count": 2,
   "metadata": {},
   "outputs": [
    {
     "name": "stdout",
     "output_type": "stream",
     "text": [
      "['merchants.csv', 'Data_Dictionary.xlsx', 'historical_transactions.csv', 'new_merchant_transactions.csv', 'sample_submission.csv', 'test.csv', 'train.csv']\n"
     ]
    }
   ],
   "source": [
    "import os\n",
    "print(os.listdir(\"../input\"))"
   ]
  },
  {
   "cell_type": "code",
   "execution_count": 3,
   "metadata": {},
   "outputs": [
    {
     "name": "stdout",
     "output_type": "stream",
     "text": [
      "CPU times: user 6.75 s, sys: 940 ms, total: 7.69 s\n",
      "Wall time: 7.74 s\n"
     ]
    }
   ],
   "source": [
    "%%time\n",
    "merchant = pd.read_csv('../input/merchants.csv')\n",
    "new_mct_trans = pd.read_csv('../input/new_merchant_transactions.csv')\n",
    "train = pd.read_csv('../input/train.csv', parse_dates=[\"first_active_month\"])\n",
    "test = pd.read_csv('../input/test.csv', parse_dates=[\"first_active_month\"])"
   ]
  },
  {
   "cell_type": "markdown",
   "metadata": {},
   "source": [
    "# EDA\n",
    "1) train <br>\n",
    "2) merchant <br>\n",
    "3) trans <br>\n",
    "4) new_mct_trans"
   ]
  },
  {
   "cell_type": "markdown",
   "metadata": {},
   "source": [
    "## 2. merchant\n",
    "0) merchant_id <br>\n",
    "1) merchant_category_id <br>\n",
    "2) subsector_id <br>\n",
    "3) category_1/2 : trans에도 있는 feature<br>\n",
    "4) category_4 <br>\n",
    "5) city_id/state_id <br>\n",
    "6) merchant_group_id <br>\n",
    "7) numerical_1/2 <br>\n",
    "8) most_recent_sales_range <br>\n",
    "9) most_recent_purchases_range <br>\n",
    "10) avg_sales_lag3/6/12 <br>\n",
    "11) avg_purchases_lag3/6/12 <br>\n",
    "12) avg_active_months_lag3/6/12"
   ]
  },
  {
   "cell_type": "code",
   "execution_count": 4,
   "metadata": {},
   "outputs": [
    {
     "name": "stdout",
     "output_type": "stream",
     "text": [
      "<class 'pandas.core.frame.DataFrame'>\n",
      "RangeIndex: 334696 entries, 0 to 334695\n",
      "Data columns (total 22 columns):\n",
      "merchant_id                    334696 non-null object\n",
      "merchant_group_id              334696 non-null int64\n",
      "merchant_category_id           334696 non-null int64\n",
      "subsector_id                   334696 non-null int64\n",
      "numerical_1                    334696 non-null float64\n",
      "numerical_2                    334696 non-null float64\n",
      "category_1                     334696 non-null object\n",
      "most_recent_sales_range        334696 non-null object\n",
      "most_recent_purchases_range    334696 non-null object\n",
      "avg_sales_lag3                 334683 non-null float64\n",
      "avg_purchases_lag3             334696 non-null float64\n",
      "active_months_lag3             334696 non-null int64\n",
      "avg_sales_lag6                 334683 non-null float64\n",
      "avg_purchases_lag6             334696 non-null float64\n",
      "active_months_lag6             334696 non-null int64\n",
      "avg_sales_lag12                334683 non-null float64\n",
      "avg_purchases_lag12            334696 non-null float64\n",
      "active_months_lag12            334696 non-null int64\n",
      "category_4                     334696 non-null object\n",
      "city_id                        334696 non-null int64\n",
      "state_id                       334696 non-null int64\n",
      "category_2                     322809 non-null float64\n",
      "dtypes: float64(9), int64(8), object(5)\n",
      "memory usage: 56.2+ MB\n"
     ]
    }
   ],
   "source": [
    "merchant.info()"
   ]
  },
  {
   "cell_type": "markdown",
   "metadata": {},
   "source": [
    "전체 334696행으로 이루어져있다. <br>\n",
    "결측치도 좀 있다. 결측치 있는 features : [`avg_sales_lag3`, `avg_sales_lag6`, `avg_sales_lag12`, `category_2`]"
   ]
  },
  {
   "cell_type": "code",
   "execution_count": 5,
   "metadata": {},
   "outputs": [
    {
     "data": {
      "text/plain": [
       "merchant_id                    334633\n",
       "merchant_group_id              109391\n",
       "merchant_category_id              324\n",
       "subsector_id                       41\n",
       "numerical_1                       954\n",
       "numerical_2                       947\n",
       "category_1                          2\n",
       "most_recent_sales_range             5\n",
       "most_recent_purchases_range         5\n",
       "avg_sales_lag3                   3372\n",
       "avg_purchases_lag3             100003\n",
       "active_months_lag3                  3\n",
       "avg_sales_lag6                   4507\n",
       "avg_purchases_lag6             135202\n",
       "active_months_lag6                  6\n",
       "avg_sales_lag12                  5009\n",
       "avg_purchases_lag12            172917\n",
       "active_months_lag12                12\n",
       "category_4                          2\n",
       "city_id                           271\n",
       "state_id                           25\n",
       "category_2                          5\n",
       "dtype: int64"
      ]
     },
     "execution_count": 5,
     "metadata": {},
     "output_type": "execute_result"
    }
   ],
   "source": [
    "merchant.nunique()"
   ]
  },
  {
   "cell_type": "markdown",
   "metadata": {},
   "source": [
    "- merchant_id"
   ]
  },
  {
   "cell_type": "markdown",
   "metadata": {},
   "source": [
    "전체 행이 334696인데 334633개만 unique하다. 334696-334633=63개가 중복되는 정보인지 확인하겠다."
   ]
  },
  {
   "cell_type": "code",
   "execution_count": 6,
   "metadata": {},
   "outputs": [
    {
     "data": {
      "text/plain": [
       "nunique\n",
       "1    334592\n",
       "2        60\n",
       "4        44\n",
       "Name: nunique, dtype: int64"
      ]
     },
     "execution_count": 6,
     "metadata": {},
     "output_type": "execute_result"
    }
   ],
   "source": [
    "merchant['merchant_id'].value_counts().to_frame(name='nunique').groupby('nunique')['nunique'].sum()"
   ]
  },
  {
   "cell_type": "code",
   "execution_count": 7,
   "metadata": {},
   "outputs": [
    {
     "data": {
      "text/plain": [
       "334696"
      ]
     },
     "execution_count": 7,
     "metadata": {},
     "output_type": "execute_result"
    }
   ],
   "source": [
    "334592 + 60 + 44"
   ]
  },
  {
   "cell_type": "markdown",
   "metadata": {},
   "source": [
    "중복되는 merchant_id는 104개이다. 이 중 60개는 2번, 44개는 4번 중복됐다.<br>\n",
    "중복된 merchant_id가 나타나는 행에 차이가 있는지 확인해보겠다."
   ]
  },
  {
   "cell_type": "code",
   "execution_count": 8,
   "metadata": {},
   "outputs": [],
   "source": [
    "num_mct_df = merchant['merchant_id'].value_counts().to_frame(name='nunique')\n",
    "rep_mct_df = num_mct_df[num_mct_df['nunique']>1]\n",
    "rep_mct_id = rep_mct_df.index"
   ]
  },
  {
   "cell_type": "code",
   "execution_count": 9,
   "metadata": {},
   "outputs": [
    {
     "data": {
      "text/html": [
       "<div>\n",
       "<style scoped>\n",
       "    .dataframe tbody tr th:only-of-type {\n",
       "        vertical-align: middle;\n",
       "    }\n",
       "\n",
       "    .dataframe tbody tr th {\n",
       "        vertical-align: top;\n",
       "    }\n",
       "\n",
       "    .dataframe thead th {\n",
       "        text-align: right;\n",
       "    }\n",
       "</style>\n",
       "<table border=\"1\" class=\"dataframe\">\n",
       "  <thead>\n",
       "    <tr style=\"text-align: right;\">\n",
       "      <th></th>\n",
       "      <th>merchant_id</th>\n",
       "      <th>merchant_group_id</th>\n",
       "      <th>merchant_category_id</th>\n",
       "      <th>subsector_id</th>\n",
       "      <th>numerical_1</th>\n",
       "      <th>numerical_2</th>\n",
       "      <th>category_1</th>\n",
       "      <th>most_recent_sales_range</th>\n",
       "      <th>most_recent_purchases_range</th>\n",
       "      <th>avg_sales_lag3</th>\n",
       "      <th>avg_purchases_lag3</th>\n",
       "      <th>active_months_lag3</th>\n",
       "      <th>avg_sales_lag6</th>\n",
       "      <th>avg_purchases_lag6</th>\n",
       "      <th>active_months_lag6</th>\n",
       "      <th>avg_sales_lag12</th>\n",
       "      <th>avg_purchases_lag12</th>\n",
       "      <th>active_months_lag12</th>\n",
       "      <th>category_4</th>\n",
       "      <th>city_id</th>\n",
       "      <th>state_id</th>\n",
       "      <th>category_2</th>\n",
       "    </tr>\n",
       "  </thead>\n",
       "  <tbody>\n",
       "    <tr>\n",
       "      <th>210653</th>\n",
       "      <td>M_ID_c2b9ac2ea4</td>\n",
       "      <td>69907</td>\n",
       "      <td>554</td>\n",
       "      <td>25</td>\n",
       "      <td>-0.057471</td>\n",
       "      <td>-0.057471</td>\n",
       "      <td>Y</td>\n",
       "      <td>D</td>\n",
       "      <td>E</td>\n",
       "      <td>1.11</td>\n",
       "      <td>0.702381</td>\n",
       "      <td>3</td>\n",
       "      <td>1.11</td>\n",
       "      <td>0.702381</td>\n",
       "      <td>3</td>\n",
       "      <td>1.11</td>\n",
       "      <td>0.702381</td>\n",
       "      <td>3</td>\n",
       "      <td>Y</td>\n",
       "      <td>-1</td>\n",
       "      <td>-1</td>\n",
       "      <td>NaN</td>\n",
       "    </tr>\n",
       "    <tr>\n",
       "      <th>210654</th>\n",
       "      <td>M_ID_c2b9ac2ea4</td>\n",
       "      <td>35</td>\n",
       "      <td>554</td>\n",
       "      <td>25</td>\n",
       "      <td>-0.057471</td>\n",
       "      <td>-0.057471</td>\n",
       "      <td>Y</td>\n",
       "      <td>D</td>\n",
       "      <td>E</td>\n",
       "      <td>1.11</td>\n",
       "      <td>0.702381</td>\n",
       "      <td>3</td>\n",
       "      <td>1.11</td>\n",
       "      <td>0.702381</td>\n",
       "      <td>3</td>\n",
       "      <td>1.11</td>\n",
       "      <td>0.702381</td>\n",
       "      <td>3</td>\n",
       "      <td>Y</td>\n",
       "      <td>-1</td>\n",
       "      <td>-1</td>\n",
       "      <td>NaN</td>\n",
       "    </tr>\n",
       "    <tr>\n",
       "      <th>210655</th>\n",
       "      <td>M_ID_c2b9ac2ea4</td>\n",
       "      <td>35</td>\n",
       "      <td>554</td>\n",
       "      <td>25</td>\n",
       "      <td>-0.057471</td>\n",
       "      <td>-0.057471</td>\n",
       "      <td>Y</td>\n",
       "      <td>C</td>\n",
       "      <td>D</td>\n",
       "      <td>2.13</td>\n",
       "      <td>1.806607</td>\n",
       "      <td>3</td>\n",
       "      <td>2.02</td>\n",
       "      <td>1.572673</td>\n",
       "      <td>6</td>\n",
       "      <td>1.77</td>\n",
       "      <td>1.491291</td>\n",
       "      <td>12</td>\n",
       "      <td>Y</td>\n",
       "      <td>-1</td>\n",
       "      <td>-1</td>\n",
       "      <td>NaN</td>\n",
       "    </tr>\n",
       "    <tr>\n",
       "      <th>210656</th>\n",
       "      <td>M_ID_c2b9ac2ea4</td>\n",
       "      <td>69907</td>\n",
       "      <td>554</td>\n",
       "      <td>25</td>\n",
       "      <td>-0.057471</td>\n",
       "      <td>-0.057471</td>\n",
       "      <td>Y</td>\n",
       "      <td>C</td>\n",
       "      <td>D</td>\n",
       "      <td>2.13</td>\n",
       "      <td>1.806607</td>\n",
       "      <td>3</td>\n",
       "      <td>2.02</td>\n",
       "      <td>1.572673</td>\n",
       "      <td>6</td>\n",
       "      <td>1.77</td>\n",
       "      <td>1.491291</td>\n",
       "      <td>12</td>\n",
       "      <td>Y</td>\n",
       "      <td>-1</td>\n",
       "      <td>-1</td>\n",
       "      <td>NaN</td>\n",
       "    </tr>\n",
       "  </tbody>\n",
       "</table>\n",
       "</div>"
      ],
      "text/plain": [
       "            merchant_id  merchant_group_id     ...      state_id  category_2\n",
       "210653  M_ID_c2b9ac2ea4              69907     ...            -1         NaN\n",
       "210654  M_ID_c2b9ac2ea4                 35     ...            -1         NaN\n",
       "210655  M_ID_c2b9ac2ea4                 35     ...            -1         NaN\n",
       "210656  M_ID_c2b9ac2ea4              69907     ...            -1         NaN\n",
       "\n",
       "[4 rows x 22 columns]"
      ]
     },
     "execution_count": 9,
     "metadata": {},
     "output_type": "execute_result"
    },
    {
     "data": {
      "text/html": [
       "<div>\n",
       "<style scoped>\n",
       "    .dataframe tbody tr th:only-of-type {\n",
       "        vertical-align: middle;\n",
       "    }\n",
       "\n",
       "    .dataframe tbody tr th {\n",
       "        vertical-align: top;\n",
       "    }\n",
       "\n",
       "    .dataframe thead th {\n",
       "        text-align: right;\n",
       "    }\n",
       "</style>\n",
       "<table border=\"1\" class=\"dataframe\">\n",
       "  <thead>\n",
       "    <tr style=\"text-align: right;\">\n",
       "      <th></th>\n",
       "      <th>merchant_id</th>\n",
       "      <th>merchant_group_id</th>\n",
       "      <th>merchant_category_id</th>\n",
       "      <th>subsector_id</th>\n",
       "      <th>numerical_1</th>\n",
       "      <th>numerical_2</th>\n",
       "      <th>category_1</th>\n",
       "      <th>most_recent_sales_range</th>\n",
       "      <th>most_recent_purchases_range</th>\n",
       "      <th>avg_sales_lag3</th>\n",
       "      <th>avg_purchases_lag3</th>\n",
       "      <th>active_months_lag3</th>\n",
       "      <th>avg_sales_lag6</th>\n",
       "      <th>avg_purchases_lag6</th>\n",
       "      <th>active_months_lag6</th>\n",
       "      <th>avg_sales_lag12</th>\n",
       "      <th>avg_purchases_lag12</th>\n",
       "      <th>active_months_lag12</th>\n",
       "      <th>category_4</th>\n",
       "      <th>city_id</th>\n",
       "      <th>state_id</th>\n",
       "      <th>category_2</th>\n",
       "    </tr>\n",
       "  </thead>\n",
       "  <tbody>\n",
       "    <tr>\n",
       "      <th>7584</th>\n",
       "      <td>M_ID_dbbf07ebf0</td>\n",
       "      <td>69462</td>\n",
       "      <td>278</td>\n",
       "      <td>37</td>\n",
       "      <td>-0.057471</td>\n",
       "      <td>-0.057471</td>\n",
       "      <td>N</td>\n",
       "      <td>E</td>\n",
       "      <td>E</td>\n",
       "      <td>52.08</td>\n",
       "      <td>45.333333</td>\n",
       "      <td>3</td>\n",
       "      <td>75.36</td>\n",
       "      <td>68.000000</td>\n",
       "      <td>6</td>\n",
       "      <td>82.95</td>\n",
       "      <td>70.4500</td>\n",
       "      <td>10</td>\n",
       "      <td>Y</td>\n",
       "      <td>17</td>\n",
       "      <td>22</td>\n",
       "      <td>4.0</td>\n",
       "    </tr>\n",
       "    <tr>\n",
       "      <th>7585</th>\n",
       "      <td>M_ID_dbbf07ebf0</td>\n",
       "      <td>35</td>\n",
       "      <td>278</td>\n",
       "      <td>37</td>\n",
       "      <td>-0.057471</td>\n",
       "      <td>-0.057471</td>\n",
       "      <td>N</td>\n",
       "      <td>E</td>\n",
       "      <td>E</td>\n",
       "      <td>52.08</td>\n",
       "      <td>45.333333</td>\n",
       "      <td>3</td>\n",
       "      <td>75.36</td>\n",
       "      <td>68.000000</td>\n",
       "      <td>6</td>\n",
       "      <td>82.95</td>\n",
       "      <td>70.4500</td>\n",
       "      <td>10</td>\n",
       "      <td>Y</td>\n",
       "      <td>17</td>\n",
       "      <td>22</td>\n",
       "      <td>4.0</td>\n",
       "    </tr>\n",
       "    <tr>\n",
       "      <th>7586</th>\n",
       "      <td>M_ID_dbbf07ebf0</td>\n",
       "      <td>69462</td>\n",
       "      <td>278</td>\n",
       "      <td>37</td>\n",
       "      <td>-0.047556</td>\n",
       "      <td>-0.047556</td>\n",
       "      <td>N</td>\n",
       "      <td>D</td>\n",
       "      <td>D</td>\n",
       "      <td>1.12</td>\n",
       "      <td>1.132979</td>\n",
       "      <td>3</td>\n",
       "      <td>1.23</td>\n",
       "      <td>1.234043</td>\n",
       "      <td>6</td>\n",
       "      <td>1.30</td>\n",
       "      <td>1.3125</td>\n",
       "      <td>12</td>\n",
       "      <td>Y</td>\n",
       "      <td>17</td>\n",
       "      <td>22</td>\n",
       "      <td>4.0</td>\n",
       "    </tr>\n",
       "    <tr>\n",
       "      <th>7587</th>\n",
       "      <td>M_ID_dbbf07ebf0</td>\n",
       "      <td>35</td>\n",
       "      <td>278</td>\n",
       "      <td>37</td>\n",
       "      <td>-0.047556</td>\n",
       "      <td>-0.047556</td>\n",
       "      <td>N</td>\n",
       "      <td>D</td>\n",
       "      <td>D</td>\n",
       "      <td>1.12</td>\n",
       "      <td>1.132979</td>\n",
       "      <td>3</td>\n",
       "      <td>1.23</td>\n",
       "      <td>1.234043</td>\n",
       "      <td>6</td>\n",
       "      <td>1.30</td>\n",
       "      <td>1.3125</td>\n",
       "      <td>12</td>\n",
       "      <td>Y</td>\n",
       "      <td>17</td>\n",
       "      <td>22</td>\n",
       "      <td>4.0</td>\n",
       "    </tr>\n",
       "  </tbody>\n",
       "</table>\n",
       "</div>"
      ],
      "text/plain": [
       "          merchant_id  merchant_group_id     ...      state_id  category_2\n",
       "7584  M_ID_dbbf07ebf0              69462     ...            22         4.0\n",
       "7585  M_ID_dbbf07ebf0                 35     ...            22         4.0\n",
       "7586  M_ID_dbbf07ebf0              69462     ...            22         4.0\n",
       "7587  M_ID_dbbf07ebf0                 35     ...            22         4.0\n",
       "\n",
       "[4 rows x 22 columns]"
      ]
     },
     "execution_count": 9,
     "metadata": {},
     "output_type": "execute_result"
    },
    {
     "data": {
      "text/html": [
       "<div>\n",
       "<style scoped>\n",
       "    .dataframe tbody tr th:only-of-type {\n",
       "        vertical-align: middle;\n",
       "    }\n",
       "\n",
       "    .dataframe tbody tr th {\n",
       "        vertical-align: top;\n",
       "    }\n",
       "\n",
       "    .dataframe thead th {\n",
       "        text-align: right;\n",
       "    }\n",
       "</style>\n",
       "<table border=\"1\" class=\"dataframe\">\n",
       "  <thead>\n",
       "    <tr style=\"text-align: right;\">\n",
       "      <th></th>\n",
       "      <th>merchant_id</th>\n",
       "      <th>merchant_group_id</th>\n",
       "      <th>merchant_category_id</th>\n",
       "      <th>subsector_id</th>\n",
       "      <th>numerical_1</th>\n",
       "      <th>numerical_2</th>\n",
       "      <th>category_1</th>\n",
       "      <th>most_recent_sales_range</th>\n",
       "      <th>most_recent_purchases_range</th>\n",
       "      <th>avg_sales_lag3</th>\n",
       "      <th>avg_purchases_lag3</th>\n",
       "      <th>active_months_lag3</th>\n",
       "      <th>avg_sales_lag6</th>\n",
       "      <th>avg_purchases_lag6</th>\n",
       "      <th>active_months_lag6</th>\n",
       "      <th>avg_sales_lag12</th>\n",
       "      <th>avg_purchases_lag12</th>\n",
       "      <th>active_months_lag12</th>\n",
       "      <th>category_4</th>\n",
       "      <th>city_id</th>\n",
       "      <th>state_id</th>\n",
       "      <th>category_2</th>\n",
       "    </tr>\n",
       "  </thead>\n",
       "  <tbody>\n",
       "    <tr>\n",
       "      <th>228274</th>\n",
       "      <td>M_ID_d123532c72</td>\n",
       "      <td>35</td>\n",
       "      <td>385</td>\n",
       "      <td>17</td>\n",
       "      <td>-0.057471</td>\n",
       "      <td>-0.057471</td>\n",
       "      <td>Y</td>\n",
       "      <td>D</td>\n",
       "      <td>E</td>\n",
       "      <td>0.81</td>\n",
       "      <td>1.000000</td>\n",
       "      <td>3</td>\n",
       "      <td>0.99</td>\n",
       "      <td>1.243333</td>\n",
       "      <td>6</td>\n",
       "      <td>1.33</td>\n",
       "      <td>1.615000</td>\n",
       "      <td>12</td>\n",
       "      <td>Y</td>\n",
       "      <td>-1</td>\n",
       "      <td>-1</td>\n",
       "      <td>NaN</td>\n",
       "    </tr>\n",
       "    <tr>\n",
       "      <th>228275</th>\n",
       "      <td>M_ID_d123532c72</td>\n",
       "      <td>49094</td>\n",
       "      <td>385</td>\n",
       "      <td>17</td>\n",
       "      <td>-0.057471</td>\n",
       "      <td>-0.057471</td>\n",
       "      <td>Y</td>\n",
       "      <td>D</td>\n",
       "      <td>E</td>\n",
       "      <td>0.81</td>\n",
       "      <td>1.000000</td>\n",
       "      <td>3</td>\n",
       "      <td>0.99</td>\n",
       "      <td>1.243333</td>\n",
       "      <td>6</td>\n",
       "      <td>1.33</td>\n",
       "      <td>1.615000</td>\n",
       "      <td>12</td>\n",
       "      <td>Y</td>\n",
       "      <td>-1</td>\n",
       "      <td>-1</td>\n",
       "      <td>NaN</td>\n",
       "    </tr>\n",
       "    <tr>\n",
       "      <th>228276</th>\n",
       "      <td>M_ID_d123532c72</td>\n",
       "      <td>35</td>\n",
       "      <td>385</td>\n",
       "      <td>17</td>\n",
       "      <td>-0.057471</td>\n",
       "      <td>-0.057471</td>\n",
       "      <td>Y</td>\n",
       "      <td>D</td>\n",
       "      <td>C</td>\n",
       "      <td>0.88</td>\n",
       "      <td>0.943233</td>\n",
       "      <td>3</td>\n",
       "      <td>0.79</td>\n",
       "      <td>0.899183</td>\n",
       "      <td>6</td>\n",
       "      <td>0.65</td>\n",
       "      <td>0.700159</td>\n",
       "      <td>12</td>\n",
       "      <td>Y</td>\n",
       "      <td>-1</td>\n",
       "      <td>-1</td>\n",
       "      <td>NaN</td>\n",
       "    </tr>\n",
       "    <tr>\n",
       "      <th>228277</th>\n",
       "      <td>M_ID_d123532c72</td>\n",
       "      <td>49094</td>\n",
       "      <td>385</td>\n",
       "      <td>17</td>\n",
       "      <td>-0.057471</td>\n",
       "      <td>-0.057471</td>\n",
       "      <td>Y</td>\n",
       "      <td>D</td>\n",
       "      <td>C</td>\n",
       "      <td>0.88</td>\n",
       "      <td>0.943233</td>\n",
       "      <td>3</td>\n",
       "      <td>0.79</td>\n",
       "      <td>0.899183</td>\n",
       "      <td>6</td>\n",
       "      <td>0.65</td>\n",
       "      <td>0.700159</td>\n",
       "      <td>12</td>\n",
       "      <td>Y</td>\n",
       "      <td>-1</td>\n",
       "      <td>-1</td>\n",
       "      <td>NaN</td>\n",
       "    </tr>\n",
       "  </tbody>\n",
       "</table>\n",
       "</div>"
      ],
      "text/plain": [
       "            merchant_id  merchant_group_id     ...      state_id  category_2\n",
       "228274  M_ID_d123532c72                 35     ...            -1         NaN\n",
       "228275  M_ID_d123532c72              49094     ...            -1         NaN\n",
       "228276  M_ID_d123532c72                 35     ...            -1         NaN\n",
       "228277  M_ID_d123532c72              49094     ...            -1         NaN\n",
       "\n",
       "[4 rows x 22 columns]"
      ]
     },
     "execution_count": 9,
     "metadata": {},
     "output_type": "execute_result"
    }
   ],
   "source": [
    "for i in range(3):\n",
    "    merchant[merchant['merchant_id'] == rep_mct_id[i]]"
   ]
  },
  {
   "cell_type": "markdown",
   "metadata": {},
   "source": [
    "merchant_group_id가 2가지로 나누어져있고, 판매량, 판매수익 등의 계산 결과도 2가지로 나뉜다. <br>\n",
    "왜 merchant_group_id가 2가지로 나누어질까? 중간에 업종을 변경했나? 아니면 하나의 여러 업종에 걸쳐있는 상인인가? <br>\n",
    "그리고 왜 판매량과 판매 수익에 대한 정보도 변할까? last active month를 다르게 정하고 계산한걸까? <br>\n",
    "history를 통해 `last_active_month` 피쳐도 추가해야겠다. 이를 통해 얼마나 최신 정보인지도 알 수 있을 것 같다. <br>\n",
    "<br>\n",
    "그런데 이렇게만 봐서는 다른 값을 갖는 column에 뭐가있는지 모르겠다. `merchant_id`가 같을 때 다른 값을 갖는 column들을 찾자. "
   ]
  },
  {
   "cell_type": "code",
   "execution_count": 10,
   "metadata": {},
   "outputs": [],
   "source": [
    "def search_diff(df, ref_col):\n",
    "    \"\"\"이 함수는 ref_col이 같은 records를 비교해서, 서로 다른 값을 나타내는 column을 찾아줍니다.\n",
    "        ref_col에서 중복되는 값이 나타나는 경우만 봅니다.\"\"\"\n",
    "    columns = {}\n",
    "    n_col = df.columns.values.size\n",
    "    num_ref_col = df[ref_col].value_counts().to_frame(name='nunique')\n",
    "    rep_ref_col_df = num_ref_col[num_ref_col['nunique']>1]\n",
    "    rep_ids = rep_ref_col_df.index # ref_col에서 중복되는 값이 나타나는 값들\n",
    "\n",
    "    for id in rep_ids :\n",
    "        records = df[df[ref_col]==id]\n",
    "        for i in range(n_col):\n",
    "            col = records.columns[i]\n",
    "            if records[col].nunique() != 1 :\n",
    "                if col in columns :\n",
    "                    columns[col] += 1\n",
    "                else :\n",
    "                    columns[col] = 1\n",
    "    return columns"
   ]
  },
  {
   "cell_type": "code",
   "execution_count": 11,
   "metadata": {},
   "outputs": [
    {
     "data": {
      "text/plain": [
       "{'merchant_group_id': 12,\n",
       " 'most_recent_sales_range': 30,\n",
       " 'most_recent_purchases_range': 33,\n",
       " 'avg_sales_lag3': 40,\n",
       " 'avg_purchases_lag3': 41,\n",
       " 'avg_sales_lag6': 41,\n",
       " 'avg_purchases_lag6': 41,\n",
       " 'active_months_lag6': 14,\n",
       " 'avg_sales_lag12': 41,\n",
       " 'avg_purchases_lag12': 41,\n",
       " 'active_months_lag12': 24,\n",
       " 'category_2': 17,\n",
       " 'numerical_1': 34,\n",
       " 'numerical_2': 30,\n",
       " 'active_months_lag3': 7,\n",
       " 'merchant_category_id': 1,\n",
       " 'city_id': 1,\n",
       " 'state_id': 1}"
      ]
     },
     "execution_count": 11,
     "metadata": {},
     "output_type": "execute_result"
    }
   ],
   "source": [
    "search_diff(merchant, 'merchant_id')"
   ]
  },
  {
   "cell_type": "markdown",
   "metadata": {},
   "source": [
    "거의 모든 칼럼에서 다른 값이 나온다. 심지어 `city_id`, `state_id`도 다른 merchant가 있다. <br>\n",
    "중복되는 `merchant_id`는 왜 이런식으로 정보가 바뀐 걸까? <br>\n",
    "그게 `last_active_month`가 달라서 일 수도 있는데, `last_active_month`를 알 수 있는 방법은 없어보인다. <br>\n",
    "중복되는 `merchant_id`를 어떻게 처리할 지 생각해보자.\n",
    "\n",
    "> https://www.kaggle.com/c/elo-merchant-category-recommendation/discussion/72924#latest-463601 -> 그냥 하나만 남겨놓고 해라."
   ]
  },
  {
   "cell_type": "markdown",
   "metadata": {},
   "source": [
    "- merchant_category_id"
   ]
  },
  {
   "cell_type": "code",
   "execution_count": 12,
   "metadata": {},
   "outputs": [
    {
     "data": {
      "text/plain": [
       "324"
      ]
     },
     "execution_count": 12,
     "metadata": {},
     "output_type": "execute_result"
    }
   ],
   "source": [
    "merchant['merchant_category_id'].nunique()"
   ]
  },
  {
   "cell_type": "markdown",
   "metadata": {},
   "source": [
    "`merchant_category_id`는 324가지이다."
   ]
  },
  {
   "cell_type": "code",
   "execution_count": 13,
   "metadata": {},
   "outputs": [
    {
     "data": {
      "text/plain": [
       "<matplotlib.axes._subplots.AxesSubplot at 0x7f70a3787320>"
      ]
     },
     "execution_count": 13,
     "metadata": {},
     "output_type": "execute_result"
    },
    {
     "data": {
      "text/plain": [
       "(0, 5000)"
      ]
     },
     "execution_count": 13,
     "metadata": {},
     "output_type": "execute_result"
    },
    {
     "data": {
      "text/plain": [
       "(0, 2000)"
      ]
     },
     "execution_count": 13,
     "metadata": {},
     "output_type": "execute_result"
    },
    {
     "data": {
      "image/png": "[encoded data removed]",
      "text/plain": [
       "<Figure size 1152x432 with 3 Axes>"
      ]
     },
     "metadata": {},
     "output_type": "display_data"
    }
   ],
   "source": [
    "fig, axes = plt.subplots(1, 3, figsize=(16,6))\n",
    "sns.boxplot(merchant['merchant_category_id'].value_counts().values, ax=axes[0])\n",
    "sns.boxplot(merchant['merchant_category_id'].value_counts().values, ax=axes[1]).set_xlim(0,5000)\n",
    "sns.boxplot(merchant['merchant_category_id'].value_counts().values, ax=axes[2]).set_xlim(0,2000)"
   ]
  },
  {
   "cell_type": "code",
   "execution_count": 14,
   "metadata": {},
   "outputs": [
    {
     "data": {
      "text/plain": [
       "array([ 29.  , 230.5 , 650.75])"
      ]
     },
     "execution_count": 14,
     "metadata": {},
     "output_type": "execute_result"
    },
    {
     "data": {
      "text/plain": [
       "(1, 30666)"
      ]
     },
     "execution_count": 14,
     "metadata": {},
     "output_type": "execute_result"
    }
   ],
   "source": [
    "np.quantile(merchant['merchant_category_id'].value_counts().values, q=(0.25, 0.5, 0.75))\n",
    "min(merchant['merchant_category_id'].value_counts()), max(merchant['merchant_category_id'].value_counts())"
   ]
  },
  {
   "cell_type": "markdown",
   "metadata": {},
   "source": [
    "각 `merchant_category_id`마다 해당 상인의 수를 구해봤다. 1개의 상점만 갖는 카테고리부터 30666개의 상점이 갖는 카테고리까지 분포해있다. <br>\n",
    "merchant의 특징으로 볼 수 있겠다."
   ]
  },
  {
   "cell_type": "markdown",
   "metadata": {},
   "source": [
    "- subsector_id\n",
    "\n",
    "`merchant_category_id`와 `subsector_id`가 계층적 구조를 갖는지 알아볼 것."
   ]
  },
  {
   "cell_type": "code",
   "execution_count": 15,
   "metadata": {},
   "outputs": [
    {
     "data": {
      "text/plain": [
       "41"
      ]
     },
     "execution_count": 15,
     "metadata": {},
     "output_type": "execute_result"
    }
   ],
   "source": [
    "merchant['subsector_id'].nunique()"
   ]
  },
  {
   "cell_type": "markdown",
   "metadata": {},
   "source": [
    "`subsector_id`는 41가지이다."
   ]
  },
  {
   "cell_type": "code",
   "execution_count": 16,
   "metadata": {},
   "outputs": [
    {
     "data": {
      "text/plain": [
       "324"
      ]
     },
     "execution_count": 16,
     "metadata": {},
     "output_type": "execute_result"
    }
   ],
   "source": [
    "merchant.groupby('subsector_id')['merchant_category_id'].nunique().sum()"
   ]
  },
  {
   "cell_type": "markdown",
   "metadata": {},
   "source": [
    "`subsector_id`마다 갖고있는 `merchant_category_id`가 몇가지인지 세서 더했더니 `merchant_category_id`의 가짓수만큼 나왔다.<br>\n",
    "`subsector_id` > `merchant_category_id`가 계층적 구조를 갖는다는 의미이다. <br>\n",
    "개수가 우연히 일치했다고 주장할 수 있으므로 `subsector_id`별로 unique한 `merchant_category_id`를 뽑았을 때 324개가 나오는지 확인하겠다."
   ]
  },
  {
   "cell_type": "code",
   "execution_count": 17,
   "metadata": {},
   "outputs": [
    {
     "data": {
      "text/html": [
       "<div>\n",
       "<style scoped>\n",
       "    .dataframe tbody tr th:only-of-type {\n",
       "        vertical-align: middle;\n",
       "    }\n",
       "\n",
       "    .dataframe tbody tr th {\n",
       "        vertical-align: top;\n",
       "    }\n",
       "\n",
       "    .dataframe thead th {\n",
       "        text-align: right;\n",
       "    }\n",
       "</style>\n",
       "<table border=\"1\" class=\"dataframe\">\n",
       "  <thead>\n",
       "    <tr style=\"text-align: right;\">\n",
       "      <th></th>\n",
       "      <th>subsector_id</th>\n",
       "      <th>n_merchant_category</th>\n",
       "    </tr>\n",
       "  </thead>\n",
       "  <tbody>\n",
       "    <tr>\n",
       "      <th>0</th>\n",
       "      <td>-1</td>\n",
       "      <td>1</td>\n",
       "    </tr>\n",
       "    <tr>\n",
       "      <th>1</th>\n",
       "      <td>15</td>\n",
       "      <td>1</td>\n",
       "    </tr>\n",
       "    <tr>\n",
       "      <th>2</th>\n",
       "      <td>14</td>\n",
       "      <td>1</td>\n",
       "    </tr>\n",
       "    <tr>\n",
       "      <th>3</th>\n",
       "      <td>13</td>\n",
       "      <td>1</td>\n",
       "    </tr>\n",
       "    <tr>\n",
       "      <th>4</th>\n",
       "      <td>40</td>\n",
       "      <td>1</td>\n",
       "    </tr>\n",
       "    <tr>\n",
       "      <th>5</th>\n",
       "      <td>28</td>\n",
       "      <td>1</td>\n",
       "    </tr>\n",
       "    <tr>\n",
       "      <th>6</th>\n",
       "      <td>24</td>\n",
       "      <td>1</td>\n",
       "    </tr>\n",
       "    <tr>\n",
       "      <th>7</th>\n",
       "      <td>39</td>\n",
       "      <td>1</td>\n",
       "    </tr>\n",
       "    <tr>\n",
       "      <th>8</th>\n",
       "      <td>30</td>\n",
       "      <td>1</td>\n",
       "    </tr>\n",
       "    <tr>\n",
       "      <th>9</th>\n",
       "      <td>11</td>\n",
       "      <td>2</td>\n",
       "    </tr>\n",
       "    <tr>\n",
       "      <th>10</th>\n",
       "      <td>35</td>\n",
       "      <td>2</td>\n",
       "    </tr>\n",
       "    <tr>\n",
       "      <th>11</th>\n",
       "      <td>16</td>\n",
       "      <td>2</td>\n",
       "    </tr>\n",
       "    <tr>\n",
       "      <th>12</th>\n",
       "      <td>26</td>\n",
       "      <td>3</td>\n",
       "    </tr>\n",
       "    <tr>\n",
       "      <th>13</th>\n",
       "      <td>33</td>\n",
       "      <td>3</td>\n",
       "    </tr>\n",
       "    <tr>\n",
       "      <th>14</th>\n",
       "      <td>19</td>\n",
       "      <td>3</td>\n",
       "    </tr>\n",
       "    <tr>\n",
       "      <th>15</th>\n",
       "      <td>23</td>\n",
       "      <td>4</td>\n",
       "    </tr>\n",
       "    <tr>\n",
       "      <th>16</th>\n",
       "      <td>22</td>\n",
       "      <td>4</td>\n",
       "    </tr>\n",
       "    <tr>\n",
       "      <th>17</th>\n",
       "      <td>38</td>\n",
       "      <td>4</td>\n",
       "    </tr>\n",
       "    <tr>\n",
       "      <th>18</th>\n",
       "      <td>41</td>\n",
       "      <td>4</td>\n",
       "    </tr>\n",
       "    <tr>\n",
       "      <th>19</th>\n",
       "      <td>1</td>\n",
       "      <td>4</td>\n",
       "    </tr>\n",
       "    <tr>\n",
       "      <th>20</th>\n",
       "      <td>10</td>\n",
       "      <td>5</td>\n",
       "    </tr>\n",
       "    <tr>\n",
       "      <th>21</th>\n",
       "      <td>37</td>\n",
       "      <td>5</td>\n",
       "    </tr>\n",
       "    <tr>\n",
       "      <th>22</th>\n",
       "      <td>4</td>\n",
       "      <td>5</td>\n",
       "    </tr>\n",
       "    <tr>\n",
       "      <th>23</th>\n",
       "      <td>17</td>\n",
       "      <td>6</td>\n",
       "    </tr>\n",
       "    <tr>\n",
       "      <th>24</th>\n",
       "      <td>5</td>\n",
       "      <td>7</td>\n",
       "    </tr>\n",
       "    <tr>\n",
       "      <th>25</th>\n",
       "      <td>9</td>\n",
       "      <td>7</td>\n",
       "    </tr>\n",
       "    <tr>\n",
       "      <th>26</th>\n",
       "      <td>8</td>\n",
       "      <td>7</td>\n",
       "    </tr>\n",
       "    <tr>\n",
       "      <th>27</th>\n",
       "      <td>36</td>\n",
       "      <td>7</td>\n",
       "    </tr>\n",
       "    <tr>\n",
       "      <th>28</th>\n",
       "      <td>34</td>\n",
       "      <td>7</td>\n",
       "    </tr>\n",
       "    <tr>\n",
       "      <th>29</th>\n",
       "      <td>18</td>\n",
       "      <td>8</td>\n",
       "    </tr>\n",
       "    <tr>\n",
       "      <th>30</th>\n",
       "      <td>32</td>\n",
       "      <td>8</td>\n",
       "    </tr>\n",
       "    <tr>\n",
       "      <th>31</th>\n",
       "      <td>2</td>\n",
       "      <td>11</td>\n",
       "    </tr>\n",
       "    <tr>\n",
       "      <th>32</th>\n",
       "      <td>31</td>\n",
       "      <td>11</td>\n",
       "    </tr>\n",
       "    <tr>\n",
       "      <th>33</th>\n",
       "      <td>20</td>\n",
       "      <td>12</td>\n",
       "    </tr>\n",
       "    <tr>\n",
       "      <th>34</th>\n",
       "      <td>21</td>\n",
       "      <td>16</td>\n",
       "    </tr>\n",
       "    <tr>\n",
       "      <th>35</th>\n",
       "      <td>25</td>\n",
       "      <td>19</td>\n",
       "    </tr>\n",
       "    <tr>\n",
       "      <th>36</th>\n",
       "      <td>27</td>\n",
       "      <td>20</td>\n",
       "    </tr>\n",
       "    <tr>\n",
       "      <th>37</th>\n",
       "      <td>3</td>\n",
       "      <td>21</td>\n",
       "    </tr>\n",
       "    <tr>\n",
       "      <th>38</th>\n",
       "      <td>7</td>\n",
       "      <td>31</td>\n",
       "    </tr>\n",
       "    <tr>\n",
       "      <th>39</th>\n",
       "      <td>12</td>\n",
       "      <td>32</td>\n",
       "    </tr>\n",
       "    <tr>\n",
       "      <th>40</th>\n",
       "      <td>29</td>\n",
       "      <td>35</td>\n",
       "    </tr>\n",
       "  </tbody>\n",
       "</table>\n",
       "</div>"
      ],
      "text/plain": [
       "    subsector_id  n_merchant_category\n",
       "0             -1                    1\n",
       "1             15                    1\n",
       "2             14                    1\n",
       "3             13                    1\n",
       "4             40                    1\n",
       "5             28                    1\n",
       "6             24                    1\n",
       "7             39                    1\n",
       "8             30                    1\n",
       "9             11                    2\n",
       "10            35                    2\n",
       "11            16                    2\n",
       "12            26                    3\n",
       "13            33                    3\n",
       "14            19                    3\n",
       "15            23                    4\n",
       "16            22                    4\n",
       "17            38                    4\n",
       "18            41                    4\n",
       "19             1                    4\n",
       "20            10                    5\n",
       "21            37                    5\n",
       "22             4                    5\n",
       "23            17                    6\n",
       "24             5                    7\n",
       "25             9                    7\n",
       "26             8                    7\n",
       "27            36                    7\n",
       "28            34                    7\n",
       "29            18                    8\n",
       "30            32                    8\n",
       "31             2                   11\n",
       "32            31                   11\n",
       "33            20                   12\n",
       "34            21                   16\n",
       "35            25                   19\n",
       "36            27                   20\n",
       "37             3                   21\n",
       "38             7                   31\n",
       "39            12                   32\n",
       "40            29                   35"
      ]
     },
     "execution_count": 17,
     "metadata": {},
     "output_type": "execute_result"
    }
   ],
   "source": [
    "merchant.groupby('subsector_id')['merchant_category_id'].nunique().sort_values().reset_index(name='n_merchant_category')"
   ]
  },
  {
   "cell_type": "markdown",
   "metadata": {},
   "source": [
    "-1은 뭐지? -1 안에 들어있는 category는 어떤 숫자지?"
   ]
  },
  {
   "cell_type": "code",
   "execution_count": 18,
   "metadata": {},
   "outputs": [
    {
     "data": {
      "text/plain": [
       "{9: [792, 806, 556, 340, 225, 514, 685],\n",
       " 20: [840, 529, 2, 342, 180, 273, 702, 458, 396, 69, 351, 714],\n",
       " 1: [690, 419, 206, 829],\n",
       " 21: [222,\n",
       "  309,\n",
       "  456,\n",
       "  692,\n",
       "  411,\n",
       "  356,\n",
       "  215,\n",
       "  443,\n",
       "  9,\n",
       "  40,\n",
       "  115,\n",
       "  667,\n",
       "  201,\n",
       "  223,\n",
       "  71,\n",
       "  140],\n",
       " 27: [87,\n",
       "  369,\n",
       "  427,\n",
       "  63,\n",
       "  497,\n",
       "  68,\n",
       "  779,\n",
       "  432,\n",
       "  884,\n",
       "  531,\n",
       "  518,\n",
       "  289,\n",
       "  422,\n",
       "  357,\n",
       "  276,\n",
       "  834,\n",
       "  417,\n",
       "  319,\n",
       "  126,\n",
       "  889],\n",
       " 29: [813,\n",
       "  81,\n",
       "  703,\n",
       "  891,\n",
       "  178,\n",
       "  544,\n",
       "  33,\n",
       "  774,\n",
       "  414,\n",
       "  166,\n",
       "  607,\n",
       "  557,\n",
       "  650,\n",
       "  498,\n",
       "  110,\n",
       "  843,\n",
       "  568,\n",
       "  748,\n",
       "  21,\n",
       "  795,\n",
       "  157,\n",
       "  145,\n",
       "  409,\n",
       "  614,\n",
       "  879,\n",
       "  593,\n",
       "  386,\n",
       "  839,\n",
       "  31,\n",
       "  187,\n",
       "  664,\n",
       "  523,\n",
       "  881,\n",
       "  448,\n",
       "  757],\n",
       " 18: [45, 412, 373, 669, 363, 737, 415, 482],\n",
       " 37: [278, 80, 842, 637, 509],\n",
       " 10: [298, 796, 333, 119, 198],\n",
       " 33: [705, 613, 642],\n",
       " 7: [511,\n",
       "  781,\n",
       "  591,\n",
       "  652,\n",
       "  451,\n",
       "  105,\n",
       "  391,\n",
       "  384,\n",
       "  209,\n",
       "  561,\n",
       "  216,\n",
       "  312,\n",
       "  114,\n",
       "  873,\n",
       "  671,\n",
       "  320,\n",
       "  16,\n",
       "  181,\n",
       "  717,\n",
       "  598,\n",
       "  246,\n",
       "  519,\n",
       "  265,\n",
       "  57,\n",
       "  534,\n",
       "  478,\n",
       "  36,\n",
       "  38,\n",
       "  587,\n",
       "  438,\n",
       "  400],\n",
       " 15: [437],\n",
       " 34: [360, 683, 560, 195, 108, 171, 695],\n",
       " 2: [332, 430, 651, 605, 551, 117, 383, 686, 358, 183, 292],\n",
       " 36: [630, 19, 111, 387, 763, 274, 527],\n",
       " 17: [606, 385, 56, 241, 398, 656],\n",
       " 19: [290, 307, 783],\n",
       " 25: [823,\n",
       "  819,\n",
       "  631,\n",
       "  573,\n",
       "  154,\n",
       "  101,\n",
       "  317,\n",
       "  247,\n",
       "  554,\n",
       "  83,\n",
       "  49,\n",
       "  330,\n",
       "  469,\n",
       "  734,\n",
       "  504,\n",
       "  374,\n",
       "  526,\n",
       "  528,\n",
       "  546],\n",
       " 12: [818,\n",
       "  847,\n",
       "  52,\n",
       "  513,\n",
       "  162,\n",
       "  803,\n",
       "  712,\n",
       "  814,\n",
       "  885,\n",
       "  805,\n",
       "  334,\n",
       "  628,\n",
       "  11,\n",
       "  421,\n",
       "  599,\n",
       "  226,\n",
       "  260,\n",
       "  601,\n",
       "  741,\n",
       "  780,\n",
       "  436,\n",
       "  668,\n",
       "  67,\n",
       "  464,\n",
       "  381,\n",
       "  182,\n",
       "  579,\n",
       "  648,\n",
       "  718,\n",
       "  153,\n",
       "  725,\n",
       "  583],\n",
       " 31: [771, 261, 462, 14, 536, 696, 267, 420, 676, 713, 217],\n",
       " 38: [34, 793, 172, 751],\n",
       " 40: [184],\n",
       " 32: [434, 670, 471, 769, 259, 653, 499, 662],\n",
       " 16: [367, 489],\n",
       " 41: [130, 299, 457, 401],\n",
       " 5: [836, 743, 109, 542, 790, 141, 281],\n",
       " 30: [506],\n",
       " 13: [60],\n",
       " 22: [302, 90, 574, 190],\n",
       " 4: [623, 472, 315, 645, 345],\n",
       " 23: [78, 474, 854, 827],\n",
       " 39: [454],\n",
       " 8: [661, 416, 580, 248, 179, 755, 343],\n",
       " 14: [507],\n",
       " 3: [530,\n",
       "  808,\n",
       "  491,\n",
       "  18,\n",
       "  268,\n",
       "  665,\n",
       "  245,\n",
       "  393,\n",
       "  266,\n",
       "  131,\n",
       "  355,\n",
       "  249,\n",
       "  566,\n",
       "  322,\n",
       "  86,\n",
       "  634,\n",
       "  550,\n",
       "  59,\n",
       "  164,\n",
       "  875,\n",
       "  789],\n",
       " 26: [761, 706, 53],\n",
       " 35: [348, 210],\n",
       " 24: [480],\n",
       " -1: [-1],\n",
       " 11: [776, 224],\n",
       " 28: [878]}"
      ]
     },
     "execution_count": 18,
     "metadata": {},
     "output_type": "execute_result"
    }
   ],
   "source": [
    "# subsector와 mct_cate의 계층구조 matching dict\n",
    "mct_cate_hier_dict = {}\n",
    "\n",
    "for x in merchant['subsector_id'].unique():\n",
    "    cate_id = merchant[merchant['subsector_id'] == x]['merchant_category_id'].unique()\n",
    "    mct_cate_hier_dict[x] = list(cate_id)\n",
    "\n",
    "mct_cate_hier_dict"
   ]
  },
  {
   "cell_type": "code",
   "execution_count": 19,
   "metadata": {},
   "outputs": [
    {
     "data": {
      "text/plain": [
       "[-1]"
      ]
     },
     "execution_count": 19,
     "metadata": {},
     "output_type": "execute_result"
    }
   ],
   "source": [
    "mct_cate_hier_dict[-1]"
   ]
  },
  {
   "cell_type": "markdown",
   "metadata": {},
   "source": [
    "`subsector_id`와 `merchant_category_id`모두 -1인 경우가 있는데 이건 아무래도 missing value인 것 같다."
   ]
  },
  {
   "cell_type": "code",
   "execution_count": 20,
   "metadata": {},
   "outputs": [
    {
     "data": {
      "text/plain": [
       "[792,\n",
       " 806,\n",
       " 556,\n",
       " 340,\n",
       " 225,\n",
       " 514,\n",
       " 685,\n",
       " 840,\n",
       " 529,\n",
       " 2,\n",
       " 342,\n",
       " 180,\n",
       " 273,\n",
       " 702,\n",
       " 458,\n",
       " 396,\n",
       " 69,\n",
       " 351,\n",
       " 714,\n",
       " 690,\n",
       " 419,\n",
       " 206,\n",
       " 829,\n",
       " 222,\n",
       " 309,\n",
       " 456,\n",
       " 692,\n",
       " 411,\n",
       " 356,\n",
       " 215,\n",
       " 443,\n",
       " 9,\n",
       " 40,\n",
       " 115,\n",
       " 667,\n",
       " 201,\n",
       " 223,\n",
       " 71,\n",
       " 140,\n",
       " 87,\n",
       " 369,\n",
       " 427,\n",
       " 63,\n",
       " 497,\n",
       " 68,\n",
       " 779,\n",
       " 432,\n",
       " 884,\n",
       " 531,\n",
       " 518,\n",
       " 289,\n",
       " 422,\n",
       " 357,\n",
       " 276,\n",
       " 834,\n",
       " 417,\n",
       " 319,\n",
       " 126,\n",
       " 889,\n",
       " 813,\n",
       " 81,\n",
       " 703,\n",
       " 891,\n",
       " 178,\n",
       " 544,\n",
       " 33,\n",
       " 774,\n",
       " 414,\n",
       " 166,\n",
       " 607,\n",
       " 557,\n",
       " 650,\n",
       " 498,\n",
       " 110,\n",
       " 843,\n",
       " 568,\n",
       " 748,\n",
       " 21,\n",
       " 795,\n",
       " 157,\n",
       " 145,\n",
       " 409,\n",
       " 614,\n",
       " 879,\n",
       " 593,\n",
       " 386,\n",
       " 839,\n",
       " 31,\n",
       " 187,\n",
       " 664,\n",
       " 523,\n",
       " 881,\n",
       " 448,\n",
       " 757,\n",
       " 45,\n",
       " 412,\n",
       " 373,\n",
       " 669,\n",
       " 363,\n",
       " 737,\n",
       " 415,\n",
       " 482,\n",
       " 278,\n",
       " 80,\n",
       " 842,\n",
       " 637,\n",
       " 509,\n",
       " 298,\n",
       " 796,\n",
       " 333,\n",
       " 119,\n",
       " 198,\n",
       " 705,\n",
       " 613,\n",
       " 642,\n",
       " 511,\n",
       " 781,\n",
       " 591,\n",
       " 652,\n",
       " 451,\n",
       " 105,\n",
       " 391,\n",
       " 384,\n",
       " 209,\n",
       " 561,\n",
       " 216,\n",
       " 312,\n",
       " 114,\n",
       " 873,\n",
       " 671,\n",
       " 320,\n",
       " 16,\n",
       " 181,\n",
       " 717,\n",
       " 598,\n",
       " 246,\n",
       " 519,\n",
       " 265,\n",
       " 57,\n",
       " 534,\n",
       " 478,\n",
       " 36,\n",
       " 38,\n",
       " 587,\n",
       " 438,\n",
       " 400,\n",
       " 437,\n",
       " 360,\n",
       " 683,\n",
       " 560,\n",
       " 195,\n",
       " 108,\n",
       " 171,\n",
       " 695,\n",
       " 332,\n",
       " 430,\n",
       " 651,\n",
       " 605,\n",
       " 551,\n",
       " 117,\n",
       " 383,\n",
       " 686,\n",
       " 358,\n",
       " 183,\n",
       " 292,\n",
       " 630,\n",
       " 19,\n",
       " 111,\n",
       " 387,\n",
       " 763,\n",
       " 274,\n",
       " 527,\n",
       " 606,\n",
       " 385,\n",
       " 56,\n",
       " 241,\n",
       " 398,\n",
       " 656,\n",
       " 290,\n",
       " 307,\n",
       " 783,\n",
       " 823,\n",
       " 819,\n",
       " 631,\n",
       " 573,\n",
       " 154,\n",
       " 101,\n",
       " 317,\n",
       " 247,\n",
       " 554,\n",
       " 83,\n",
       " 49,\n",
       " 330,\n",
       " 469,\n",
       " 734,\n",
       " 504,\n",
       " 374,\n",
       " 526,\n",
       " 528,\n",
       " 546,\n",
       " 818,\n",
       " 847,\n",
       " 52,\n",
       " 513,\n",
       " 162,\n",
       " 803,\n",
       " 712,\n",
       " 814,\n",
       " 885,\n",
       " 805,\n",
       " 334,\n",
       " 628,\n",
       " 11,\n",
       " 421,\n",
       " 599,\n",
       " 226,\n",
       " 260,\n",
       " 601,\n",
       " 741,\n",
       " 780,\n",
       " 436,\n",
       " 668,\n",
       " 67,\n",
       " 464,\n",
       " 381,\n",
       " 182,\n",
       " 579,\n",
       " 648,\n",
       " 718,\n",
       " 153,\n",
       " 725,\n",
       " 583,\n",
       " 771,\n",
       " 261,\n",
       " 462,\n",
       " 14,\n",
       " 536,\n",
       " 696,\n",
       " 267,\n",
       " 420,\n",
       " 676,\n",
       " 713,\n",
       " 217,\n",
       " 34,\n",
       " 793,\n",
       " 172,\n",
       " 751,\n",
       " 184,\n",
       " 434,\n",
       " 670,\n",
       " 471,\n",
       " 769,\n",
       " 259,\n",
       " 653,\n",
       " 499,\n",
       " 662,\n",
       " 367,\n",
       " 489,\n",
       " 130,\n",
       " 299,\n",
       " 457,\n",
       " 401,\n",
       " 836,\n",
       " 743,\n",
       " 109,\n",
       " 542,\n",
       " 790,\n",
       " 141,\n",
       " 281,\n",
       " 506,\n",
       " 60,\n",
       " 302,\n",
       " 90,\n",
       " 574,\n",
       " 190,\n",
       " 623,\n",
       " 472,\n",
       " 315,\n",
       " 645,\n",
       " 345,\n",
       " 78,\n",
       " 474,\n",
       " 854,\n",
       " 827,\n",
       " 454,\n",
       " 661,\n",
       " 416,\n",
       " 580,\n",
       " 248,\n",
       " 179,\n",
       " 755,\n",
       " 343,\n",
       " 507,\n",
       " 530,\n",
       " 808,\n",
       " 491,\n",
       " 18,\n",
       " 268,\n",
       " 665,\n",
       " 245,\n",
       " 393,\n",
       " 266,\n",
       " 131,\n",
       " 355,\n",
       " 249,\n",
       " 566,\n",
       " 322,\n",
       " 86,\n",
       " 634,\n",
       " 550,\n",
       " 59,\n",
       " 164,\n",
       " 875,\n",
       " 789,\n",
       " 761,\n",
       " 706,\n",
       " 53,\n",
       " 348,\n",
       " 210,\n",
       " 480,\n",
       " -1,\n",
       " 776,\n",
       " 224,\n",
       " 878]"
      ]
     },
     "execution_count": 20,
     "metadata": {},
     "output_type": "execute_result"
    }
   ],
   "source": [
    "num_mct_cate = []\n",
    "for k, v in mct_cate_hier_dict.items():\n",
    "     num_mct_cate += v\n",
    "num_mct_cate"
   ]
  },
  {
   "cell_type": "code",
   "execution_count": 21,
   "metadata": {},
   "outputs": [
    {
     "data": {
      "text/plain": [
       "324"
      ]
     },
     "execution_count": 21,
     "metadata": {},
     "output_type": "execute_result"
    }
   ],
   "source": [
    "len(set(num_mct_cate)) # set은 중복되는 elements를 1번만 씀"
   ]
  },
  {
   "cell_type": "markdown",
   "metadata": {},
   "source": [
    "서로 다른 324개의 `merchant_category_id`가 나왔다. 계층구조 확인!<br>\n",
    "`subsector_id`, `merchant_category_id`처럼 계층 구조가 있는 경우, 상위 데이터를 쓸 지 하위 데이터를 쓸 지 결정해야 한다."
   ]
  },
  {
   "cell_type": "markdown",
   "metadata": {},
   "source": [
    "- merchant_group_id"
   ]
  },
  {
   "cell_type": "code",
   "execution_count": 22,
   "metadata": {},
   "outputs": [
    {
     "data": {
      "text/plain": [
       "109391"
      ]
     },
     "execution_count": 22,
     "metadata": {},
     "output_type": "execute_result"
    },
    {
     "data": {
      "text/plain": [
       "0"
      ]
     },
     "execution_count": 22,
     "metadata": {},
     "output_type": "execute_result"
    }
   ],
   "source": [
    "merchant['merchant_group_id'].nunique()\n",
    "sum(merchant['merchant_group_id'] == -1)"
   ]
  },
  {
   "cell_type": "markdown",
   "metadata": {},
   "source": [
    "`merchant_group_id`도 `subsector_id`, `merchant_category_id`와 계층 구조가 있을 수 있으므로 확인하겠다."
   ]
  },
  {
   "cell_type": "code",
   "execution_count": 23,
   "metadata": {},
   "outputs": [
    {
     "data": {
      "text/plain": [
       "149970"
      ]
     },
     "execution_count": 23,
     "metadata": {},
     "output_type": "execute_result"
    },
    {
     "data": {
      "text/plain": [
       "178544"
      ]
     },
     "execution_count": 23,
     "metadata": {},
     "output_type": "execute_result"
    }
   ],
   "source": [
    "merchant.groupby('subsector_id')['merchant_group_id'].nunique().sum()\n",
    "merchant.groupby('merchant_category_id')['merchant_group_id'].nunique().sum()"
   ]
  },
  {
   "cell_type": "markdown",
   "metadata": {},
   "source": [
    "계층구조 없음! 따라서 `merchant_group_id`는 merchant의 독립적인 특성으로 볼 수 있다."
   ]
  },
  {
   "cell_type": "markdown",
   "metadata": {},
   "source": [
    "- city_id/state_id\n",
    "\n",
    "당연히 얘네도 계층구조 갖겠지요"
   ]
  },
  {
   "cell_type": "code",
   "execution_count": 24,
   "metadata": {},
   "outputs": [
    {
     "data": {
      "text/plain": [
       "271"
      ]
     },
     "execution_count": 24,
     "metadata": {},
     "output_type": "execute_result"
    },
    {
     "data": {
      "text/plain": [
       "25"
      ]
     },
     "execution_count": 24,
     "metadata": {},
     "output_type": "execute_result"
    }
   ],
   "source": [
    "merchant['city_id'].nunique()\n",
    "merchant['state_id'].nunique()"
   ]
  },
  {
   "cell_type": "code",
   "execution_count": 25,
   "metadata": {},
   "outputs": [
    {
     "data": {
      "text/plain": [
       "array([242,  22,  -1, 160,  60, 248,  88, 158,  11, 143, 282, 123, 126,\n",
       "       272,  85, 140,  62,  63, 323, 200, 310,  69, 239,  17,   4, 231,\n",
       "       124,   3, 301,  87, 186, 150, 156, 161, 209,  25, 303, 101,  12,\n",
       "       147,  44, 254,  58,  32,  53,  96, 213, 214, 125, 229, 168,  30,\n",
       "       204,  94, 210, 137, 165, 187, 223, 238, 205, 157, 114, 276,  76,\n",
       "       233, 183, 277, 212, 247, 167, 274, 343, 251, 283,   9,  21,  84,\n",
       "         7, 297, 291,  33, 246, 169, 228, 201, 181, 253, 159, 172,  47,\n",
       "         6, 113, 206,  51,  82,  80,  36, 215, 259, 314,  98, 295, 174,\n",
       "       211, 339, 250, 307,  24,  48,  89, 341, 275,  66, 224, 189, 230,\n",
       "       100, 142, 342, 135, 105, 115,  64, 153, 245, 299,  14, 184, 208,\n",
       "       235, 219, 108, 119, 329, 163, 139, 220,  52,  10, 285, 337, 308,\n",
       "       300, 155, 256, 271,   1, 333, 116, 136, 281,  56, 218,   8, 340,\n",
       "       261, 146,  38, 106,  46, 325,  42, 226, 268,  90, 129, 289, 270,\n",
       "        91, 130, 311, 216, 294, 278, 171, 336, 117, 148, 255, 288, 180,\n",
       "       318, 203, 260, 110, 334,  41,  61, 232, 327, 151, 240,  78, 262,\n",
       "        39, 166,  49,  23, 221,  97, 191, 128,  65, 133, 252, 190, 258,\n",
       "       296,  16, 193, 293, 287,  70, 321, 131, 269, 236, 198, 309, 188,\n",
       "        34, 175, 306, 347, 112, 234,  28,  86, 290, 267,  29,   2, 313,\n",
       "        74,  68, 279, 182,  71, 338, 162, 104,  81,  83, 194, 144, 312,\n",
       "        13,  26, 326, 328, 263, 145, 304, 345, 173, 286, 265, 120, 178,\n",
       "       111,  40,  77, 237,  73,  35,  92, 118, 330,  18, 320])"
      ]
     },
     "execution_count": 25,
     "metadata": {},
     "output_type": "execute_result"
    },
    {
     "data": {
      "text/plain": [
       "array([ 9, 16,  5, -1, 21, 15, 20, 23, 18, 19,  4,  8,  1,  2, 22,  7,  6,\n",
       "       13, 10, 24, 11, 14,  3, 12, 17])"
      ]
     },
     "execution_count": 25,
     "metadata": {},
     "output_type": "execute_result"
    }
   ],
   "source": [
    "merchant['city_id'].unique()\n",
    "merchant['state_id'].unique()"
   ]
  },
  {
   "cell_type": "markdown",
   "metadata": {},
   "source": [
    "`city_id`랑 `state_id`가 다 숫자(id)로 생겨서 matching 시켜주는 dict를 만들어야겠다."
   ]
  },
  {
   "cell_type": "code",
   "execution_count": 26,
   "metadata": {},
   "outputs": [
    {
     "data": {
      "text/plain": [
       "{9: [242,\n",
       "  -1,\n",
       "  272,\n",
       "  140,\n",
       "  62,\n",
       "  63,\n",
       "  69,\n",
       "  231,\n",
       "  186,\n",
       "  209,\n",
       "  96,\n",
       "  213,\n",
       "  168,\n",
       "  238,\n",
       "  276,\n",
       "  233,\n",
       "  183,\n",
       "  167,\n",
       "  274,\n",
       "  283,\n",
       "  21,\n",
       "  7,\n",
       "  297,\n",
       "  291,\n",
       "  159,\n",
       "  6,\n",
       "  314,\n",
       "  98,\n",
       "  295,\n",
       "  174,\n",
       "  339,\n",
       "  250,\n",
       "  24,\n",
       "  48,\n",
       "  189,\n",
       "  230,\n",
       "  105,\n",
       "  115,\n",
       "  299,\n",
       "  184,\n",
       "  329,\n",
       "  163,\n",
       "  139,\n",
       "  220,\n",
       "  285,\n",
       "  155,\n",
       "  271,\n",
       "  333,\n",
       "  116,\n",
       "  340,\n",
       "  261,\n",
       "  106,\n",
       "  325,\n",
       "  129,\n",
       "  311,\n",
       "  294,\n",
       "  117,\n",
       "  255,\n",
       "  318,\n",
       "  327,\n",
       "  151,\n",
       "  78,\n",
       "  49,\n",
       "  23,\n",
       "  191,\n",
       "  128,\n",
       "  70,\n",
       "  131,\n",
       "  198,\n",
       "  309,\n",
       "  188,\n",
       "  28,\n",
       "  279,\n",
       "  83,\n",
       "  13,\n",
       "  173,\n",
       "  265,\n",
       "  111,\n",
       "  77],\n",
       " 16: [22,\n",
       "  60,\n",
       "  88,\n",
       "  -1,\n",
       "  3,\n",
       "  32,\n",
       "  214,\n",
       "  125,\n",
       "  210,\n",
       "  343,\n",
       "  9,\n",
       "  47,\n",
       "  51,\n",
       "  224,\n",
       "  100,\n",
       "  308,\n",
       "  226,\n",
       "  270,\n",
       "  336,\n",
       "  110,\n",
       "  65,\n",
       "  175,\n",
       "  267,\n",
       "  68,\n",
       "  71,\n",
       "  104,\n",
       "  312,\n",
       "  328,\n",
       "  345],\n",
       " 5: [-1,\n",
       "  143,\n",
       "  310,\n",
       "  150,\n",
       "  12,\n",
       "  44,\n",
       "  247,\n",
       "  201,\n",
       "  181,\n",
       "  256,\n",
       "  289,\n",
       "  278,\n",
       "  260,\n",
       "  240,\n",
       "  287,\n",
       "  269,\n",
       "  313,\n",
       "  145],\n",
       " -1: [-1],\n",
       " 21: [160,\n",
       "  223,\n",
       "  -1,\n",
       "  259,\n",
       "  89,\n",
       "  119,\n",
       "  281,\n",
       "  268,\n",
       "  171,\n",
       "  39,\n",
       "  306,\n",
       "  234,\n",
       "  182,\n",
       "  194,\n",
       "  26,\n",
       "  120,\n",
       "  178],\n",
       " 15: [248,\n",
       "  158,\n",
       "  -1,\n",
       "  303,\n",
       "  254,\n",
       "  229,\n",
       "  165,\n",
       "  187,\n",
       "  33,\n",
       "  228,\n",
       "  253,\n",
       "  341,\n",
       "  275,\n",
       "  64,\n",
       "  153,\n",
       "  219,\n",
       "  108,\n",
       "  300,\n",
       "  90,\n",
       "  252,\n",
       "  296,\n",
       "  193,\n",
       "  236,\n",
       "  290,\n",
       "  29,\n",
       "  74,\n",
       "  326,\n",
       "  237,\n",
       "  35,\n",
       "  118],\n",
       " 20: [-1, 53, 169, 342, 14, 337, 56, 216, 288, 334, 41, 347, 162, 304],\n",
       " 23: [11, 206, 82, -1, 208],\n",
       " 18: [282, 200, -1],\n",
       " 19: [123,\n",
       "  -1,\n",
       "  147,\n",
       "  94,\n",
       "  137,\n",
       "  113,\n",
       "  211,\n",
       "  66,\n",
       "  142,\n",
       "  146,\n",
       "  46,\n",
       "  42,\n",
       "  148,\n",
       "  258,\n",
       "  338,\n",
       "  40,\n",
       "  73],\n",
       " 4: [126, -1, 101, 58, 114, 212, 80, 52, 136, 166, 18],\n",
       " 8: [85, 251, -1],\n",
       " 1: [-1, 246],\n",
       " 2: [323, 76, -1],\n",
       " 22: [-1, 17],\n",
       " 7: [239, 156, 25, -1, 135, 38, 130, 133, 190, 16, 86, 263],\n",
       " 6: [-1],\n",
       " 13: [-1, 157, 277, 203, 232, 320],\n",
       " 10: [4, -1, 92],\n",
       " 24: [124, -1, 204, 36, 215, 307, 180, 221, 293, 81],\n",
       " 11: [-1, 301, 87, 2, 144],\n",
       " 14: [-1, 205, 172, 245, 112],\n",
       " 3: [161, -1, 10, 97, 286],\n",
       " 12: [-1, 84, 235, 1, 218, 8, 91, 61, 262, 321, 34],\n",
       " 17: [30, -1, 330]}"
      ]
     },
     "execution_count": 26,
     "metadata": {},
     "output_type": "execute_result"
    }
   ],
   "source": [
    "# state와 city의 계층구조 matching dict\n",
    "mct_loc_hier_dict = {}\n",
    "\n",
    "for x in merchant['state_id'].unique():\n",
    "    cate_id = merchant[merchant['state_id'] == x]['city_id'].unique()\n",
    "    mct_loc_hier_dict[x] = list(cate_id)\n",
    "\n",
    "mct_loc_hier_dict"
   ]
  },
  {
   "cell_type": "markdown",
   "metadata": {},
   "source": [
    "-1이 다 들어 가 있다. 그리고 `state_id`=-1인 경우엔 `city_id`가 -1뿐이다. missing value인 것 같다."
   ]
  },
  {
   "cell_type": "code",
   "execution_count": 27,
   "metadata": {},
   "outputs": [
    {
     "data": {
      "text/plain": [
       "295"
      ]
     },
     "execution_count": 27,
     "metadata": {},
     "output_type": "execute_result"
    }
   ],
   "source": [
    "merchant.groupby('state_id')['city_id'].nunique().sum()"
   ]
  },
  {
   "cell_type": "markdown",
   "metadata": {},
   "source": [
    "unique한 `city_id`는 271개인데 295개가 나왔으므로, 중복되는 `city_id`를 갖는 `state_id`들이 있다. <br>\n",
    "어떤 `state_id`들이 같은 `city_id`를 공유하는지 확인하자. <br>\n",
    "`city_id`별로 `state_id`가 몇 개씩 나오나 확인하면 된다."
   ]
  },
  {
   "cell_type": "code",
   "execution_count": 28,
   "metadata": {},
   "outputs": [
    {
     "data": {
      "text/html": [
       "<div>\n",
       "<style scoped>\n",
       "    .dataframe tbody tr th:only-of-type {\n",
       "        vertical-align: middle;\n",
       "    }\n",
       "\n",
       "    .dataframe tbody tr th {\n",
       "        vertical-align: top;\n",
       "    }\n",
       "\n",
       "    .dataframe thead th {\n",
       "        text-align: right;\n",
       "    }\n",
       "</style>\n",
       "<table border=\"1\" class=\"dataframe\">\n",
       "  <thead>\n",
       "    <tr style=\"text-align: right;\">\n",
       "      <th></th>\n",
       "      <th>number of states</th>\n",
       "    </tr>\n",
       "    <tr>\n",
       "      <th>city_id</th>\n",
       "      <th></th>\n",
       "    </tr>\n",
       "  </thead>\n",
       "  <tbody>\n",
       "    <tr>\n",
       "      <th>-1</th>\n",
       "      <td>25</td>\n",
       "    </tr>\n",
       "    <tr>\n",
       "      <th>1</th>\n",
       "      <td>1</td>\n",
       "    </tr>\n",
       "    <tr>\n",
       "      <th>2</th>\n",
       "      <td>1</td>\n",
       "    </tr>\n",
       "    <tr>\n",
       "      <th>3</th>\n",
       "      <td>1</td>\n",
       "    </tr>\n",
       "    <tr>\n",
       "      <th>4</th>\n",
       "      <td>1</td>\n",
       "    </tr>\n",
       "    <tr>\n",
       "      <th>6</th>\n",
       "      <td>1</td>\n",
       "    </tr>\n",
       "    <tr>\n",
       "      <th>7</th>\n",
       "      <td>1</td>\n",
       "    </tr>\n",
       "    <tr>\n",
       "      <th>8</th>\n",
       "      <td>1</td>\n",
       "    </tr>\n",
       "    <tr>\n",
       "      <th>9</th>\n",
       "      <td>1</td>\n",
       "    </tr>\n",
       "    <tr>\n",
       "      <th>10</th>\n",
       "      <td>1</td>\n",
       "    </tr>\n",
       "    <tr>\n",
       "      <th>11</th>\n",
       "      <td>1</td>\n",
       "    </tr>\n",
       "    <tr>\n",
       "      <th>12</th>\n",
       "      <td>1</td>\n",
       "    </tr>\n",
       "    <tr>\n",
       "      <th>13</th>\n",
       "      <td>1</td>\n",
       "    </tr>\n",
       "    <tr>\n",
       "      <th>14</th>\n",
       "      <td>1</td>\n",
       "    </tr>\n",
       "    <tr>\n",
       "      <th>16</th>\n",
       "      <td>1</td>\n",
       "    </tr>\n",
       "    <tr>\n",
       "      <th>17</th>\n",
       "      <td>1</td>\n",
       "    </tr>\n",
       "    <tr>\n",
       "      <th>18</th>\n",
       "      <td>1</td>\n",
       "    </tr>\n",
       "    <tr>\n",
       "      <th>21</th>\n",
       "      <td>1</td>\n",
       "    </tr>\n",
       "    <tr>\n",
       "      <th>22</th>\n",
       "      <td>1</td>\n",
       "    </tr>\n",
       "    <tr>\n",
       "      <th>23</th>\n",
       "      <td>1</td>\n",
       "    </tr>\n",
       "    <tr>\n",
       "      <th>24</th>\n",
       "      <td>1</td>\n",
       "    </tr>\n",
       "    <tr>\n",
       "      <th>25</th>\n",
       "      <td>1</td>\n",
       "    </tr>\n",
       "    <tr>\n",
       "      <th>26</th>\n",
       "      <td>1</td>\n",
       "    </tr>\n",
       "    <tr>\n",
       "      <th>28</th>\n",
       "      <td>1</td>\n",
       "    </tr>\n",
       "    <tr>\n",
       "      <th>29</th>\n",
       "      <td>1</td>\n",
       "    </tr>\n",
       "    <tr>\n",
       "      <th>30</th>\n",
       "      <td>1</td>\n",
       "    </tr>\n",
       "    <tr>\n",
       "      <th>32</th>\n",
       "      <td>1</td>\n",
       "    </tr>\n",
       "    <tr>\n",
       "      <th>33</th>\n",
       "      <td>1</td>\n",
       "    </tr>\n",
       "    <tr>\n",
       "      <th>34</th>\n",
       "      <td>1</td>\n",
       "    </tr>\n",
       "    <tr>\n",
       "      <th>35</th>\n",
       "      <td>1</td>\n",
       "    </tr>\n",
       "    <tr>\n",
       "      <th>...</th>\n",
       "      <td>...</td>\n",
       "    </tr>\n",
       "    <tr>\n",
       "      <th>307</th>\n",
       "      <td>1</td>\n",
       "    </tr>\n",
       "    <tr>\n",
       "      <th>308</th>\n",
       "      <td>1</td>\n",
       "    </tr>\n",
       "    <tr>\n",
       "      <th>309</th>\n",
       "      <td>1</td>\n",
       "    </tr>\n",
       "    <tr>\n",
       "      <th>310</th>\n",
       "      <td>1</td>\n",
       "    </tr>\n",
       "    <tr>\n",
       "      <th>311</th>\n",
       "      <td>1</td>\n",
       "    </tr>\n",
       "    <tr>\n",
       "      <th>312</th>\n",
       "      <td>1</td>\n",
       "    </tr>\n",
       "    <tr>\n",
       "      <th>313</th>\n",
       "      <td>1</td>\n",
       "    </tr>\n",
       "    <tr>\n",
       "      <th>314</th>\n",
       "      <td>1</td>\n",
       "    </tr>\n",
       "    <tr>\n",
       "      <th>318</th>\n",
       "      <td>1</td>\n",
       "    </tr>\n",
       "    <tr>\n",
       "      <th>320</th>\n",
       "      <td>1</td>\n",
       "    </tr>\n",
       "    <tr>\n",
       "      <th>321</th>\n",
       "      <td>1</td>\n",
       "    </tr>\n",
       "    <tr>\n",
       "      <th>323</th>\n",
       "      <td>1</td>\n",
       "    </tr>\n",
       "    <tr>\n",
       "      <th>325</th>\n",
       "      <td>1</td>\n",
       "    </tr>\n",
       "    <tr>\n",
       "      <th>326</th>\n",
       "      <td>1</td>\n",
       "    </tr>\n",
       "    <tr>\n",
       "      <th>327</th>\n",
       "      <td>1</td>\n",
       "    </tr>\n",
       "    <tr>\n",
       "      <th>328</th>\n",
       "      <td>1</td>\n",
       "    </tr>\n",
       "    <tr>\n",
       "      <th>329</th>\n",
       "      <td>1</td>\n",
       "    </tr>\n",
       "    <tr>\n",
       "      <th>330</th>\n",
       "      <td>1</td>\n",
       "    </tr>\n",
       "    <tr>\n",
       "      <th>333</th>\n",
       "      <td>1</td>\n",
       "    </tr>\n",
       "    <tr>\n",
       "      <th>334</th>\n",
       "      <td>1</td>\n",
       "    </tr>\n",
       "    <tr>\n",
       "      <th>336</th>\n",
       "      <td>1</td>\n",
       "    </tr>\n",
       "    <tr>\n",
       "      <th>337</th>\n",
       "      <td>1</td>\n",
       "    </tr>\n",
       "    <tr>\n",
       "      <th>338</th>\n",
       "      <td>1</td>\n",
       "    </tr>\n",
       "    <tr>\n",
       "      <th>339</th>\n",
       "      <td>1</td>\n",
       "    </tr>\n",
       "    <tr>\n",
       "      <th>340</th>\n",
       "      <td>1</td>\n",
       "    </tr>\n",
       "    <tr>\n",
       "      <th>341</th>\n",
       "      <td>1</td>\n",
       "    </tr>\n",
       "    <tr>\n",
       "      <th>342</th>\n",
       "      <td>1</td>\n",
       "    </tr>\n",
       "    <tr>\n",
       "      <th>343</th>\n",
       "      <td>1</td>\n",
       "    </tr>\n",
       "    <tr>\n",
       "      <th>345</th>\n",
       "      <td>1</td>\n",
       "    </tr>\n",
       "    <tr>\n",
       "      <th>347</th>\n",
       "      <td>1</td>\n",
       "    </tr>\n",
       "  </tbody>\n",
       "</table>\n",
       "<p>271 rows × 1 columns</p>\n",
       "</div>"
      ],
      "text/plain": [
       "         number of states\n",
       "city_id                  \n",
       "-1                     25\n",
       " 1                      1\n",
       " 2                      1\n",
       " 3                      1\n",
       " 4                      1\n",
       " 6                      1\n",
       " 7                      1\n",
       " 8                      1\n",
       " 9                      1\n",
       " 10                     1\n",
       " 11                     1\n",
       " 12                     1\n",
       " 13                     1\n",
       " 14                     1\n",
       " 16                     1\n",
       " 17                     1\n",
       " 18                     1\n",
       " 21                     1\n",
       " 22                     1\n",
       " 23                     1\n",
       " 24                     1\n",
       " 25                     1\n",
       " 26                     1\n",
       " 28                     1\n",
       " 29                     1\n",
       " 30                     1\n",
       " 32                     1\n",
       " 33                     1\n",
       " 34                     1\n",
       " 35                     1\n",
       "...                   ...\n",
       " 307                    1\n",
       " 308                    1\n",
       " 309                    1\n",
       " 310                    1\n",
       " 311                    1\n",
       " 312                    1\n",
       " 313                    1\n",
       " 314                    1\n",
       " 318                    1\n",
       " 320                    1\n",
       " 321                    1\n",
       " 323                    1\n",
       " 325                    1\n",
       " 326                    1\n",
       " 327                    1\n",
       " 328                    1\n",
       " 329                    1\n",
       " 330                    1\n",
       " 333                    1\n",
       " 334                    1\n",
       " 336                    1\n",
       " 337                    1\n",
       " 338                    1\n",
       " 339                    1\n",
       " 340                    1\n",
       " 341                    1\n",
       " 342                    1\n",
       " 343                    1\n",
       " 345                    1\n",
       " 347                    1\n",
       "\n",
       "[271 rows x 1 columns]"
      ]
     },
     "execution_count": 28,
     "metadata": {},
     "output_type": "execute_result"
    },
    {
     "data": {
      "text/html": [
       "<div>\n",
       "<style scoped>\n",
       "    .dataframe tbody tr th:only-of-type {\n",
       "        vertical-align: middle;\n",
       "    }\n",
       "\n",
       "    .dataframe tbody tr th {\n",
       "        vertical-align: top;\n",
       "    }\n",
       "\n",
       "    .dataframe thead th {\n",
       "        text-align: right;\n",
       "    }\n",
       "</style>\n",
       "<table border=\"1\" class=\"dataframe\">\n",
       "  <thead>\n",
       "    <tr style=\"text-align: right;\">\n",
       "      <th></th>\n",
       "      <th>state_id</th>\n",
       "    </tr>\n",
       "  </thead>\n",
       "  <tbody>\n",
       "    <tr>\n",
       "      <th>1</th>\n",
       "      <td>270</td>\n",
       "    </tr>\n",
       "    <tr>\n",
       "      <th>25</th>\n",
       "      <td>1</td>\n",
       "    </tr>\n",
       "  </tbody>\n",
       "</table>\n",
       "</div>"
      ],
      "text/plain": [
       "    state_id\n",
       "1        270\n",
       "25         1"
      ]
     },
     "execution_count": 28,
     "metadata": {},
     "output_type": "execute_result"
    }
   ],
   "source": [
    "merchant.groupby('city_id')['state_id'].nunique().to_frame(name='number of states')\n",
    "merchant.groupby('city_id')['state_id'].nunique().value_counts().to_frame()"
   ]
  },
  {
   "cell_type": "markdown",
   "metadata": {},
   "source": [
    "`city_id`=-1인 경우가 25가지 이다. 따라서 `state_id`=-1인 경우를 제외한 다른 24개의 state에서 city를 모르는 경우가 있다는 의미이다. 어떤 state에서 `city_id`=-1 값을 가질까?"
   ]
  },
  {
   "cell_type": "code",
   "execution_count": 29,
   "metadata": {},
   "outputs": [
    {
     "data": {
      "text/plain": [
       "array([-1,  1,  2,  3,  4,  5,  6,  7,  8,  9, 10, 11, 12, 13, 14, 15, 16,\n",
       "       17, 18, 19, 20, 21, 22, 23, 24])"
      ]
     },
     "execution_count": 29,
     "metadata": {},
     "output_type": "execute_result"
    }
   ],
   "source": [
    "city_minus_1 = merchant[merchant['city_id'] == -1]['state_id'].unique()\n",
    "np.sort(city_minus_1)"
   ]
  },
  {
   "cell_type": "markdown",
   "metadata": {},
   "source": [
    "위의 `state_id`가 `city_id`=-1을 포함하는 곳이다. <br>\n",
    "따라서 `city_id`=-1 때문에 `state_id`와 `city_id`를 완벽한 계층구조로 볼 수는 없을 것 같다. [더 생각해볼 것] "
   ]
  },
  {
   "cell_type": "markdown",
   "metadata": {},
   "source": [
    "- category_1/2/4"
   ]
  },
  {
   "cell_type": "code",
   "execution_count": 30,
   "metadata": {},
   "outputs": [
    {
     "data": {
      "text/plain": [
       "2"
      ]
     },
     "execution_count": 30,
     "metadata": {},
     "output_type": "execute_result"
    },
    {
     "data": {
      "text/plain": [
       "5"
      ]
     },
     "execution_count": 30,
     "metadata": {},
     "output_type": "execute_result"
    },
    {
     "data": {
      "text/plain": [
       "2"
      ]
     },
     "execution_count": 30,
     "metadata": {},
     "output_type": "execute_result"
    }
   ],
   "source": [
    "merchant['category_1'].nunique()\n",
    "merchant['category_2'].nunique()\n",
    "merchant['category_4'].nunique()"
   ]
  },
  {
   "cell_type": "code",
   "execution_count": 31,
   "metadata": {},
   "outputs": [
    {
     "data": {
      "text/plain": [
       "array(['N', 'Y'], dtype=object)"
      ]
     },
     "execution_count": 31,
     "metadata": {},
     "output_type": "execute_result"
    },
    {
     "data": {
      "text/plain": [
       "array([ 1.,  5., nan,  2.,  3.,  4.])"
      ]
     },
     "execution_count": 31,
     "metadata": {},
     "output_type": "execute_result"
    },
    {
     "data": {
      "text/plain": [
       "array(['N', 'Y'], dtype=object)"
      ]
     },
     "execution_count": 31,
     "metadata": {},
     "output_type": "execute_result"
    }
   ],
   "source": [
    "merchant['category_1'].unique()\n",
    "merchant['category_2'].unique()\n",
    "merchant['category_4'].unique()"
   ]
  },
  {
   "cell_type": "code",
   "execution_count": 32,
   "metadata": {},
   "outputs": [
    {
     "data": {
      "text/plain": [
       "'category_2의 missing value는 전체 데이터의 3.55% 이다.'"
      ]
     },
     "execution_count": 32,
     "metadata": {},
     "output_type": "execute_result"
    }
   ],
   "source": [
    "# category_2의 missing value\n",
    "'category_2의 missing value는 전체 데이터의 {}% 이다.'.format(round(merchant['category_2'].isnull().sum()/merchant.shape[0] * 100, 2))"
   ]
  },
  {
   "cell_type": "code",
   "execution_count": 33,
   "metadata": {},
   "outputs": [
    {
     "data": {
      "text/plain": [
       "<matplotlib.axes._subplots.AxesSubplot at 0x7f70b8124358>"
      ]
     },
     "execution_count": 33,
     "metadata": {},
     "output_type": "execute_result"
    },
    {
     "data": {
      "text/plain": [
       "<matplotlib.axes._subplots.AxesSubplot at 0x7f70b80efcf8>"
      ]
     },
     "execution_count": 33,
     "metadata": {},
     "output_type": "execute_result"
    },
    {
     "data": {
      "text/plain": [
       "<matplotlib.axes._subplots.AxesSubplot at 0x7f70b809e358>"
      ]
     },
     "execution_count": 33,
     "metadata": {},
     "output_type": "execute_result"
    },
    {
     "data": {
      "image/png": "[encoded data removed]",
      "text/plain": [
       "<Figure size 1152x432 with 3 Axes>"
      ]
     },
     "metadata": {},
     "output_type": "display_data"
    }
   ],
   "source": [
    "fig, axes = plt.subplots(1, 3, figsize=(16,6))\n",
    "sns.countplot(merchant['category_1'], color='teal', ax=axes[0])\n",
    "sns.countplot(merchant['category_2'], color='brown', ax=axes[1])\n",
    "sns.countplot(merchant['category_4'], color='gold', ax=axes[2])"
   ]
  },
  {
   "cell_type": "markdown",
   "metadata": {},
   "source": [
    "category_1 : N>>>>>Y이므로 Y인 merchant의 특징을 찾으면 좋을 것 같다. <br>\n",
    "category_2 : 1>>>>3,4,5>2 <br>\n",
    "category_4 : N>>Y"
   ]
  },
  {
   "cell_type": "markdown",
   "metadata": {},
   "source": [
    "- numerical_1/2"
   ]
  },
  {
   "cell_type": "code",
   "execution_count": 34,
   "metadata": {},
   "outputs": [
    {
     "data": {
      "text/html": [
       "<div>\n",
       "<style scoped>\n",
       "    .dataframe tbody tr th:only-of-type {\n",
       "        vertical-align: middle;\n",
       "    }\n",
       "\n",
       "    .dataframe tbody tr th {\n",
       "        vertical-align: top;\n",
       "    }\n",
       "\n",
       "    .dataframe thead th {\n",
       "        text-align: right;\n",
       "    }\n",
       "</style>\n",
       "<table border=\"1\" class=\"dataframe\">\n",
       "  <thead>\n",
       "    <tr style=\"text-align: right;\">\n",
       "      <th></th>\n",
       "      <th>numerical_1</th>\n",
       "      <th>numerical_2</th>\n",
       "    </tr>\n",
       "  </thead>\n",
       "  <tbody>\n",
       "    <tr>\n",
       "      <th>count</th>\n",
       "      <td>334696.000000</td>\n",
       "      <td>334696.000000</td>\n",
       "    </tr>\n",
       "    <tr>\n",
       "      <th>mean</th>\n",
       "      <td>0.011476</td>\n",
       "      <td>0.008103</td>\n",
       "    </tr>\n",
       "    <tr>\n",
       "      <th>std</th>\n",
       "      <td>1.098154</td>\n",
       "      <td>1.070497</td>\n",
       "    </tr>\n",
       "    <tr>\n",
       "      <th>min</th>\n",
       "      <td>-0.057471</td>\n",
       "      <td>-0.057471</td>\n",
       "    </tr>\n",
       "    <tr>\n",
       "      <th>25%</th>\n",
       "      <td>-0.057471</td>\n",
       "      <td>-0.057471</td>\n",
       "    </tr>\n",
       "    <tr>\n",
       "      <th>50%</th>\n",
       "      <td>-0.057471</td>\n",
       "      <td>-0.057471</td>\n",
       "    </tr>\n",
       "    <tr>\n",
       "      <th>75%</th>\n",
       "      <td>-0.047556</td>\n",
       "      <td>-0.047556</td>\n",
       "    </tr>\n",
       "    <tr>\n",
       "      <th>max</th>\n",
       "      <td>183.735111</td>\n",
       "      <td>182.079322</td>\n",
       "    </tr>\n",
       "  </tbody>\n",
       "</table>\n",
       "</div>"
      ],
      "text/plain": [
       "         numerical_1    numerical_2\n",
       "count  334696.000000  334696.000000\n",
       "mean        0.011476       0.008103\n",
       "std         1.098154       1.070497\n",
       "min        -0.057471      -0.057471\n",
       "25%        -0.057471      -0.057471\n",
       "50%        -0.057471      -0.057471\n",
       "75%        -0.047556      -0.047556\n",
       "max       183.735111     182.079322"
      ]
     },
     "execution_count": 34,
     "metadata": {},
     "output_type": "execute_result"
    }
   ],
   "source": [
    "merchant[['numerical_1', 'numerical_2']].describe()"
   ]
  },
  {
   "cell_type": "markdown",
   "metadata": {},
   "source": [
    "`numerical_1`과 `numerical_2`의 분포가 비슷해보인다. "
   ]
  },
  {
   "cell_type": "code",
   "execution_count": 35,
   "metadata": {},
   "outputs": [
    {
     "data": {
      "text/plain": [
       "Text(0.5, 1.0, 'violinplot: numerical_1')"
      ]
     },
     "execution_count": 35,
     "metadata": {},
     "output_type": "execute_result"
    },
    {
     "data": {
      "text/plain": [
       "Text(0.5, 1.0, 'boxplot: numerical_1')"
      ]
     },
     "execution_count": 35,
     "metadata": {},
     "output_type": "execute_result"
    },
    {
     "data": {
      "text/plain": [
       "Text(0.5, 1.0, 'violinplot: numerical_2')"
      ]
     },
     "execution_count": 35,
     "metadata": {},
     "output_type": "execute_result"
    },
    {
     "data": {
      "text/plain": [
       "Text(0.5, 1.0, 'boxplot: numerical_2')"
      ]
     },
     "execution_count": 35,
     "metadata": {},
     "output_type": "execute_result"
    },
    {
     "data": {
      "image/png": "[encoded data removed]",
      "text/plain": [
       "<Figure size 864x864 with 4 Axes>"
      ]
     },
     "metadata": {},
     "output_type": "display_data"
    }
   ],
   "source": [
    "fig, axes = plt.subplots(2, 2, figsize=(12,12))\n",
    "sns.violinplot(merchant['numerical_1'], ax=axes[0,0], color='teal').set_title('violinplot: numerical_1')\n",
    "sns.boxplot(merchant['numerical_1'], ax=axes[0,1], color='teal').set_title('boxplot: numerical_1')\n",
    "sns.violinplot(merchant['numerical_2'], ax=axes[1,0], color='gold').set_title('violinplot: numerical_2')\n",
    "sns.boxplot(merchant['numerical_2'], ax=axes[1,1], color='gold').set_title('boxplot: numerical_2')"
   ]
  },
  {
   "cell_type": "markdown",
   "metadata": {},
   "source": [
    "너무 작은 값쪽에 몰려있다. log 변환 해보자."
   ]
  },
  {
   "cell_type": "code",
   "execution_count": 36,
   "metadata": {},
   "outputs": [
    {
     "data": {
      "text/plain": [
       "Text(0.5, 1.0, 'violinplot: numerical_1')"
      ]
     },
     "execution_count": 36,
     "metadata": {},
     "output_type": "execute_result"
    },
    {
     "data": {
      "text/plain": [
       "Text(0.5, 1.0, 'boxplot: numerical_1')"
      ]
     },
     "execution_count": 36,
     "metadata": {},
     "output_type": "execute_result"
    },
    {
     "data": {
      "text/plain": [
       "Text(0.5, 1.0, 'violinplot: numerical_2')"
      ]
     },
     "execution_count": 36,
     "metadata": {},
     "output_type": "execute_result"
    },
    {
     "data": {
      "text/plain": [
       "Text(0.5, 1.0, 'boxplot: numerical_2')"
      ]
     },
     "execution_count": 36,
     "metadata": {},
     "output_type": "execute_result"
    },
    {
     "data": {
      "image/png": "[encoded data removed]",
      "text/plain": [
       "<Figure size 864x864 with 4 Axes>"
      ]
     },
     "metadata": {},
     "output_type": "display_data"
    }
   ],
   "source": [
    "# log 변환\n",
    "fig, axes = plt.subplots(2, 2, figsize=(12,12))\n",
    "sns.violinplot(np.log(merchant['numerical_1']), ax=axes[0,0], color='teal').set_title('violinplot: numerical_1')\n",
    "sns.boxplot(np.log(merchant['numerical_1']), ax=axes[0,1], color='teal').set_title('boxplot: numerical_1')\n",
    "sns.violinplot(np.log(merchant['numerical_2']), ax=axes[1,0], color='gold').set_title('violinplot: numerical_2')\n",
    "sns.boxplot(np.log(merchant['numerical_2']), ax=axes[1,1], color='gold').set_title('boxplot: numerical_2')"
   ]
  },
  {
   "cell_type": "markdown",
   "metadata": {},
   "source": [
    "`numerical_1`과 `numerical_2`가 완전 똑같아보인다. <br>근데 위에서 mean이 달랐으므로 `numerical_1`과 `numerical_2`가 같은 행과 다른 행을 확인하겠다."
   ]
  },
  {
   "cell_type": "code",
   "execution_count": 37,
   "metadata": {},
   "outputs": [
    {
     "name": "stdout",
     "output_type": "stream",
     "text": [
      "numerical_1과 numerical_2가 같은 행은 총 301038개로 전체의 89.94%이다.\n",
      "numerical_1과 numerical_2가 다른 행은 총 33658개로 전체의 10.06%이다.\n"
     ]
    }
   ],
   "source": [
    "print('numerical_1과 numerical_2가 같은 행은 총 {}개로 전체의 {:.2f}%이다.'.format(sum(merchant['numerical_1'] == merchant['numerical_2']), \\\n",
    "                                                                 sum(merchant['numerical_1'] == merchant['numerical_2'])/merchant.shape[0] * 100))\n",
    "print('numerical_1과 numerical_2가 다른 행은 총 {}개로 전체의 {:.2f}%이다.'.format(sum(merchant['numerical_1'] != merchant['numerical_2']), \\\n",
    "                                                                 sum(merchant['numerical_1'] != merchant['numerical_2'])/merchant.shape[0] * 100))"
   ]
  },
  {
   "cell_type": "markdown",
   "metadata": {},
   "source": [
    "`numerical_1`과 `numerical_2`가 같은지 다른지를 이용해서 변수를 만들 수도 있겠다."
   ]
  },
  {
   "cell_type": "markdown",
   "metadata": {},
   "source": [
    "~~**<merchant\\> numerical_1/2 : feature engineering**<br>~~\n",
    "~~- 로그 변환한 log_numeric_1/2 생성~~"
   ]
  },
  {
   "cell_type": "code",
   "execution_count": 38,
   "metadata": {},
   "outputs": [],
   "source": [
    "# merchant['log_numeric_1'] = np.log(merchant['numerical_1'])\n",
    "# merchant['log_numeric_2'] = np.log(merchant['numerical_2'])"
   ]
  },
  {
   "cell_type": "code",
   "execution_count": 39,
   "metadata": {},
   "outputs": [],
   "source": [
    "# plt.figure(figsize=(6,6))\n",
    "# sns.scatterplot(x='log_numeric_1', y='log_numeric_2', data=merchant)"
   ]
  },
  {
   "cell_type": "markdown",
   "metadata": {},
   "source": [
    "~~`numerical_1`과 `numerical_2`가 다른 경우는 모두 `numerical_1`>`numerical_2`이다.~~"
   ]
  },
  {
   "cell_type": "markdown",
   "metadata": {},
   "source": [
    "- most_recent_sales_range / most_recent_purchase_range <br>\n",
    "마지막 활동 달의 수익 수준 - 수익 많은 가게 / 마지막 활동 달의 거래량 수준 - 인기있는 가게"
   ]
  },
  {
   "cell_type": "code",
   "execution_count": 40,
   "metadata": {},
   "outputs": [
    {
     "data": {
      "text/plain": [
       "array(['E', 'C', 'D', 'A', 'B'], dtype=object)"
      ]
     },
     "execution_count": 40,
     "metadata": {},
     "output_type": "execute_result"
    },
    {
     "data": {
      "text/plain": [
       "array(['E', 'D', 'C', 'A', 'B'], dtype=object)"
      ]
     },
     "execution_count": 40,
     "metadata": {},
     "output_type": "execute_result"
    }
   ],
   "source": [
    "merchant['most_recent_sales_range'].unique()\n",
    "merchant['most_recent_purchases_range'].unique()"
   ]
  },
  {
   "cell_type": "code",
   "execution_count": 41,
   "metadata": {},
   "outputs": [
    {
     "data": {
      "text/plain": [
       "Index(['A', 'B', 'C', 'D', 'E'], dtype='object', name='most_recent_sales_range')"
      ]
     },
     "execution_count": 41,
     "metadata": {},
     "output_type": "execute_result"
    }
   ],
   "source": [
    "merchant.groupby('most_recent_sales_range')['numerical_1'].mean().to_frame().index"
   ]
  },
  {
   "cell_type": "code",
   "execution_count": 42,
   "metadata": {},
   "outputs": [
    {
     "data": {
      "text/plain": [
       "array([<matplotlib.axes._subplots.AxesSubplot object at 0x7f70a784b668>],\n",
       "      dtype=object)"
      ]
     },
     "execution_count": 42,
     "metadata": {},
     "output_type": "execute_result"
    },
    {
     "data": {
      "text/plain": [
       "array([<matplotlib.axes._subplots.AxesSubplot object at 0x7f70a784b668>],\n",
       "      dtype=object)"
      ]
     },
     "execution_count": 42,
     "metadata": {},
     "output_type": "execute_result"
    },
    {
     "data": {
      "text/plain": [
       "array([<matplotlib.axes._subplots.AxesSubplot object at 0x7f70a7815ef0>],\n",
       "      dtype=object)"
      ]
     },
     "execution_count": 42,
     "metadata": {},
     "output_type": "execute_result"
    },
    {
     "data": {
      "text/plain": [
       "array([<matplotlib.axes._subplots.AxesSubplot object at 0x7f70a7815ef0>],\n",
       "      dtype=object)"
      ]
     },
     "execution_count": 42,
     "metadata": {},
     "output_type": "execute_result"
    },
    {
     "data": {
      "image/png": "[encoded data removed]",
      "text/plain": [
       "<Figure size 864x432 with 4 Axes>"
      ]
     },
     "metadata": {},
     "output_type": "display_data"
    }
   ],
   "source": [
    "nu_1 = merchant.groupby('most_recent_sales_range')['numerical_1'].mean().to_frame()\n",
    "nu_2 = merchant.groupby('most_recent_sales_range')['numerical_2'].mean().to_frame()\n",
    "\n",
    "fig, axes = plt.subplots(1, 2, figsize=(12,6))\n",
    "ax1 = sns.countplot(merchant['most_recent_sales_range'], order=['A','B','C','D','E'], color='teal', ax=axes[0])\n",
    "ax2 = sns.countplot(merchant['most_recent_purchases_range'], order=['A','B','C','D','E'], color='brown', ax=axes[1])\n",
    "nu_1.plot(ax=axes[0], secondary_y=True, marker='o', color='gold', subplots=True, legend=None)\n",
    "nu_2.plot(ax=axes[0], secondary_y=True, marker='o', color='royalblue', subplots=True, legend=None)\n",
    "nu_1.plot(ax=axes[1], secondary_y=True, marker='o', color='gold', subplots=True, legend=None)\n",
    "nu_2.plot(ax=axes[1], secondary_y=True, marker='o', color='royalblue', subplots=True, legend=None)"
   ]
  },
  {
   "cell_type": "markdown",
   "metadata": {},
   "source": [
    "`numeric_1/2`와 최근 거래/구매량이 관련있어 보인다."
   ]
  },
  {
   "cell_type": "markdown",
   "metadata": {},
   "source": [
    "- avg_sales_lag3/6/12"
   ]
  },
  {
   "cell_type": "code",
   "execution_count": 43,
   "metadata": {},
   "outputs": [
    {
     "data": {
      "text/plain": [
       "count    334683.000000\n",
       "mean         13.832993\n",
       "std        2395.489999\n",
       "min         -82.130000\n",
       "25%           0.880000\n",
       "50%           1.000000\n",
       "75%           1.160000\n",
       "max      851844.640000\n",
       "Name: avg_sales_lag3, dtype: float64"
      ]
     },
     "execution_count": 43,
     "metadata": {},
     "output_type": "execute_result"
    },
    {
     "data": {
      "text/plain": [
       "count    3.346830e+05\n",
       "mean     2.165079e+01\n",
       "std      3.947108e+03\n",
       "min     -8.213000e+01\n",
       "25%      8.500000e-01\n",
       "50%      1.010000e+00\n",
       "75%      1.230000e+00\n",
       "max      1.513959e+06\n",
       "Name: avg_sales_lag6, dtype: float64"
      ]
     },
     "execution_count": 43,
     "metadata": {},
     "output_type": "execute_result"
    },
    {
     "data": {
      "text/plain": [
       "count    3.346830e+05\n",
       "mean     2.522771e+01\n",
       "std      5.251842e+03\n",
       "min     -8.213000e+01\n",
       "25%      8.500000e-01\n",
       "50%      1.020000e+00\n",
       "75%      1.290000e+00\n",
       "max      2.567408e+06\n",
       "Name: avg_sales_lag12, dtype: float64"
      ]
     },
     "execution_count": 43,
     "metadata": {},
     "output_type": "execute_result"
    }
   ],
   "source": [
    "merchant['avg_sales_lag3'].describe()\n",
    "merchant['avg_sales_lag6'].describe()\n",
    "merchant['avg_sales_lag12'].describe()"
   ]
  },
  {
   "cell_type": "markdown",
   "metadata": {},
   "source": [
    "0~1 주변 작은 값들이 대부분이다. <br>\n",
    "이 값은 $해당기간 평균 수익/최근 1달 수익$ 을 계산한 값이라서, <br>\n",
    "1이면 수익이 꾸준한 경우, 1보다 작을수록 최근에 인기가 올라간 경우, 1보다 클수록 최근에 인기가 떨어진 경우를 나타낸다.<br>\n",
    "근데 음수가 왜 있지?"
   ]
  },
  {
   "cell_type": "code",
   "execution_count": 44,
   "metadata": {},
   "outputs": [
    {
     "data": {
      "text/html": [
       "<div>\n",
       "<style scoped>\n",
       "    .dataframe tbody tr th:only-of-type {\n",
       "        vertical-align: middle;\n",
       "    }\n",
       "\n",
       "    .dataframe tbody tr th {\n",
       "        vertical-align: top;\n",
       "    }\n",
       "\n",
       "    .dataframe thead th {\n",
       "        text-align: right;\n",
       "    }\n",
       "</style>\n",
       "<table border=\"1\" class=\"dataframe\">\n",
       "  <thead>\n",
       "    <tr style=\"text-align: right;\">\n",
       "      <th></th>\n",
       "      <th>merchant_id</th>\n",
       "      <th>merchant_group_id</th>\n",
       "      <th>merchant_category_id</th>\n",
       "      <th>subsector_id</th>\n",
       "      <th>numerical_1</th>\n",
       "      <th>numerical_2</th>\n",
       "      <th>category_1</th>\n",
       "      <th>most_recent_sales_range</th>\n",
       "      <th>most_recent_purchases_range</th>\n",
       "      <th>avg_sales_lag3</th>\n",
       "      <th>avg_purchases_lag3</th>\n",
       "      <th>active_months_lag3</th>\n",
       "      <th>avg_sales_lag6</th>\n",
       "      <th>avg_purchases_lag6</th>\n",
       "      <th>active_months_lag6</th>\n",
       "      <th>avg_sales_lag12</th>\n",
       "      <th>avg_purchases_lag12</th>\n",
       "      <th>active_months_lag12</th>\n",
       "      <th>category_4</th>\n",
       "      <th>city_id</th>\n",
       "      <th>state_id</th>\n",
       "      <th>category_2</th>\n",
       "    </tr>\n",
       "  </thead>\n",
       "  <tbody>\n",
       "    <tr>\n",
       "      <th>0</th>\n",
       "      <td>M_ID_838061e48c</td>\n",
       "      <td>8353</td>\n",
       "      <td>792</td>\n",
       "      <td>9</td>\n",
       "      <td>-0.057471</td>\n",
       "      <td>-0.057471</td>\n",
       "      <td>N</td>\n",
       "      <td>E</td>\n",
       "      <td>E</td>\n",
       "      <td>-0.40</td>\n",
       "      <td>9.666667</td>\n",
       "      <td>3</td>\n",
       "      <td>-2.25</td>\n",
       "      <td>18.666667</td>\n",
       "      <td>6</td>\n",
       "      <td>-2.32</td>\n",
       "      <td>13.916667</td>\n",
       "      <td>12</td>\n",
       "      <td>N</td>\n",
       "      <td>242</td>\n",
       "      <td>9</td>\n",
       "      <td>1.0</td>\n",
       "    </tr>\n",
       "    <tr>\n",
       "      <th>1</th>\n",
       "      <td>M_ID_9339d880ad</td>\n",
       "      <td>3184</td>\n",
       "      <td>840</td>\n",
       "      <td>20</td>\n",
       "      <td>-0.057471</td>\n",
       "      <td>-0.057471</td>\n",
       "      <td>N</td>\n",
       "      <td>E</td>\n",
       "      <td>E</td>\n",
       "      <td>-0.72</td>\n",
       "      <td>1.750000</td>\n",
       "      <td>3</td>\n",
       "      <td>-0.74</td>\n",
       "      <td>1.291667</td>\n",
       "      <td>6</td>\n",
       "      <td>-0.57</td>\n",
       "      <td>1.687500</td>\n",
       "      <td>12</td>\n",
       "      <td>N</td>\n",
       "      <td>22</td>\n",
       "      <td>16</td>\n",
       "      <td>1.0</td>\n",
       "    </tr>\n",
       "    <tr>\n",
       "      <th>2</th>\n",
       "      <td>M_ID_e726bbae1e</td>\n",
       "      <td>447</td>\n",
       "      <td>690</td>\n",
       "      <td>1</td>\n",
       "      <td>-0.057471</td>\n",
       "      <td>-0.057471</td>\n",
       "      <td>N</td>\n",
       "      <td>E</td>\n",
       "      <td>E</td>\n",
       "      <td>-82.13</td>\n",
       "      <td>260.000000</td>\n",
       "      <td>2</td>\n",
       "      <td>-82.13</td>\n",
       "      <td>260.000000</td>\n",
       "      <td>2</td>\n",
       "      <td>-82.13</td>\n",
       "      <td>260.000000</td>\n",
       "      <td>2</td>\n",
       "      <td>N</td>\n",
       "      <td>-1</td>\n",
       "      <td>5</td>\n",
       "      <td>5.0</td>\n",
       "    </tr>\n",
       "  </tbody>\n",
       "</table>\n",
       "</div>"
      ],
      "text/plain": [
       "       merchant_id  merchant_group_id     ...      state_id  category_2\n",
       "0  M_ID_838061e48c               8353     ...             9         1.0\n",
       "1  M_ID_9339d880ad               3184     ...            16         1.0\n",
       "2  M_ID_e726bbae1e                447     ...             5         5.0\n",
       "\n",
       "[3 rows x 22 columns]"
      ]
     },
     "execution_count": 44,
     "metadata": {},
     "output_type": "execute_result"
    }
   ],
   "source": [
    "merchant[(merchant['avg_sales_lag3']<0) | (merchant['avg_sales_lag6']<0) | (merchant['avg_sales_lag12']<0)] "
   ]
  },
  {
   "cell_type": "code",
   "execution_count": 45,
   "metadata": {},
   "outputs": [
    {
     "data": {
      "text/plain": [
       "Text(0.5, 1.0, 'violinplot: avg_sales_lag3')"
      ]
     },
     "execution_count": 45,
     "metadata": {},
     "output_type": "execute_result"
    },
    {
     "data": {
      "text/plain": [
       "Text(0.5, 1.0, 'violinplot: avg_sales_lag6')"
      ]
     },
     "execution_count": 45,
     "metadata": {},
     "output_type": "execute_result"
    },
    {
     "data": {
      "text/plain": [
       "Text(0.5, 1.0, 'violinplot: avg_sales_lag12')"
      ]
     },
     "execution_count": 45,
     "metadata": {},
     "output_type": "execute_result"
    },
    {
     "data": {
      "image/png": "[encoded data removed]",
      "text/plain": [
       "<Figure size 1152x432 with 3 Axes>"
      ]
     },
     "metadata": {},
     "output_type": "display_data"
    }
   ],
   "source": [
    "fig, axes = plt.subplots(1, 3, figsize=(16,6))\n",
    "sns.violinplot(merchant['avg_sales_lag3'], ax=axes[0], color='teal').set_title('violinplot: avg_sales_lag3')\n",
    "sns.violinplot(merchant['avg_sales_lag6'], ax=axes[1], color='brown').set_title('violinplot: avg_sales_lag6')\n",
    "sns.violinplot(merchant['avg_sales_lag12'], ax=axes[2], color='gold').set_title('violinplot: avg_sales_lag12')"
   ]
  },
  {
   "cell_type": "markdown",
   "metadata": {},
   "source": [
    "이 변수들도 log변환하자."
   ]
  },
  {
   "cell_type": "code",
   "execution_count": 46,
   "metadata": {},
   "outputs": [
    {
     "data": {
      "text/plain": [
       "Text(0.5, 1.0, 'logarithm: avg_sales_lag3')"
      ]
     },
     "execution_count": 46,
     "metadata": {},
     "output_type": "execute_result"
    },
    {
     "data": {
      "text/plain": [
       "Text(0.5, 1.0, 'logarithm: avg_sales_lag3')"
      ]
     },
     "execution_count": 46,
     "metadata": {},
     "output_type": "execute_result"
    },
    {
     "data": {
      "text/plain": [
       "Text(0.5, 1.0, 'logarithm: avg_sales_lag6')"
      ]
     },
     "execution_count": 46,
     "metadata": {},
     "output_type": "execute_result"
    },
    {
     "data": {
      "text/plain": [
       "Text(0.5, 1.0, 'logarithm: avg_sales_lag6')"
      ]
     },
     "execution_count": 46,
     "metadata": {},
     "output_type": "execute_result"
    },
    {
     "data": {
      "text/plain": [
       "Text(0.5, 1.0, 'logarithm: avg_sales_lag12')"
      ]
     },
     "execution_count": 46,
     "metadata": {},
     "output_type": "execute_result"
    },
    {
     "data": {
      "text/plain": [
       "Text(0.5, 1.0, 'logarithm: avg_sales_lag12')"
      ]
     },
     "execution_count": 46,
     "metadata": {},
     "output_type": "execute_result"
    },
    {
     "data": {
      "text/plain": [
       "(-2.5, 15)"
      ]
     },
     "execution_count": 46,
     "metadata": {},
     "output_type": "execute_result"
    },
    {
     "data": {
      "text/plain": [
       "(-2.5, 15)"
      ]
     },
     "execution_count": 46,
     "metadata": {},
     "output_type": "execute_result"
    },
    {
     "data": {
      "text/plain": [
       "(-2.5, 15)"
      ]
     },
     "execution_count": 46,
     "metadata": {},
     "output_type": "execute_result"
    },
    {
     "data": {
      "text/plain": [
       "(-2.5, 15)"
      ]
     },
     "execution_count": 46,
     "metadata": {},
     "output_type": "execute_result"
    },
    {
     "data": {
      "text/plain": [
       "(-2.5, 15)"
      ]
     },
     "execution_count": 46,
     "metadata": {},
     "output_type": "execute_result"
    },
    {
     "data": {
      "text/plain": [
       "(-2.5, 15)"
      ]
     },
     "execution_count": 46,
     "metadata": {},
     "output_type": "execute_result"
    },
    {
     "data": {
      "image/png": "[encoded data removed]",
      "text/plain": [
       "<Figure size 1152x432 with 6 Axes>"
      ]
     },
     "metadata": {},
     "output_type": "display_data"
    }
   ],
   "source": [
    "# log 변환\n",
    "fig, axes = plt.subplots(3, 2, figsize=(16,6))\n",
    "\n",
    "sns.violinplot(np.log(merchant['avg_sales_lag3']), ax=axes[0,0], color='teal').set_title('logarithm: avg_sales_lag3')\n",
    "sns.boxplot(np.log(merchant['avg_sales_lag3']), ax=axes[0,1], color='teal').set_title('logarithm: avg_sales_lag3')\n",
    "sns.violinplot(np.log(merchant['avg_sales_lag6']), ax=axes[1,0], color='brown').set_title('logarithm: avg_sales_lag6')\n",
    "sns.boxplot(np.log(merchant['avg_sales_lag6']), ax=axes[1,1], color='brown').set_title('logarithm: avg_sales_lag6')\n",
    "sns.violinplot(np.log(merchant['avg_sales_lag12']), ax=axes[2,0], color='gold').set_title('logarithm: avg_sales_lag12')\n",
    "sns.boxplot(np.log(merchant['avg_sales_lag12']), ax=axes[2,1], color='gold').set_title('logarithm: avg_sales_lag12')\n",
    "for i in range(3):\n",
    "    for j in range(2):\n",
    "        axes[i,j].set_xlim(-2.5,15)"
   ]
  },
  {
   "cell_type": "markdown",
   "metadata": {},
   "source": [
    "로그 변환 했으므로 0을 기준으로 생각할 수 있다.<br>\n",
    "만약 0보다 작으면 최근에 인기가 떨어진 가게, 0보다 크면 최근에 인기가 올라간 가게, 0근처이면 계속 비슷한 수익을 내는 가게로 생각할 수 있다."
   ]
  },
  {
   "cell_type": "markdown",
   "metadata": {},
   "source": [
    "- avg_purchases_lag3/6/12"
   ]
  },
  {
   "cell_type": "code",
   "execution_count": 47,
   "metadata": {},
   "outputs": [
    {
     "data": {
      "text/plain": [
       "count    3.346960e+05\n",
       "mean              inf\n",
       "std               NaN\n",
       "min      3.334953e-01\n",
       "25%      9.236499e-01\n",
       "50%      1.016667e+00\n",
       "75%      1.146522e+00\n",
       "max               inf\n",
       "Name: avg_purchases_lag3, dtype: float64"
      ]
     },
     "execution_count": 47,
     "metadata": {},
     "output_type": "execute_result"
    },
    {
     "data": {
      "text/plain": [
       "count    3.346960e+05\n",
       "mean              inf\n",
       "std               NaN\n",
       "min      1.670447e-01\n",
       "25%      9.022475e-01\n",
       "50%      1.026961e+00\n",
       "75%      1.215575e+00\n",
       "max               inf\n",
       "Name: avg_purchases_lag6, dtype: float64"
      ]
     },
     "execution_count": 47,
     "metadata": {},
     "output_type": "execute_result"
    },
    {
     "data": {
      "text/plain": [
       "count    3.346960e+05\n",
       "mean              inf\n",
       "std               NaN\n",
       "min      9.832954e-02\n",
       "25%      8.983333e-01\n",
       "50%      1.043361e+00\n",
       "75%      1.266480e+00\n",
       "max               inf\n",
       "Name: avg_purchases_lag12, dtype: float64"
      ]
     },
     "execution_count": 47,
     "metadata": {},
     "output_type": "execute_result"
    }
   ],
   "source": [
    "merchant['avg_purchases_lag3'].describe()\n",
    "merchant['avg_purchases_lag6'].describe()\n",
    "merchant['avg_purchases_lag12'].describe()"
   ]
  },
  {
   "cell_type": "markdown",
   "metadata": {},
   "source": [
    "missing value와 inf가 있다. inf와 missing value 개수를 확인하고 얘네를 제외한 분포를 확인하자."
   ]
  },
  {
   "cell_type": "code",
   "execution_count": 48,
   "metadata": {},
   "outputs": [
    {
     "data": {
      "text/plain": [
       "0"
      ]
     },
     "execution_count": 48,
     "metadata": {},
     "output_type": "execute_result"
    },
    {
     "data": {
      "text/plain": [
       "0"
      ]
     },
     "execution_count": 48,
     "metadata": {},
     "output_type": "execute_result"
    },
    {
     "data": {
      "text/plain": [
       "0"
      ]
     },
     "execution_count": 48,
     "metadata": {},
     "output_type": "execute_result"
    }
   ],
   "source": [
    "merchant['avg_purchases_lag3'].isna().sum()\n",
    "merchant['avg_purchases_lag6'].isna().sum()\n",
    "merchant['avg_purchases_lag12'].isna().sum()"
   ]
  },
  {
   "cell_type": "markdown",
   "metadata": {},
   "source": [
    "missing value는 없다. inf때문에 계산이 안돼서 NaN으로 나왔나보다."
   ]
  },
  {
   "cell_type": "code",
   "execution_count": 49,
   "metadata": {},
   "outputs": [
    {
     "data": {
      "text/plain": [
       "3"
      ]
     },
     "execution_count": 49,
     "metadata": {},
     "output_type": "execute_result"
    },
    {
     "data": {
      "text/plain": [
       "3"
      ]
     },
     "execution_count": 49,
     "metadata": {},
     "output_type": "execute_result"
    },
    {
     "data": {
      "text/plain": [
       "3"
      ]
     },
     "execution_count": 49,
     "metadata": {},
     "output_type": "execute_result"
    }
   ],
   "source": [
    "sum(merchant['avg_purchases_lag3'] == np.inf)\n",
    "sum(merchant['avg_purchases_lag6'] == np.inf)\n",
    "sum(merchant['avg_purchases_lag12'] == np.inf)"
   ]
  },
  {
   "cell_type": "code",
   "execution_count": 50,
   "metadata": {},
   "outputs": [
    {
     "data": {
      "text/html": [
       "<div>\n",
       "<style scoped>\n",
       "    .dataframe tbody tr th:only-of-type {\n",
       "        vertical-align: middle;\n",
       "    }\n",
       "\n",
       "    .dataframe tbody tr th {\n",
       "        vertical-align: top;\n",
       "    }\n",
       "\n",
       "    .dataframe thead th {\n",
       "        text-align: right;\n",
       "    }\n",
       "</style>\n",
       "<table border=\"1\" class=\"dataframe\">\n",
       "  <thead>\n",
       "    <tr style=\"text-align: right;\">\n",
       "      <th></th>\n",
       "      <th>merchant_id</th>\n",
       "      <th>merchant_group_id</th>\n",
       "      <th>merchant_category_id</th>\n",
       "      <th>subsector_id</th>\n",
       "      <th>numerical_1</th>\n",
       "      <th>numerical_2</th>\n",
       "      <th>category_1</th>\n",
       "      <th>most_recent_sales_range</th>\n",
       "      <th>most_recent_purchases_range</th>\n",
       "      <th>avg_sales_lag3</th>\n",
       "      <th>avg_purchases_lag3</th>\n",
       "      <th>active_months_lag3</th>\n",
       "      <th>avg_sales_lag6</th>\n",
       "      <th>avg_purchases_lag6</th>\n",
       "      <th>active_months_lag6</th>\n",
       "      <th>avg_sales_lag12</th>\n",
       "      <th>avg_purchases_lag12</th>\n",
       "      <th>active_months_lag12</th>\n",
       "      <th>category_4</th>\n",
       "      <th>city_id</th>\n",
       "      <th>state_id</th>\n",
       "      <th>category_2</th>\n",
       "    </tr>\n",
       "  </thead>\n",
       "  <tbody>\n",
       "    <tr>\n",
       "      <th>10</th>\n",
       "      <td>M_ID_492cfa500c</td>\n",
       "      <td>13462</td>\n",
       "      <td>369</td>\n",
       "      <td>27</td>\n",
       "      <td>-0.057471</td>\n",
       "      <td>-0.057471</td>\n",
       "      <td>N</td>\n",
       "      <td>E</td>\n",
       "      <td>E</td>\n",
       "      <td>NaN</td>\n",
       "      <td>inf</td>\n",
       "      <td>3</td>\n",
       "      <td>NaN</td>\n",
       "      <td>inf</td>\n",
       "      <td>6</td>\n",
       "      <td>NaN</td>\n",
       "      <td>inf</td>\n",
       "      <td>12</td>\n",
       "      <td>N</td>\n",
       "      <td>-1</td>\n",
       "      <td>9</td>\n",
       "      <td>1.0</td>\n",
       "    </tr>\n",
       "    <tr>\n",
       "      <th>11</th>\n",
       "      <td>M_ID_73487fed26</td>\n",
       "      <td>17123</td>\n",
       "      <td>427</td>\n",
       "      <td>27</td>\n",
       "      <td>-0.057471</td>\n",
       "      <td>-0.057471</td>\n",
       "      <td>Y</td>\n",
       "      <td>E</td>\n",
       "      <td>E</td>\n",
       "      <td>NaN</td>\n",
       "      <td>inf</td>\n",
       "      <td>3</td>\n",
       "      <td>NaN</td>\n",
       "      <td>inf</td>\n",
       "      <td>6</td>\n",
       "      <td>NaN</td>\n",
       "      <td>inf</td>\n",
       "      <td>12</td>\n",
       "      <td>Y</td>\n",
       "      <td>-1</td>\n",
       "      <td>-1</td>\n",
       "      <td>NaN</td>\n",
       "    </tr>\n",
       "    <tr>\n",
       "      <th>12</th>\n",
       "      <td>M_ID_7149162139</td>\n",
       "      <td>2118</td>\n",
       "      <td>63</td>\n",
       "      <td>27</td>\n",
       "      <td>-0.057471</td>\n",
       "      <td>-0.057471</td>\n",
       "      <td>N</td>\n",
       "      <td>E</td>\n",
       "      <td>E</td>\n",
       "      <td>NaN</td>\n",
       "      <td>inf</td>\n",
       "      <td>3</td>\n",
       "      <td>NaN</td>\n",
       "      <td>inf</td>\n",
       "      <td>6</td>\n",
       "      <td>NaN</td>\n",
       "      <td>inf</td>\n",
       "      <td>12</td>\n",
       "      <td>Y</td>\n",
       "      <td>88</td>\n",
       "      <td>16</td>\n",
       "      <td>1.0</td>\n",
       "    </tr>\n",
       "  </tbody>\n",
       "</table>\n",
       "</div>"
      ],
      "text/plain": [
       "        merchant_id  merchant_group_id     ...      state_id  category_2\n",
       "10  M_ID_492cfa500c              13462     ...             9         1.0\n",
       "11  M_ID_73487fed26              17123     ...            -1         NaN\n",
       "12  M_ID_7149162139               2118     ...            16         1.0\n",
       "\n",
       "[3 rows x 22 columns]"
      ]
     },
     "execution_count": 50,
     "metadata": {},
     "output_type": "execute_result"
    }
   ],
   "source": [
    "merchant[(merchant['avg_purchases_lag3'] == np.inf) | (merchant['avg_purchases_lag6'] == np.inf) | (merchant['avg_purchases_lag12'] == np.inf)]"
   ]
  },
  {
   "cell_type": "markdown",
   "metadata": {},
   "source": [
    "최근 거래량=0 이라면 inf가 나올 수 있다. (np.divide(3,0)=inf) <br>\n",
    "inf를 해당 variable의 max값으로 대체하겠다."
   ]
  },
  {
   "cell_type": "markdown",
   "metadata": {},
   "source": [
    "**<merchant\\> - `avg_purchases_lag3/6/12` : feature engineering** <br>\n",
    "    np.inf -> max로 대체 "
   ]
  },
  {
   "cell_type": "code",
   "execution_count": 51,
   "metadata": {},
   "outputs": [
    {
     "data": {
      "text/plain": [
       "61851.33333333"
      ]
     },
     "execution_count": 51,
     "metadata": {},
     "output_type": "execute_result"
    },
    {
     "data": {
      "text/plain": [
       "56077.5"
      ]
     },
     "execution_count": 51,
     "metadata": {},
     "output_type": "execute_result"
    },
    {
     "data": {
      "text/plain": [
       "50215.55555556"
      ]
     },
     "execution_count": 51,
     "metadata": {},
     "output_type": "execute_result"
    }
   ],
   "source": [
    "merchant[merchant['avg_purchases_lag3'] != np.inf]['avg_purchases_lag3'].max()\n",
    "merchant[merchant['avg_purchases_lag6'] != np.inf]['avg_purchases_lag6'].max()\n",
    "merchant[merchant['avg_purchases_lag12'] != np.inf]['avg_purchases_lag12'].max()"
   ]
  },
  {
   "cell_type": "code",
   "execution_count": 52,
   "metadata": {},
   "outputs": [],
   "source": [
    "merchant['avg_purchases_lag3'].replace(np.inf, np.nan, inplace=True)\n",
    "merchant['avg_purchases_lag6'].replace(np.inf, np.nan, inplace=True)\n",
    "merchant['avg_purchases_lag12'].replace(np.inf, np.nan, inplace=True)"
   ]
  },
  {
   "cell_type": "code",
   "execution_count": 53,
   "metadata": {},
   "outputs": [],
   "source": [
    "merchant['avg_purchases_lag3'] = merchant['avg_purchases_lag3'].fillna(merchant[merchant['avg_purchases_lag3'] != np.inf]['avg_purchases_lag3'].max())\n",
    "merchant['avg_purchases_lag6'] = merchant['avg_purchases_lag6'].fillna(merchant[merchant['avg_purchases_lag6'] != np.inf]['avg_purchases_lag6'].max())\n",
    "merchant['avg_purchases_lag12'] = merchant['avg_purchases_lag12'].fillna(merchant[merchant['avg_purchases_lag12'] != np.inf]['avg_purchases_lag12'].max())"
   ]
  },
  {
   "cell_type": "code",
   "execution_count": 54,
   "metadata": {},
   "outputs": [
    {
     "data": {
      "text/html": [
       "<div>\n",
       "<style scoped>\n",
       "    .dataframe tbody tr th:only-of-type {\n",
       "        vertical-align: middle;\n",
       "    }\n",
       "\n",
       "    .dataframe tbody tr th {\n",
       "        vertical-align: top;\n",
       "    }\n",
       "\n",
       "    .dataframe thead th {\n",
       "        text-align: right;\n",
       "    }\n",
       "</style>\n",
       "<table border=\"1\" class=\"dataframe\">\n",
       "  <thead>\n",
       "    <tr style=\"text-align: right;\">\n",
       "      <th></th>\n",
       "      <th>merchant_group_id</th>\n",
       "      <th>merchant_category_id</th>\n",
       "      <th>subsector_id</th>\n",
       "      <th>numerical_1</th>\n",
       "      <th>numerical_2</th>\n",
       "      <th>avg_sales_lag3</th>\n",
       "      <th>avg_purchases_lag3</th>\n",
       "      <th>active_months_lag3</th>\n",
       "      <th>avg_sales_lag6</th>\n",
       "      <th>avg_purchases_lag6</th>\n",
       "      <th>active_months_lag6</th>\n",
       "      <th>avg_sales_lag12</th>\n",
       "      <th>avg_purchases_lag12</th>\n",
       "      <th>active_months_lag12</th>\n",
       "      <th>city_id</th>\n",
       "      <th>state_id</th>\n",
       "      <th>category_2</th>\n",
       "    </tr>\n",
       "  </thead>\n",
       "  <tbody>\n",
       "    <tr>\n",
       "      <th>count</th>\n",
       "      <td>334696.000000</td>\n",
       "      <td>334696.000000</td>\n",
       "      <td>334696.000000</td>\n",
       "      <td>334696.000000</td>\n",
       "      <td>334696.000000</td>\n",
       "      <td>334683.000000</td>\n",
       "      <td>334696.000000</td>\n",
       "      <td>334696.000000</td>\n",
       "      <td>3.346830e+05</td>\n",
       "      <td>334696.000000</td>\n",
       "      <td>334696.000000</td>\n",
       "      <td>3.346830e+05</td>\n",
       "      <td>334696.000000</td>\n",
       "      <td>334696.000000</td>\n",
       "      <td>334696.000000</td>\n",
       "      <td>334696.000000</td>\n",
       "      <td>322809.000000</td>\n",
       "    </tr>\n",
       "    <tr>\n",
       "      <th>mean</th>\n",
       "      <td>31028.736143</td>\n",
       "      <td>423.131663</td>\n",
       "      <td>25.116404</td>\n",
       "      <td>0.011476</td>\n",
       "      <td>0.008103</td>\n",
       "      <td>13.832993</td>\n",
       "      <td>2.145143</td>\n",
       "      <td>2.994108</td>\n",
       "      <td>2.165079e+01</td>\n",
       "      <td>2.390194</td>\n",
       "      <td>5.947397</td>\n",
       "      <td>2.522771e+01</td>\n",
       "      <td>2.529277</td>\n",
       "      <td>11.599335</td>\n",
       "      <td>102.917926</td>\n",
       "      <td>11.860942</td>\n",
       "      <td>2.380002</td>\n",
       "    </tr>\n",
       "    <tr>\n",
       "      <th>std</th>\n",
       "      <td>31623.043426</td>\n",
       "      <td>252.898046</td>\n",
       "      <td>9.807371</td>\n",
       "      <td>1.098154</td>\n",
       "      <td>1.070497</td>\n",
       "      <td>2395.489999</td>\n",
       "      <td>213.955844</td>\n",
       "      <td>0.095247</td>\n",
       "      <td>3.947108e+03</td>\n",
       "      <td>194.324264</td>\n",
       "      <td>0.394936</td>\n",
       "      <td>5.251842e+03</td>\n",
       "      <td>174.419034</td>\n",
       "      <td>1.520138</td>\n",
       "      <td>107.090673</td>\n",
       "      <td>6.176889</td>\n",
       "      <td>1.562661</td>\n",
       "    </tr>\n",
       "    <tr>\n",
       "      <th>min</th>\n",
       "      <td>1.000000</td>\n",
       "      <td>-1.000000</td>\n",
       "      <td>-1.000000</td>\n",
       "      <td>-0.057471</td>\n",
       "      <td>-0.057471</td>\n",
       "      <td>-82.130000</td>\n",
       "      <td>0.333495</td>\n",
       "      <td>1.000000</td>\n",
       "      <td>-8.213000e+01</td>\n",
       "      <td>0.167045</td>\n",
       "      <td>1.000000</td>\n",
       "      <td>-8.213000e+01</td>\n",
       "      <td>0.098330</td>\n",
       "      <td>1.000000</td>\n",
       "      <td>-1.000000</td>\n",
       "      <td>-1.000000</td>\n",
       "      <td>1.000000</td>\n",
       "    </tr>\n",
       "    <tr>\n",
       "      <th>25%</th>\n",
       "      <td>3612.000000</td>\n",
       "      <td>222.000000</td>\n",
       "      <td>19.000000</td>\n",
       "      <td>-0.057471</td>\n",
       "      <td>-0.057471</td>\n",
       "      <td>0.880000</td>\n",
       "      <td>0.923650</td>\n",
       "      <td>3.000000</td>\n",
       "      <td>8.500000e-01</td>\n",
       "      <td>0.902247</td>\n",
       "      <td>6.000000</td>\n",
       "      <td>8.500000e-01</td>\n",
       "      <td>0.898333</td>\n",
       "      <td>12.000000</td>\n",
       "      <td>-1.000000</td>\n",
       "      <td>9.000000</td>\n",
       "      <td>1.000000</td>\n",
       "    </tr>\n",
       "    <tr>\n",
       "      <th>50%</th>\n",
       "      <td>19900.000000</td>\n",
       "      <td>373.000000</td>\n",
       "      <td>27.000000</td>\n",
       "      <td>-0.057471</td>\n",
       "      <td>-0.057471</td>\n",
       "      <td>1.000000</td>\n",
       "      <td>1.016667</td>\n",
       "      <td>3.000000</td>\n",
       "      <td>1.010000e+00</td>\n",
       "      <td>1.026961</td>\n",
       "      <td>6.000000</td>\n",
       "      <td>1.020000e+00</td>\n",
       "      <td>1.043361</td>\n",
       "      <td>12.000000</td>\n",
       "      <td>69.000000</td>\n",
       "      <td>9.000000</td>\n",
       "      <td>2.000000</td>\n",
       "    </tr>\n",
       "    <tr>\n",
       "      <th>75%</th>\n",
       "      <td>51707.250000</td>\n",
       "      <td>683.000000</td>\n",
       "      <td>33.000000</td>\n",
       "      <td>-0.047556</td>\n",
       "      <td>-0.047556</td>\n",
       "      <td>1.160000</td>\n",
       "      <td>1.146522</td>\n",
       "      <td>3.000000</td>\n",
       "      <td>1.230000e+00</td>\n",
       "      <td>1.215575</td>\n",
       "      <td>6.000000</td>\n",
       "      <td>1.290000e+00</td>\n",
       "      <td>1.266480</td>\n",
       "      <td>12.000000</td>\n",
       "      <td>182.000000</td>\n",
       "      <td>16.000000</td>\n",
       "      <td>4.000000</td>\n",
       "    </tr>\n",
       "    <tr>\n",
       "      <th>max</th>\n",
       "      <td>112586.000000</td>\n",
       "      <td>891.000000</td>\n",
       "      <td>41.000000</td>\n",
       "      <td>183.735111</td>\n",
       "      <td>182.079322</td>\n",
       "      <td>851844.640000</td>\n",
       "      <td>61851.333333</td>\n",
       "      <td>3.000000</td>\n",
       "      <td>1.513959e+06</td>\n",
       "      <td>56077.500000</td>\n",
       "      <td>6.000000</td>\n",
       "      <td>2.567408e+06</td>\n",
       "      <td>50215.555556</td>\n",
       "      <td>12.000000</td>\n",
       "      <td>347.000000</td>\n",
       "      <td>24.000000</td>\n",
       "      <td>5.000000</td>\n",
       "    </tr>\n",
       "  </tbody>\n",
       "</table>\n",
       "</div>"
      ],
      "text/plain": [
       "       merchant_group_id      ...           category_2\n",
       "count      334696.000000      ...        322809.000000\n",
       "mean        31028.736143      ...             2.380002\n",
       "std         31623.043426      ...             1.562661\n",
       "min             1.000000      ...             1.000000\n",
       "25%          3612.000000      ...             1.000000\n",
       "50%         19900.000000      ...             2.000000\n",
       "75%         51707.250000      ...             4.000000\n",
       "max        112586.000000      ...             5.000000\n",
       "\n",
       "[8 rows x 17 columns]"
      ]
     },
     "execution_count": 54,
     "metadata": {},
     "output_type": "execute_result"
    }
   ],
   "source": [
    "merchant.describe()"
   ]
  },
  {
   "cell_type": "markdown",
   "metadata": {},
   "source": [
    "- active_months_lag3/6/12"
   ]
  },
  {
   "cell_type": "code",
   "execution_count": 55,
   "metadata": {},
   "outputs": [
    {
     "data": {
      "text/plain": [
       "<matplotlib.axes._subplots.AxesSubplot at 0x7f70a7592b00>"
      ]
     },
     "execution_count": 55,
     "metadata": {},
     "output_type": "execute_result"
    },
    {
     "data": {
      "text/plain": [
       "<matplotlib.axes._subplots.AxesSubplot at 0x7f70a74df470>"
      ]
     },
     "execution_count": 55,
     "metadata": {},
     "output_type": "execute_result"
    },
    {
     "data": {
      "text/plain": [
       "<matplotlib.axes._subplots.AxesSubplot at 0x7f70a74ffa90>"
      ]
     },
     "execution_count": 55,
     "metadata": {},
     "output_type": "execute_result"
    },
    {
     "data": {
      "image/png": "[encoded data removed]",
      "text/plain": [
       "<Figure size 1152x360 with 3 Axes>"
      ]
     },
     "metadata": {},
     "output_type": "display_data"
    }
   ],
   "source": [
    "fig, axes = plt.subplots(1, 3, figsize=(16, 5))\n",
    "sns.countplot(merchant['active_months_lag3'], ax=axes[0], color='teal')\n",
    "sns.countplot(merchant['active_months_lag6'], ax=axes[1], color='brown')\n",
    "sns.countplot(merchant['active_months_lag12'], ax=axes[2], color='royalblue')"
   ]
  },
  {
   "cell_type": "code",
   "execution_count": 57,
   "metadata": {},
   "outputs": [
    {
     "name": "stdout",
     "output_type": "stream",
     "text": [
      "1개월 전에 생긴 가게는 전체의 0.1607%이다.\n",
      "2개월 전에 생긴 가게는 전체의 0.2677%이다.\n",
      "3개월 전에 생긴 가게는 전체의 0.4936%이다.\n",
      "4개월 전에 생긴 가게는 전체의 0.6125%이다.\n",
      "5개월 전에 생긴 가게는 전체의 0.6800%이다.\n",
      "6개월 전에 생긴 가게는 전체의 0.8178%이다.\n",
      "7개월 전에 생긴 가게는 전체의 0.9782%이다.\n",
      "8개월 전에 생긴 가게는 전체의 1.1222%이다.\n",
      "9개월 전에 생긴 가게는 전체의 1.1425%이다.\n",
      "10개월 전에 생긴 가게는 전체의 1.2378%이다.\n",
      "11개월 전에 생긴 가게는 전체의 1.3293%이다.\n",
      "12개월 또는 그보다 더 전에 생긴 가게는 전체의 91.1576%이다.\n"
     ]
    }
   ],
   "source": [
    "print('1개월 전에 생긴 가게는 전체의 {:.4f}%이다.'.format(merchant[merchant['active_months_lag12'] == 1]['merchant_id'].count()/merchant.shape[0] *100))\n",
    "print('2개월 전에 생긴 가게는 전체의 {:.4f}%이다.'.format(merchant[merchant['active_months_lag12'] == 2]['merchant_id'].count()/merchant.shape[0] *100))\n",
    "print('3개월 전에 생긴 가게는 전체의 {:.4f}%이다.'.format(merchant[merchant['active_months_lag12'] == 3]['merchant_id'].count()/merchant.shape[0] *100))\n",
    "print('4개월 전에 생긴 가게는 전체의 {:.4f}%이다.'.format(merchant[merchant['active_months_lag12'] == 4]['merchant_id'].count()/merchant.shape[0] *100))\n",
    "print('5개월 전에 생긴 가게는 전체의 {:.4f}%이다.'.format(merchant[merchant['active_months_lag12'] == 5]['merchant_id'].count()/merchant.shape[0] *100))\n",
    "print('6개월 전에 생긴 가게는 전체의 {:.4f}%이다.'.format(merchant[merchant['active_months_lag12'] == 6]['merchant_id'].count()/merchant.shape[0] *100))\n",
    "print('7개월 전에 생긴 가게는 전체의 {:.4f}%이다.'.format(merchant[merchant['active_months_lag12'] == 7]['merchant_id'].count()/merchant.shape[0] *100))\n",
    "print('8개월 전에 생긴 가게는 전체의 {:.4f}%이다.'.format(merchant[merchant['active_months_lag12'] == 8]['merchant_id'].count()/merchant.shape[0] *100))\n",
    "print('9개월 전에 생긴 가게는 전체의 {:.4f}%이다.'.format(merchant[merchant['active_months_lag12'] == 9]['merchant_id'].count()/merchant.shape[0] *100))\n",
    "print('10개월 전에 생긴 가게는 전체의 {:.4f}%이다.'.format(merchant[merchant['active_months_lag12'] == 10]['merchant_id'].count()/merchant.shape[0] *100))\n",
    "print('11개월 전에 생긴 가게는 전체의 {:.4f}%이다.'.format(merchant[merchant['active_months_lag12'] == 11]['merchant_id'].count()/merchant.shape[0] *100))\n",
    "print('12개월 또는 그보다 더 전에 생긴 가게는 전체의 {:.4f}%이다.'.format(merchant[merchant['active_months_lag12'] == 12]['merchant_id'].count()/merchant.shape[0] *100))"
   ]
  },
  {
   "cell_type": "markdown",
   "metadata": {},
   "source": [
    "이걸 통해서 얼마나 최근에 생긴 가게인지 알 수 있겠다. <br>\n",
    "근데 last_active_month(기준 일자)를 알아야되는데... 그건 다 똑같나? 언제 확인한 값이지?"
   ]
  },
  {
   "cell_type": "markdown",
   "metadata": {},
   "source": [
    "#### ◀ 정리 ▶\n",
    "\n",
    "* [`avg_sales_lag3`, `avg_sales_lag6`, `avg_sales_lag12`, `category_2`] 결측치 있음\n",
    "* merchant_id : 중복되는 애들 어떻게 처리할지 고민\n",
    "* `subsector_id`와 `merchant_category_id` : 계층구조 + 모두 -1인 경우가 있는데 이건 아무래도 missing value인 것 같다.\n",
    "* `state_id`와 `city_id` : 계층구조라고 할 수 있을까?(-1이 25개의 서로 다른 `state_id`에 분포) + `state_id`=-1인 경우엔 `city_id`가 -1뿐. missing value인 듯!\n",
    "* `numerical_1/2`와 최근 거래량/수익은 관련이 있음.\n",
    "* 추후에 어떤 특징을 가져야 매출과 거래량이 많은지 확인할 것 or 비슷한 특징을 가진 가게들을 클러스터링\n",
    "* sales/purchases + 다른 특성들 - 더 알아볼 것\n",
    "* merchant의 last_active_month는 모두 동일? 알 수 있는 방법이 있나?\n",
    "* `avg_purchases_lag3/6/12`의 inf값은 max값으로 대체\n",
    "* **merchant table을 모델링에 어떻게 활용할 수 있을까?**"
   ]
  },
  {
   "cell_type": "code",
   "execution_count": null,
   "metadata": {},
   "outputs": [],
   "source": []
  },
  {
   "cell_type": "code",
   "execution_count": null,
   "metadata": {},
   "outputs": [],
   "source": []
  }
 ],
 "metadata": {
  "kernelspec": {
   "display_name": "Python 3",
   "language": "python",
   "name": "python3"
  },
  "language_info": {
   "codemirror_mode": {
    "name": "ipython",
    "version": 3
   },
   "file_extension": ".py",
   "mimetype": "text/x-python",
   "name": "python",
   "nbconvert_exporter": "python",
   "pygments_lexer": "ipython3",
   "version": "3.6.6"
  }
 },
 "nbformat": 4,
 "nbformat_minor": 1
}
