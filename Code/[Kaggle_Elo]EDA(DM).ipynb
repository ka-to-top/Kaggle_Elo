{
 "cells": [
  {
   "cell_type": "markdown",
   "metadata": {},
   "source": [
    "## 1. Introduction\n",
    "\n",
    "### 1.1 작업 환경 설정"
   ]
  },
  {
   "cell_type": "code",
   "execution_count": 1,
   "metadata": {},
   "outputs": [
    {
     "name": "stderr",
     "output_type": "stream",
     "text": [
      "Warning message:\n",
      "\"package 'tidyverse' was built under R version 3.4.4\"-- Attaching packages --------------------------------------- tidyverse 1.2.1 --\n",
      "√ ggplot2 2.2.1     √ purrr   0.2.4\n",
      "√ tibble  1.4.2     √ dplyr   0.7.4\n",
      "√ tidyr   0.8.1     √ stringr 1.2.0\n",
      "√ readr   1.1.1     √ forcats 0.3.0\n",
      "Warning message:\n",
      "\"package 'tibble' was built under R version 3.4.4\"Warning message:\n",
      "\"package 'tidyr' was built under R version 3.4.4\"Warning message:\n",
      "\"package 'forcats' was built under R version 3.4.4\"-- Conflicts ------------------------------------------ tidyverse_conflicts() --\n",
      "x dplyr::filter() masks stats::filter()\n",
      "x dplyr::lag()    masks stats::lag()\n",
      "\n",
      "Attaching package: 'data.table'\n",
      "\n",
      "The following objects are masked from 'package:dplyr':\n",
      "\n",
      "    between, first, last\n",
      "\n",
      "The following object is masked from 'package:purrr':\n",
      "\n",
      "    transpose\n",
      "\n"
     ]
    }
   ],
   "source": [
    "# 패키지 로드\n",
    "library(tidyverse) # dplyr, ggplot2 등을 포함하는 패키지들의 패키지\n",
    "library(data.table) # 데이터 핸들링\n",
    "\n",
    "# 작업 디렉토리 설정\n",
    "setwd('C:/Users/supre.000/Desktop/elo-merchant-category-recommendation')"
   ]
  },
  {
   "cell_type": "code",
   "execution_count": 2,
   "metadata": {},
   "outputs": [
    {
     "name": "stdout",
     "output_type": "stream",
     "text": [
      "Read 29112361 rows and 14 (of 14) columns from 2.650 GB file in 00:01:49\n"
     ]
    }
   ],
   "source": [
    "# 파일 로드 (1)\n",
    "trans <- fread('historical_transactions.csv') # 크기(2.65GB)가 크므로, 파일 불러올 때 주의!"
   ]
  },
  {
   "cell_type": "code",
   "execution_count": 3,
   "metadata": {},
   "outputs": [
    {
     "name": "stdout",
     "output_type": "stream",
     "text": [
      "Read 334696 rows and 22 (of 22) columns from 0.047 GB file in 00:00:03\n",
      "Read 1963031 rows and 14 (of 14) columns from 0.177 GB file in 00:00:05\n"
     ]
    }
   ],
   "source": [
    "# 파일 로드 (2)\n",
    "merchants <- fread('merchants.csv')\n",
    "n_merchants <- fread('new_merchant_transactions.csv')\n",
    "train <- fread('train.csv')\n",
    "test <- fread('test.csv')\n",
    "sub <- fread('sample_submission.csv')"
   ]
  },
  {
   "cell_type": "markdown",
   "metadata": {},
   "source": [
    "Elo 경진대회에서 제공하는 파일은 총 6가지로, 각각은 다음에 관한 데이터다.\n",
    "\n",
    "- `train.csv`: 훈련 데이터(training set)\n",
    "- `test.csv`: 시험 데이터(test set)\n",
    "- `sample_submission.csv`: 제출 파일 양식 예시\n",
    "- `historical_transactions.csv`: 각 `card_id`별 3개월 간 거래 데이터\n",
    "- `merchants.csv`: 상점 고유번호(`merchant_id`) 기준으로 작성된 상점 관련 메타 데이터\n",
    "- `new_merchant_transactions.csv`: 거래 데이터에 포함되지 않은 상점들에서 발생한 2개월 간 거래 데이터"
   ]
  },
  {
   "cell_type": "markdown",
   "metadata": {},
   "source": [
    "Elo 경진대회는 **카드별 충성도 점수를 보다 정확히 예측하는 것**을 목표로 한다.  먼저 제출해야 하는 파일을 살펴보자."
   ]
  },
  {
   "cell_type": "code",
   "execution_count": 4,
   "metadata": {},
   "outputs": [
    {
     "name": "stdout",
     "output_type": "stream",
     "text": [
      "Classes 'data.table' and 'data.frame':\t123623 obs. of  2 variables:\n",
      " $ card_id: chr  \"C_ID_0ab67a22ab\" \"C_ID_130fd0cbdd\" \"C_ID_b709037bc5\" \"C_ID_d27d835a9f\" ...\n",
      " $ target : int  0 0 0 0 0 0 0 0 0 0 ...\n",
      " - attr(*, \".internal.selfref\")=<externalptr> \n"
     ]
    },
    {
     "data": {
      "text/html": [
       "123623"
      ],
      "text/latex": [
       "123623"
      ],
      "text/markdown": [
       "123623"
      ],
      "text/plain": [
       "[1] 123623"
      ]
     },
     "metadata": {},
     "output_type": "display_data"
    }
   ],
   "source": [
    "# 제출 양식 구조 확인\n",
    "str(sub)\n",
    "\n",
    "# 충성도 점수를 예측해야 하는 카드 개수 \n",
    "sub %>%\n",
    "    n_distinct('card_id')"
   ]
  },
  {
   "cell_type": "markdown",
   "metadata": {},
   "source": [
    "확인 결과, 123,623개 카드 고유번호의 충성도 점수를 예측해야 하는 문제로 나타났다.\n",
    "\n",
    "### 1.2 데이터 구조 확인\n",
    "\n",
    "본격적인 데이터 탐색에 앞서 전반적인 데이터 구조를 확인해보자.\n",
    "\n",
    "#### 1.2.1 훈련 데이터(`train.csv`)\n",
    "\n",
    "훈련 데이터에는 총 6개의 변수가 포함되어 있다.\n",
    "\n",
    "- `first_active_month`: 첫 구매가 이루어진 연-월 정보(YYYY-MM)\n",
    "- `card_id`: 카드 고유번호\n",
    "- `feature_1`: 익명화 처리된 카드 관련 범주형 변수 1\n",
    "- `feature_2`: 익명화 처리된 카드 관련 범주형 변수 2\n",
    "- `feature_3`: 익명화 처리된 카드 관련 범주형 변수 3\n",
    "- `target`: 충성도 점수"
   ]
  },
  {
   "cell_type": "code",
   "execution_count": 5,
   "metadata": {},
   "outputs": [
    {
     "name": "stdout",
     "output_type": "stream",
     "text": [
      "Classes 'data.table' and 'data.frame':\t201917 obs. of  6 variables:\n",
      " $ first_active_month: chr  \"2017-06\" \"2017-01\" \"2016-08\" \"2017-09\" ...\n",
      " $ card_id           : chr  \"C_ID_92a2005557\" \"C_ID_3d0044924f\" \"C_ID_d639edf6cd\" \"C_ID_186d6a6901\" ...\n",
      " $ feature_1         : int  5 4 2 4 1 4 3 3 2 2 ...\n",
      " $ feature_2         : int  2 1 2 3 3 2 2 2 1 2 ...\n",
      " $ feature_3         : int  1 0 0 0 0 0 1 1 0 0 ...\n",
      " $ target            : num  -0.82 0.393 0.688 0.142 -0.16 ...\n",
      " - attr(*, \".internal.selfref\")=<externalptr> \n"
     ]
    }
   ],
   "source": [
    "str(train)"
   ]
  },
  {
   "cell_type": "code",
   "execution_count": 6,
   "metadata": {},
   "outputs": [
    {
     "data": {
      "text/html": [
       "<table>\n",
       "<thead><tr><th scope=col>first_active_month</th><th scope=col>card_id</th><th scope=col>feature_1</th><th scope=col>feature_2</th><th scope=col>feature_3</th><th scope=col>target</th></tr></thead>\n",
       "<tbody>\n",
       "\t<tr><td>2017-06        </td><td>C_ID_92a2005557</td><td>5              </td><td>2              </td><td>1              </td><td>-0.8202826     </td></tr>\n",
       "\t<tr><td>2017-01        </td><td>C_ID_3d0044924f</td><td>4              </td><td>1              </td><td>0              </td><td> 0.3929132     </td></tr>\n",
       "\t<tr><td>2016-08        </td><td>C_ID_d639edf6cd</td><td>2              </td><td>2              </td><td>0              </td><td> 0.6880560     </td></tr>\n",
       "\t<tr><td>2017-09        </td><td>C_ID_186d6a6901</td><td>4              </td><td>3              </td><td>0              </td><td> 0.1424952     </td></tr>\n",
       "\t<tr><td>2017-11        </td><td>C_ID_cdbd2c0db2</td><td>1              </td><td>3              </td><td>0              </td><td>-0.1597492     </td></tr>\n",
       "\t<tr><td>2016-09        </td><td>C_ID_0894217f2f</td><td>4              </td><td>2              </td><td>0              </td><td> 0.8715853     </td></tr>\n",
       "</tbody>\n",
       "</table>\n"
      ],
      "text/latex": [
       "\\begin{tabular}{r|llllll}\n",
       " first\\_active\\_month & card\\_id & feature\\_1 & feature\\_2 & feature\\_3 & target\\\\\n",
       "\\hline\n",
       "\t 2017-06             & C\\_ID\\_92a2005557 & 5                   & 2                   & 1                   & -0.8202826         \\\\\n",
       "\t 2017-01             & C\\_ID\\_3d0044924f & 4                   & 1                   & 0                   &  0.3929132         \\\\\n",
       "\t 2016-08             & C\\_ID\\_d639edf6cd & 2                   & 2                   & 0                   &  0.6880560         \\\\\n",
       "\t 2017-09             & C\\_ID\\_186d6a6901 & 4                   & 3                   & 0                   &  0.1424952         \\\\\n",
       "\t 2017-11             & C\\_ID\\_cdbd2c0db2 & 1                   & 3                   & 0                   & -0.1597492         \\\\\n",
       "\t 2016-09             & C\\_ID\\_0894217f2f & 4                   & 2                   & 0                   &  0.8715853         \\\\\n",
       "\\end{tabular}\n"
      ],
      "text/markdown": [
       "\n",
       "first_active_month | card_id | feature_1 | feature_2 | feature_3 | target | \n",
       "|---|---|---|---|---|---|\n",
       "| 2017-06         | C_ID_92a2005557 | 5               | 2               | 1               | -0.8202826      | \n",
       "| 2017-01         | C_ID_3d0044924f | 4               | 1               | 0               |  0.3929132      | \n",
       "| 2016-08         | C_ID_d639edf6cd | 2               | 2               | 0               |  0.6880560      | \n",
       "| 2017-09         | C_ID_186d6a6901 | 4               | 3               | 0               |  0.1424952      | \n",
       "| 2017-11         | C_ID_cdbd2c0db2 | 1               | 3               | 0               | -0.1597492      | \n",
       "| 2016-09         | C_ID_0894217f2f | 4               | 2               | 0               |  0.8715853      | \n",
       "\n",
       "\n"
      ],
      "text/plain": [
       "  first_active_month card_id         feature_1 feature_2 feature_3 target    \n",
       "1 2017-06            C_ID_92a2005557 5         2         1         -0.8202826\n",
       "2 2017-01            C_ID_3d0044924f 4         1         0          0.3929132\n",
       "3 2016-08            C_ID_d639edf6cd 2         2         0          0.6880560\n",
       "4 2017-09            C_ID_186d6a6901 4         3         0          0.1424952\n",
       "5 2017-11            C_ID_cdbd2c0db2 1         3         0         -0.1597492\n",
       "6 2016-09            C_ID_0894217f2f 4         2         0          0.8715853"
      ]
     },
     "metadata": {},
     "output_type": "display_data"
    }
   ],
   "source": [
    "head(train)"
   ]
  },
  {
   "cell_type": "markdown",
   "metadata": {},
   "source": [
    "#### 1.2.2 시험 데이터(`test.csv`)\n",
    "\n",
    "시험 데이터에는 훈련 데이터와 비교했을 때, `target` 변수를 제외한 나머지 다섯 개 변수가 포함되어 있다."
   ]
  },
  {
   "cell_type": "code",
   "execution_count": 7,
   "metadata": {},
   "outputs": [
    {
     "name": "stdout",
     "output_type": "stream",
     "text": [
      "Classes 'data.table' and 'data.frame':\t123623 obs. of  5 variables:\n",
      " $ first_active_month: chr  \"2017-04\" \"2017-01\" \"2017-08\" \"2017-12\" ...\n",
      " $ card_id           : chr  \"C_ID_0ab67a22ab\" \"C_ID_130fd0cbdd\" \"C_ID_b709037bc5\" \"C_ID_d27d835a9f\" ...\n",
      " $ feature_1         : int  3 2 5 2 5 5 1 3 4 5 ...\n",
      " $ feature_2         : int  3 3 1 1 1 1 2 1 3 1 ...\n",
      " $ feature_3         : int  1 0 1 0 1 1 0 1 0 1 ...\n",
      " - attr(*, \".internal.selfref\")=<externalptr> \n"
     ]
    }
   ],
   "source": [
    "str(test)"
   ]
  },
  {
   "cell_type": "code",
   "execution_count": 8,
   "metadata": {},
   "outputs": [
    {
     "data": {
      "text/html": [
       "<table>\n",
       "<thead><tr><th scope=col>first_active_month</th><th scope=col>card_id</th><th scope=col>feature_1</th><th scope=col>feature_2</th><th scope=col>feature_3</th></tr></thead>\n",
       "<tbody>\n",
       "\t<tr><td>2017-04        </td><td>C_ID_0ab67a22ab</td><td>3              </td><td>3              </td><td>1              </td></tr>\n",
       "\t<tr><td>2017-01        </td><td>C_ID_130fd0cbdd</td><td>2              </td><td>3              </td><td>0              </td></tr>\n",
       "\t<tr><td>2017-08        </td><td>C_ID_b709037bc5</td><td>5              </td><td>1              </td><td>1              </td></tr>\n",
       "\t<tr><td>2017-12        </td><td>C_ID_d27d835a9f</td><td>2              </td><td>1              </td><td>0              </td></tr>\n",
       "\t<tr><td>2015-12        </td><td>C_ID_2b5e3df5c2</td><td>5              </td><td>1              </td><td>1              </td></tr>\n",
       "\t<tr><td>2017-07        </td><td>C_ID_5814b4f13c</td><td>5              </td><td>1              </td><td>1              </td></tr>\n",
       "</tbody>\n",
       "</table>\n"
      ],
      "text/latex": [
       "\\begin{tabular}{r|lllll}\n",
       " first\\_active\\_month & card\\_id & feature\\_1 & feature\\_2 & feature\\_3\\\\\n",
       "\\hline\n",
       "\t 2017-04             & C\\_ID\\_0ab67a22ab & 3                   & 3                   & 1                  \\\\\n",
       "\t 2017-01             & C\\_ID\\_130fd0cbdd & 2                   & 3                   & 0                  \\\\\n",
       "\t 2017-08             & C\\_ID\\_b709037bc5 & 5                   & 1                   & 1                  \\\\\n",
       "\t 2017-12             & C\\_ID\\_d27d835a9f & 2                   & 1                   & 0                  \\\\\n",
       "\t 2015-12             & C\\_ID\\_2b5e3df5c2 & 5                   & 1                   & 1                  \\\\\n",
       "\t 2017-07             & C\\_ID\\_5814b4f13c & 5                   & 1                   & 1                  \\\\\n",
       "\\end{tabular}\n"
      ],
      "text/markdown": [
       "\n",
       "first_active_month | card_id | feature_1 | feature_2 | feature_3 | \n",
       "|---|---|---|---|---|---|\n",
       "| 2017-04         | C_ID_0ab67a22ab | 3               | 3               | 1               | \n",
       "| 2017-01         | C_ID_130fd0cbdd | 2               | 3               | 0               | \n",
       "| 2017-08         | C_ID_b709037bc5 | 5               | 1               | 1               | \n",
       "| 2017-12         | C_ID_d27d835a9f | 2               | 1               | 0               | \n",
       "| 2015-12         | C_ID_2b5e3df5c2 | 5               | 1               | 1               | \n",
       "| 2017-07         | C_ID_5814b4f13c | 5               | 1               | 1               | \n",
       "\n",
       "\n"
      ],
      "text/plain": [
       "  first_active_month card_id         feature_1 feature_2 feature_3\n",
       "1 2017-04            C_ID_0ab67a22ab 3         3         1        \n",
       "2 2017-01            C_ID_130fd0cbdd 2         3         0        \n",
       "3 2017-08            C_ID_b709037bc5 5         1         1        \n",
       "4 2017-12            C_ID_d27d835a9f 2         1         0        \n",
       "5 2015-12            C_ID_2b5e3df5c2 5         1         1        \n",
       "6 2017-07            C_ID_5814b4f13c 5         1         1        "
      ]
     },
     "metadata": {},
     "output_type": "display_data"
    }
   ],
   "source": [
    "head(test)"
   ]
  },
  {
   "cell_type": "markdown",
   "metadata": {},
   "source": [
    "#### 1.2.3 거래 데이터(`historical_transactions.csv`)\n",
    "\n",
    "거래 데이터에는 총 14개의 변수가 포함되어 있다.\n",
    "\n",
    "- `authorized_flag`: 구매 승인 여부(승인된 경우 'Y', 거절된 경우 'N')\n",
    "- `card_id`: 카드 고유번호\n",
    "- `state_id`: 국가(state)? 혹은 주(state) 고유번호\n",
    "- `city_id`: 익명화 처리된 도시 고유번호\n",
    "- `category_1`: 익명화 처리된 범주 1\n",
    "- `category_2`: 익명화 처리된 범주 2\n",
    "- `category_3`: 익명화 처리된 범주 3\n",
    "- `installments`: 할부 개월 수\n",
    "- `merchant_category_id`: 상점 분류 카테고리 고유번호\n",
    "- `subsector_id`: 상점 분류 그룹 카테고리 고유번호\n",
    "- `month_lag`: 기준일 시점으로부터 경과한 개월 수\n",
    "- `purchase_amount`: 표준화된 구매 금액\n",
    "- `purchase_date`: 구매 일자"
   ]
  },
  {
   "cell_type": "code",
   "execution_count": 9,
   "metadata": {},
   "outputs": [
    {
     "name": "stdout",
     "output_type": "stream",
     "text": [
      "Classes 'data.table' and 'data.frame':\t29112361 obs. of  14 variables:\n",
      " $ authorized_flag     : chr  \"Y\" \"Y\" \"Y\" \"Y\" ...\n",
      " $ card_id             : chr  \"C_ID_4e6213e9bc\" \"C_ID_4e6213e9bc\" \"C_ID_4e6213e9bc\" \"C_ID_4e6213e9bc\" ...\n",
      " $ city_id             : int  88 88 88 88 88 333 88 3 88 88 ...\n",
      " $ category_1          : chr  \"N\" \"N\" \"N\" \"N\" ...\n",
      " $ installments        : int  0 0 0 0 0 0 0 0 0 0 ...\n",
      " $ category_3          : chr  \"A\" \"A\" \"A\" \"A\" ...\n",
      " $ merchant_category_id: int  80 367 80 560 80 80 278 80 80 80 ...\n",
      " $ merchant_id         : chr  \"M_ID_e020e9b302\" \"M_ID_86ec983688\" \"M_ID_979ed661fc\" \"M_ID_e6d5ae8ea6\" ...\n",
      " $ month_lag           : int  -8 -7 -6 -5 -11 0 -11 -3 -8 -11 ...\n",
      " $ purchase_amount     : num  -0.703 -0.733 -0.72 -0.735 -0.723 ...\n",
      " $ purchase_date       : chr  \"2017-06-25 15:33:07\" \"2017-07-15 12:10:45\" \"2017-08-09 22:04:29\" \"2017-09-02 10:06:26\" ...\n",
      " $ category_2          : num  1 1 1 1 1 1 1 1 1 1 ...\n",
      " $ state_id            : int  16 16 16 16 16 9 16 16 16 16 ...\n",
      " $ subsector_id        : int  37 16 37 34 37 37 37 37 37 37 ...\n",
      " - attr(*, \".internal.selfref\")=<externalptr> \n"
     ]
    }
   ],
   "source": [
    "str(trans)"
   ]
  },
  {
   "cell_type": "code",
   "execution_count": 10,
   "metadata": {},
   "outputs": [
    {
     "data": {
      "text/html": [
       "<table>\n",
       "<thead><tr><th scope=col>authorized_flag</th><th scope=col>card_id</th><th scope=col>city_id</th><th scope=col>category_1</th><th scope=col>installments</th><th scope=col>category_3</th><th scope=col>merchant_category_id</th><th scope=col>merchant_id</th><th scope=col>month_lag</th><th scope=col>purchase_amount</th><th scope=col>purchase_date</th><th scope=col>category_2</th><th scope=col>state_id</th><th scope=col>subsector_id</th></tr></thead>\n",
       "<tbody>\n",
       "\t<tr><td>Y                  </td><td>C_ID_4e6213e9bc    </td><td> 88                </td><td>N                  </td><td>0                  </td><td>A                  </td><td> 80                </td><td>M_ID_e020e9b302    </td><td> -8                </td><td>-0.7033309         </td><td>2017-06-25 15:33:07</td><td>1                  </td><td>16                 </td><td>37                 </td></tr>\n",
       "\t<tr><td>Y                  </td><td>C_ID_4e6213e9bc    </td><td> 88                </td><td>N                  </td><td>0                  </td><td>A                  </td><td>367                </td><td>M_ID_86ec983688    </td><td> -7                </td><td>-0.7331285         </td><td>2017-07-15 12:10:45</td><td>1                  </td><td>16                 </td><td>16                 </td></tr>\n",
       "\t<tr><td>Y                  </td><td>C_ID_4e6213e9bc    </td><td> 88                </td><td>N                  </td><td>0                  </td><td>A                  </td><td> 80                </td><td>M_ID_979ed661fc    </td><td> -6                </td><td>-0.7203860         </td><td>2017-08-09 22:04:29</td><td>1                  </td><td>16                 </td><td>37                 </td></tr>\n",
       "\t<tr><td>Y                  </td><td>C_ID_4e6213e9bc    </td><td> 88                </td><td>N                  </td><td>0                  </td><td>A                  </td><td>560                </td><td>M_ID_e6d5ae8ea6    </td><td> -5                </td><td>-0.7353524         </td><td>2017-09-02 10:06:26</td><td>1                  </td><td>16                 </td><td>34                 </td></tr>\n",
       "\t<tr><td>Y                  </td><td>C_ID_4e6213e9bc    </td><td> 88                </td><td>N                  </td><td>0                  </td><td>A                  </td><td> 80                </td><td>M_ID_e020e9b302    </td><td>-11                </td><td>-0.7228654         </td><td>2017-03-10 01:14:19</td><td>1                  </td><td>16                 </td><td>37                 </td></tr>\n",
       "\t<tr><td>Y                  </td><td>C_ID_4e6213e9bc    </td><td>333                </td><td>N                  </td><td>0                  </td><td>A                  </td><td> 80                </td><td>M_ID_50af771f8d    </td><td>  0                </td><td>-0.7348866         </td><td>2018-02-24 08:45:05</td><td>1                  </td><td> 9                 </td><td>37                 </td></tr>\n",
       "</tbody>\n",
       "</table>\n"
      ],
      "text/latex": [
       "\\begin{tabular}{r|llllllllllllll}\n",
       " authorized\\_flag & card\\_id & city\\_id & category\\_1 & installments & category\\_3 & merchant\\_category\\_id & merchant\\_id & month\\_lag & purchase\\_amount & purchase\\_date & category\\_2 & state\\_id & subsector\\_id\\\\\n",
       "\\hline\n",
       "\t Y                   & C\\_ID\\_4e6213e9bc &  88                 & N                   & 0                   & A                   &  80                 & M\\_ID\\_e020e9b302 &  -8                 & -0.7033309          & 2017-06-25 15:33:07 & 1                   & 16                  & 37                 \\\\\n",
       "\t Y                   & C\\_ID\\_4e6213e9bc &  88                 & N                   & 0                   & A                   & 367                 & M\\_ID\\_86ec983688 &  -7                 & -0.7331285          & 2017-07-15 12:10:45 & 1                   & 16                  & 16                 \\\\\n",
       "\t Y                   & C\\_ID\\_4e6213e9bc &  88                 & N                   & 0                   & A                   &  80                 & M\\_ID\\_979ed661fc &  -6                 & -0.7203860          & 2017-08-09 22:04:29 & 1                   & 16                  & 37                 \\\\\n",
       "\t Y                   & C\\_ID\\_4e6213e9bc &  88                 & N                   & 0                   & A                   & 560                 & M\\_ID\\_e6d5ae8ea6 &  -5                 & -0.7353524          & 2017-09-02 10:06:26 & 1                   & 16                  & 34                 \\\\\n",
       "\t Y                   & C\\_ID\\_4e6213e9bc &  88                 & N                   & 0                   & A                   &  80                 & M\\_ID\\_e020e9b302 & -11                 & -0.7228654          & 2017-03-10 01:14:19 & 1                   & 16                  & 37                 \\\\\n",
       "\t Y                   & C\\_ID\\_4e6213e9bc & 333                 & N                   & 0                   & A                   &  80                 & M\\_ID\\_50af771f8d &   0                 & -0.7348866          & 2018-02-24 08:45:05 & 1                   &  9                  & 37                 \\\\\n",
       "\\end{tabular}\n"
      ],
      "text/markdown": [
       "\n",
       "authorized_flag | card_id | city_id | category_1 | installments | category_3 | merchant_category_id | merchant_id | month_lag | purchase_amount | purchase_date | category_2 | state_id | subsector_id | \n",
       "|---|---|---|---|---|---|\n",
       "| Y                   | C_ID_4e6213e9bc     |  88                 | N                   | 0                   | A                   |  80                 | M_ID_e020e9b302     |  -8                 | -0.7033309          | 2017-06-25 15:33:07 | 1                   | 16                  | 37                  | \n",
       "| Y                   | C_ID_4e6213e9bc     |  88                 | N                   | 0                   | A                   | 367                 | M_ID_86ec983688     |  -7                 | -0.7331285          | 2017-07-15 12:10:45 | 1                   | 16                  | 16                  | \n",
       "| Y                   | C_ID_4e6213e9bc     |  88                 | N                   | 0                   | A                   |  80                 | M_ID_979ed661fc     |  -6                 | -0.7203860          | 2017-08-09 22:04:29 | 1                   | 16                  | 37                  | \n",
       "| Y                   | C_ID_4e6213e9bc     |  88                 | N                   | 0                   | A                   | 560                 | M_ID_e6d5ae8ea6     |  -5                 | -0.7353524          | 2017-09-02 10:06:26 | 1                   | 16                  | 34                  | \n",
       "| Y                   | C_ID_4e6213e9bc     |  88                 | N                   | 0                   | A                   |  80                 | M_ID_e020e9b302     | -11                 | -0.7228654          | 2017-03-10 01:14:19 | 1                   | 16                  | 37                  | \n",
       "| Y                   | C_ID_4e6213e9bc     | 333                 | N                   | 0                   | A                   |  80                 | M_ID_50af771f8d     |   0                 | -0.7348866          | 2018-02-24 08:45:05 | 1                   |  9                  | 37                  | \n",
       "\n",
       "\n"
      ],
      "text/plain": [
       "  authorized_flag card_id         city_id category_1 installments category_3\n",
       "1 Y               C_ID_4e6213e9bc  88     N          0            A         \n",
       "2 Y               C_ID_4e6213e9bc  88     N          0            A         \n",
       "3 Y               C_ID_4e6213e9bc  88     N          0            A         \n",
       "4 Y               C_ID_4e6213e9bc  88     N          0            A         \n",
       "5 Y               C_ID_4e6213e9bc  88     N          0            A         \n",
       "6 Y               C_ID_4e6213e9bc 333     N          0            A         \n",
       "  merchant_category_id merchant_id     month_lag purchase_amount\n",
       "1  80                  M_ID_e020e9b302  -8       -0.7033309     \n",
       "2 367                  M_ID_86ec983688  -7       -0.7331285     \n",
       "3  80                  M_ID_979ed661fc  -6       -0.7203860     \n",
       "4 560                  M_ID_e6d5ae8ea6  -5       -0.7353524     \n",
       "5  80                  M_ID_e020e9b302 -11       -0.7228654     \n",
       "6  80                  M_ID_50af771f8d   0       -0.7348866     \n",
       "  purchase_date       category_2 state_id subsector_id\n",
       "1 2017-06-25 15:33:07 1          16       37          \n",
       "2 2017-07-15 12:10:45 1          16       16          \n",
       "3 2017-08-09 22:04:29 1          16       37          \n",
       "4 2017-09-02 10:06:26 1          16       34          \n",
       "5 2017-03-10 01:14:19 1          16       37          \n",
       "6 2018-02-24 08:45:05 1           9       37          "
      ]
     },
     "metadata": {},
     "output_type": "display_data"
    }
   ],
   "source": [
    "head(trans)"
   ]
  },
  {
   "cell_type": "markdown",
   "metadata": {},
   "source": [
    "`month_lag` 를 확인한 결과, 기준 연-월(reference date)은 2018년 2월로 보인다.  "
   ]
  },
  {
   "cell_type": "markdown",
   "metadata": {},
   "source": [
    "#### 1.2.4 상점 관련 메타 데이터(merchants.csv)\n",
    "\n",
    "상점 관련 메타 데이터\n",
    "\n"
   ]
  },
  {
   "cell_type": "markdown",
   "metadata": {},
   "source": [
    "## 2. EDA\n",
    "\n",
    "### 2.1 충성도 점수의 분포는 어떠한가?"
   ]
  },
  {
   "cell_type": "markdown",
   "metadata": {},
   "source": [
    "### 2.2\n",
    "\n",
    "\n",
    "### 2.3"
   ]
  }
 ],
 "metadata": {
  "kernelspec": {
   "display_name": "R",
   "language": "R",
   "name": "ir"
  },
  "language_info": {
   "codemirror_mode": "r",
   "file_extension": ".r",
   "mimetype": "text/x-r-source",
   "name": "R",
   "pygments_lexer": "r",
   "version": "3.4.3"
  }
 },
 "nbformat": 4,
 "nbformat_minor": 2
}
